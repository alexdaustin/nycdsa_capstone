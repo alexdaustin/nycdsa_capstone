{
 "cells": [
  {
   "cell_type": "markdown",
   "metadata": {},
   "source": [
    "### This notebook uses the library implicit for a latent factor model (matrix factorization with alternating least squares approach) to a user-user system. This is based on the paper http://yifanhu.net/PUB/cf.pdf"
   ]
  },
  {
   "cell_type": "code",
   "execution_count": 37,
   "metadata": {},
   "outputs": [],
   "source": [
    "import numpy as np\n",
    "import pandas as pd\n",
    "from datetime import datetime\n",
    "import re\n",
    "import itertools\n",
    "import time\n",
    "import implicit\n",
    "from scipy import sparse\n",
    "from scipy.sparse import csr_matrix"
   ]
  },
  {
   "cell_type": "code",
   "execution_count": 2,
   "metadata": {},
   "outputs": [
    {
     "data": {
      "text/plain": [
       "(112256, 6)"
      ]
     },
     "execution_count": 2,
     "metadata": {},
     "output_type": "execute_result"
    }
   ],
   "source": [
    "sessions = pd.read_csv('sessions.csv', index_col=0)\n",
    "sessions.rename(columns={'SessionID':'SessionId'}, inplace=True)\n",
    "sessions.shape"
   ]
  },
  {
   "cell_type": "markdown",
   "metadata": {},
   "source": [
    "**From the documentation**: *TimeStamp – long integer value specifying the UTC date and time of the arrival of a request, coded as the number of 100-nanosecond intervals that have elapsed since 00:00:00 UTC on 1st January, 1 A.D.*"
   ]
  },
  {
   "cell_type": "code",
   "execution_count": 3,
   "metadata": {
    "scrolled": false
   },
   "outputs": [
    {
     "data": {
      "text/html": [
       "<div>\n",
       "<style scoped>\n",
       "    .dataframe tbody tr th:only-of-type {\n",
       "        vertical-align: middle;\n",
       "    }\n",
       "\n",
       "    .dataframe tbody tr th {\n",
       "        vertical-align: top;\n",
       "    }\n",
       "\n",
       "    .dataframe thead th {\n",
       "        text-align: right;\n",
       "    }\n",
       "</style>\n",
       "<table border=\"1\" class=\"dataframe\">\n",
       "  <thead>\n",
       "    <tr style=\"text-align: right;\">\n",
       "      <th></th>\n",
       "      <th>SessionId</th>\n",
       "      <th>IpId</th>\n",
       "      <th>TimeStamp</th>\n",
       "      <th>Event</th>\n",
       "      <th>Action</th>\n",
       "      <th>Product</th>\n",
       "    </tr>\n",
       "  </thead>\n",
       "  <tbody>\n",
       "    <tr>\n",
       "      <th>0</th>\n",
       "      <td>0</td>\n",
       "      <td>100095PL</td>\n",
       "      <td>2020-01-13 21:35:36</td>\n",
       "      <td>Leave</td>\n",
       "      <td>NaN</td>\n",
       "      <td>NaN</td>\n",
       "    </tr>\n",
       "    <tr>\n",
       "      <th>1</th>\n",
       "      <td>1</td>\n",
       "      <td>100095PL</td>\n",
       "      <td>2020-04-18 16:14:40</td>\n",
       "      <td>Arrive</td>\n",
       "      <td>NaN</td>\n",
       "      <td>NaN</td>\n",
       "    </tr>\n",
       "    <tr>\n",
       "      <th>2</th>\n",
       "      <td>1</td>\n",
       "      <td>100095PL</td>\n",
       "      <td>2020-04-18 16:15:26</td>\n",
       "      <td>NaN</td>\n",
       "      <td>add_to_cart</td>\n",
       "      <td>p-9967</td>\n",
       "    </tr>\n",
       "    <tr>\n",
       "      <th>3</th>\n",
       "      <td>1</td>\n",
       "      <td>100095PL</td>\n",
       "      <td>2020-04-18 16:33:07</td>\n",
       "      <td>NaN</td>\n",
       "      <td>order</td>\n",
       "      <td>NaN</td>\n",
       "    </tr>\n",
       "    <tr>\n",
       "      <th>4</th>\n",
       "      <td>1</td>\n",
       "      <td>100095PL</td>\n",
       "      <td>2020-04-18 16:34:25</td>\n",
       "      <td>Leave</td>\n",
       "      <td>NaN</td>\n",
       "      <td>NaN</td>\n",
       "    </tr>\n",
       "  </tbody>\n",
       "</table>\n",
       "</div>"
      ],
      "text/plain": [
       "   SessionId      IpId           TimeStamp   Event       Action Product\n",
       "0          0  100095PL 2020-01-13 21:35:36   Leave          NaN     NaN\n",
       "1          1  100095PL 2020-04-18 16:14:40  Arrive          NaN     NaN\n",
       "2          1  100095PL 2020-04-18 16:15:26     NaN  add_to_cart  p-9967\n",
       "3          1  100095PL 2020-04-18 16:33:07     NaN        order     NaN\n",
       "4          1  100095PL 2020-04-18 16:34:25   Leave          NaN     NaN"
      ]
     },
     "execution_count": 3,
     "metadata": {},
     "output_type": "execute_result"
    }
   ],
   "source": [
    "seconds = (datetime(1970,1,1)-datetime(1,1,1)).total_seconds()\n",
    "ticks = seconds * 10**7\n",
    "sessions['TimeStamp'] = pd.to_datetime((sessions['TimeStamp']-ticks)*100)\n",
    "sessions.head()"
   ]
  },
  {
   "cell_type": "code",
   "execution_count": 4,
   "metadata": {},
   "outputs": [],
   "source": [
    "train = sessions[sessions['TimeStamp']<=datetime(2020,3,31,23,59,59)]\n",
    "test = sessions[sessions['TimeStamp']>datetime(2020,3,31,23,59,59)]"
   ]
  },
  {
   "cell_type": "code",
   "execution_count": 7,
   "metadata": {
    "scrolled": true
   },
   "outputs": [
    {
     "name": "stdout",
     "output_type": "stream",
     "text": [
      "(4038,)\n"
     ]
    },
    {
     "data": {
      "text/plain": [
       "array(['p-7414', 'p-6769', 'p-4466', ..., 'p-10522', 'p-2788', 'p-8202'],\n",
       "      dtype=object)"
      ]
     },
     "execution_count": 7,
     "metadata": {},
     "output_type": "execute_result"
    }
   ],
   "source": [
    "items = train['Product'].dropna().unique()\n",
    "print(items.shape)\n",
    "items"
   ]
  },
  {
   "cell_type": "code",
   "execution_count": 18,
   "metadata": {
    "scrolled": true
   },
   "outputs": [],
   "source": [
    "sessionFlags = pd.DataFrame()\n",
    "sessionFlags['Add'] = train.groupby('SessionId')['Action'].apply(lambda y: 'add_to_cart' in set(y))\n",
    "sessionFlags['Remove'] = train.groupby('SessionId')['Action'].apply(lambda y: 'remove_from_cart' in set(y))\n",
    "sessionFlags['Delete'] = train.groupby('SessionId')['Action'].apply(lambda y: 'delete_cart' in set(y))\n",
    "sessionFlags['Order'] = train.groupby('SessionId')['Action'].apply(lambda y: 'order' in set(y))\n",
    "sessionFlags['Change'] = train.groupby('SessionId')['Action'].apply(lambda y: 'change_order' in set(y))"
   ]
  },
  {
   "cell_type": "markdown",
   "metadata": {},
   "source": [
    "Since we are going to use the package 'implicit' we need to create a sparse item-user matrix. The matrix entries will be the confidence we have in the user preference for that item. Preferences are binary, and are based on implicit feedback, in our case based on 'action' information."
   ]
  },
  {
   "cell_type": "code",
   "execution_count": 24,
   "metadata": {},
   "outputs": [],
   "source": [
    "def userRating(x):\n",
    "    if x['Add'] and x['Order'] and not x['Remove'] and not x['Delete'] and not x['Change']:\n",
    "        return 5\n",
    "    elif x['Add'] and x['Order'] and not x['Remove'] and not x['Delete']:\n",
    "        return 4\n",
    "    elif x['Add'] and x['Order'] and not x['Delete']:\n",
    "        return 3\n",
    "    elif x['Add'] and x['Order']:\n",
    "        return 2\n",
    "    elif x['Add']:\n",
    "        return 1"
   ]
  },
  {
   "cell_type": "code",
   "execution_count": 47,
   "metadata": {
    "scrolled": true
   },
   "outputs": [
    {
     "data": {
      "text/html": [
       "<div>\n",
       "<style scoped>\n",
       "    .dataframe tbody tr th:only-of-type {\n",
       "        vertical-align: middle;\n",
       "    }\n",
       "\n",
       "    .dataframe tbody tr th {\n",
       "        vertical-align: top;\n",
       "    }\n",
       "\n",
       "    .dataframe thead th {\n",
       "        text-align: right;\n",
       "    }\n",
       "</style>\n",
       "<table border=\"1\" class=\"dataframe\">\n",
       "  <thead>\n",
       "    <tr style=\"text-align: right;\">\n",
       "      <th></th>\n",
       "      <th>SessionId</th>\n",
       "      <th>IpId</th>\n",
       "      <th>Product</th>\n",
       "      <th>Rating</th>\n",
       "    </tr>\n",
       "  </thead>\n",
       "  <tbody>\n",
       "    <tr>\n",
       "      <th>0</th>\n",
       "      <td>12</td>\n",
       "      <td>10010PL</td>\n",
       "      <td>p-7414</td>\n",
       "      <td>1</td>\n",
       "    </tr>\n",
       "    <tr>\n",
       "      <th>1</th>\n",
       "      <td>19</td>\n",
       "      <td>100180PL</td>\n",
       "      <td>p-6769</td>\n",
       "      <td>1</td>\n",
       "    </tr>\n",
       "    <tr>\n",
       "      <th>2</th>\n",
       "      <td>19</td>\n",
       "      <td>100180PL</td>\n",
       "      <td>p-4466</td>\n",
       "      <td>1</td>\n",
       "    </tr>\n",
       "    <tr>\n",
       "      <th>3</th>\n",
       "      <td>19</td>\n",
       "      <td>100180PL</td>\n",
       "      <td>p-8068</td>\n",
       "      <td>1</td>\n",
       "    </tr>\n",
       "    <tr>\n",
       "      <th>4</th>\n",
       "      <td>20</td>\n",
       "      <td>100180PL</td>\n",
       "      <td>c-34_307</td>\n",
       "      <td>1</td>\n",
       "    </tr>\n",
       "    <tr>\n",
       "      <th>...</th>\n",
       "      <td>...</td>\n",
       "      <td>...</td>\n",
       "      <td>...</td>\n",
       "      <td>...</td>\n",
       "    </tr>\n",
       "    <tr>\n",
       "      <th>15712</th>\n",
       "      <td>40281</td>\n",
       "      <td>99972PL</td>\n",
       "      <td>p-6637</td>\n",
       "      <td>5</td>\n",
       "    </tr>\n",
       "    <tr>\n",
       "      <th>15713</th>\n",
       "      <td>40281</td>\n",
       "      <td>99972PL</td>\n",
       "      <td>p-8755</td>\n",
       "      <td>5</td>\n",
       "    </tr>\n",
       "    <tr>\n",
       "      <th>15714</th>\n",
       "      <td>40281</td>\n",
       "      <td>99972PL</td>\n",
       "      <td>c-65</td>\n",
       "      <td>5</td>\n",
       "    </tr>\n",
       "    <tr>\n",
       "      <th>15715</th>\n",
       "      <td>40281</td>\n",
       "      <td>99972PL</td>\n",
       "      <td>p-8990</td>\n",
       "      <td>5</td>\n",
       "    </tr>\n",
       "    <tr>\n",
       "      <th>15716</th>\n",
       "      <td>40282</td>\n",
       "      <td>99974PL</td>\n",
       "      <td>p-2868</td>\n",
       "      <td>1</td>\n",
       "    </tr>\n",
       "  </tbody>\n",
       "</table>\n",
       "<p>15717 rows × 4 columns</p>\n",
       "</div>"
      ],
      "text/plain": [
       "       SessionId      IpId   Product  Rating\n",
       "0             12   10010PL    p-7414       1\n",
       "1             19  100180PL    p-6769       1\n",
       "2             19  100180PL    p-4466       1\n",
       "3             19  100180PL    p-8068       1\n",
       "4             20  100180PL  c-34_307       1\n",
       "...          ...       ...       ...     ...\n",
       "15712      40281   99972PL    p-6637       5\n",
       "15713      40281   99972PL    p-8755       5\n",
       "15714      40281   99972PL      c-65       5\n",
       "15715      40281   99972PL    p-8990       5\n",
       "15716      40282   99974PL    p-2868       1\n",
       "\n",
       "[15717 rows x 4 columns]"
      ]
     },
     "execution_count": 47,
     "metadata": {},
     "output_type": "execute_result"
    }
   ],
   "source": [
    "user_session_item = train[~train['Product'].isnull()].drop(['TimeStamp', 'Event', 'Action'], axis=1).drop_duplicates()\n",
    "user_session_item = user_session_item.merge(sessionFlags, how='left', on='SessionId')\n",
    "user_session_item['Rating'] = user_session_item.apply(userRating, axis=1)\n",
    "user_session_item = user_session_item.drop(['Add', 'Remove', 'Delete', 'Order', 'Change'], axis=1)\n",
    "user_session_item"
   ]
  },
  {
   "cell_type": "code",
   "execution_count": 51,
   "metadata": {
    "scrolled": true
   },
   "outputs": [
    {
     "data": {
      "text/html": [
       "<div>\n",
       "<style scoped>\n",
       "    .dataframe tbody tr th:only-of-type {\n",
       "        vertical-align: middle;\n",
       "    }\n",
       "\n",
       "    .dataframe tbody tr th {\n",
       "        vertical-align: top;\n",
       "    }\n",
       "\n",
       "    .dataframe thead th {\n",
       "        text-align: right;\n",
       "    }\n",
       "</style>\n",
       "<table border=\"1\" class=\"dataframe\">\n",
       "  <thead>\n",
       "    <tr style=\"text-align: right;\">\n",
       "      <th></th>\n",
       "      <th></th>\n",
       "      <th>Confidence</th>\n",
       "    </tr>\n",
       "    <tr>\n",
       "      <th>IpId</th>\n",
       "      <th>Product</th>\n",
       "      <th></th>\n",
       "    </tr>\n",
       "  </thead>\n",
       "  <tbody>\n",
       "    <tr>\n",
       "      <th>101074PL</th>\n",
       "      <th>p-5997</th>\n",
       "      <td>401</td>\n",
       "    </tr>\n",
       "    <tr>\n",
       "      <th>101293PL</th>\n",
       "      <th>c-35_316</th>\n",
       "      <td>401</td>\n",
       "    </tr>\n",
       "    <tr>\n",
       "      <th>102234PL</th>\n",
       "      <th>p-3362</th>\n",
       "      <td>241</td>\n",
       "    </tr>\n",
       "    <tr>\n",
       "      <th>102259PL</th>\n",
       "      <th>p-8808</th>\n",
       "      <td>241</td>\n",
       "    </tr>\n",
       "    <tr>\n",
       "      <th>104703PL</th>\n",
       "      <th>p-2592</th>\n",
       "      <td>241</td>\n",
       "    </tr>\n",
       "    <tr>\n",
       "      <th>...</th>\n",
       "      <th>...</th>\n",
       "      <td>...</td>\n",
       "    </tr>\n",
       "    <tr>\n",
       "      <th>9381PL</th>\n",
       "      <th>p-7502</th>\n",
       "      <td>241</td>\n",
       "    </tr>\n",
       "    <tr>\n",
       "      <th>95332PL</th>\n",
       "      <th>p-3618</th>\n",
       "      <td>241</td>\n",
       "    </tr>\n",
       "    <tr>\n",
       "      <th>95861PL</th>\n",
       "      <th>c-21</th>\n",
       "      <td>241</td>\n",
       "    </tr>\n",
       "    <tr>\n",
       "      <th>9593PL</th>\n",
       "      <th>p-9900</th>\n",
       "      <td>241</td>\n",
       "    </tr>\n",
       "    <tr>\n",
       "      <th>97128PL</th>\n",
       "      <th>p-10150</th>\n",
       "      <td>241</td>\n",
       "    </tr>\n",
       "  </tbody>\n",
       "</table>\n",
       "<p>224 rows × 1 columns</p>\n",
       "</div>"
      ],
      "text/plain": [
       "                   Confidence\n",
       "IpId     Product             \n",
       "101074PL p-5997           401\n",
       "101293PL c-35_316         401\n",
       "102234PL p-3362           241\n",
       "102259PL p-8808           241\n",
       "104703PL p-2592           241\n",
       "...                       ...\n",
       "9381PL   p-7502           241\n",
       "95332PL  p-3618           241\n",
       "95861PL  c-21             241\n",
       "9593PL   p-9900           241\n",
       "97128PL  p-10150          241\n",
       "\n",
       "[224 rows x 1 columns]"
      ]
     },
     "execution_count": 51,
     "metadata": {},
     "output_type": "execute_result"
    }
   ],
   "source": [
    "user_item = user_session_item.drop('SessionId', axis=1)\n",
    "user_item = user_item.groupby(['IpId', 'Product']).sum()\n",
    "user_item['Confidence'] = 1 + 40*user_item['Rating']\n",
    "user_item = user_item.drop('Rating', axis=1)\n",
    "user_item[user_item['Confidence']>201]"
   ]
  },
  {
   "cell_type": "code",
   "execution_count": 56,
   "metadata": {},
   "outputs": [],
   "source": [
    "item_user = user_item.unstack(0)\n",
    "dtype = pd.SparseDtype()\n",
    "item_user_sparse = item_user.astype(dtype)\n",
    "item_user_sparse = item_user_sparse.sparse.to_coo()\n",
    "item_user_sparse = item_user_sparse.tocsr()"
   ]
  },
  {
   "cell_type": "code",
   "execution_count": 57,
   "metadata": {},
   "outputs": [
    {
     "name": "stderr",
     "output_type": "stream",
     "text": [
      "WARNING:root:Intel MKL BLAS detected. Its highly recommend to set the environment variable 'export MKL_NUM_THREADS=1' to disable its internal multithreading\n"
     ]
    },
    {
     "data": {
      "application/vnd.jupyter.widget-view+json": {
       "model_id": "b8e208cfc056455f9d5695d1b8a2ff32",
       "version_major": 2,
       "version_minor": 0
      },
      "text/plain": [
       "HBox(children=(HTML(value=''), FloatProgress(value=0.0, max=15.0), HTML(value='')))"
      ]
     },
     "metadata": {},
     "output_type": "display_data"
    },
    {
     "name": "stdout",
     "output_type": "stream",
     "text": [
      "\n"
     ]
    }
   ],
   "source": [
    "model = implicit.als.AlternatingLeastSquares(factors=10)\n",
    "model.fit(item_user_sparse)"
   ]
  },
  {
   "cell_type": "code",
   "execution_count": 80,
   "metadata": {},
   "outputs": [
    {
     "data": {
      "text/plain": [
       "1"
      ]
     },
     "execution_count": 80,
     "metadata": {},
     "output_type": "execute_result"
    }
   ],
   "source": [
    "user_ids = item_user.T.reset_index(level=0, drop=True).reset_index()['IpId']\n",
    "user_ids[user_ids=='100180PL'].index[0]"
   ]
  },
  {
   "cell_type": "code",
   "execution_count": 81,
   "metadata": {},
   "outputs": [],
   "source": [
    "user_item_ = item_user_sparse.T.tocsr()\n",
    "user_id = user_ids[user_ids=='100180PL'].index[0]\n",
    "recommendations = model.recommend(user_id, user_item_)"
   ]
  },
  {
   "cell_type": "code",
   "execution_count": 95,
   "metadata": {},
   "outputs": [],
   "source": [
    "product_ids = pd.Series(item_user.index)"
   ]
  },
  {
   "cell_type": "code",
   "execution_count": 104,
   "metadata": {},
   "outputs": [
    {
     "data": {
      "text/plain": [
       "'c-24_200'"
      ]
     },
     "execution_count": 104,
     "metadata": {},
     "output_type": "execute_result"
    }
   ],
   "source": [
    "product_ids[product_ids.index==4].values[0]"
   ]
  },
  {
   "cell_type": "code",
   "execution_count": 106,
   "metadata": {},
   "outputs": [
    {
     "data": {
      "text/plain": [
       "[('c-66_274', 1.6412758),\n",
       " ('p-6119', 1.3442116),\n",
       " ('p-5325', 1.270266),\n",
       " ('p-7043', 1.2395097),\n",
       " ('p-10150', 1.120496),\n",
       " ('p-5326', 1.0641696),\n",
       " ('p-7646', 0.98180425),\n",
       " ('p-2101', 0.9340297),\n",
       " ('p-4291', 0.90439177),\n",
       " ('c-24_291', 0.8917385)]"
      ]
     },
     "execution_count": 106,
     "metadata": {},
     "output_type": "execute_result"
    }
   ],
   "source": [
    "[(product_ids[product_ids.index==recommendations[j][0]].values[0], recommendations[j][1]) for j in range(len(recommendations))]"
   ]
  }
 ],
 "metadata": {
  "kernelspec": {
   "display_name": "Python 3",
   "language": "python",
   "name": "python3"
  },
  "language_info": {
   "codemirror_mode": {
    "name": "ipython",
    "version": 3
   },
   "file_extension": ".py",
   "mimetype": "text/x-python",
   "name": "python",
   "nbconvert_exporter": "python",
   "pygments_lexer": "ipython3",
   "version": "3.8.5"
  }
 },
 "nbformat": 4,
 "nbformat_minor": 4
}
