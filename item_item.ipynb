{
 "cells": [
  {
   "cell_type": "code",
   "execution_count": 1,
   "metadata": {},
   "outputs": [],
   "source": [
    "import numpy as np\n",
    "import pandas as pd\n",
    "from datetime import datetime\n",
    "import re"
   ]
  },
  {
   "cell_type": "code",
   "execution_count": 2,
   "metadata": {},
   "outputs": [
    {
     "data": {
      "text/plain": [
       "(112256, 6)"
      ]
     },
     "execution_count": 2,
     "metadata": {},
     "output_type": "execute_result"
    }
   ],
   "source": [
    "sessions = pd.read_csv('sessions.csv', index_col=0)\n",
    "sessions.rename(columns={'SessionID':'SessionId'}, inplace=True)\n",
    "sessions.shape"
   ]
  },
  {
   "cell_type": "markdown",
   "metadata": {},
   "source": [
    "**From the documentation**: *TimeStamp – long integer value specifying the UTC date and time of the arrival of a request, coded as the number of 100-nanosecond intervals that have elapsed since 00:00:00 UTC on 1st January, 1 A.D.*"
   ]
  },
  {
   "cell_type": "code",
   "execution_count": 3,
   "metadata": {
    "scrolled": false
   },
   "outputs": [
    {
     "data": {
      "text/html": [
       "<div>\n",
       "<style scoped>\n",
       "    .dataframe tbody tr th:only-of-type {\n",
       "        vertical-align: middle;\n",
       "    }\n",
       "\n",
       "    .dataframe tbody tr th {\n",
       "        vertical-align: top;\n",
       "    }\n",
       "\n",
       "    .dataframe thead th {\n",
       "        text-align: right;\n",
       "    }\n",
       "</style>\n",
       "<table border=\"1\" class=\"dataframe\">\n",
       "  <thead>\n",
       "    <tr style=\"text-align: right;\">\n",
       "      <th></th>\n",
       "      <th>SessionId</th>\n",
       "      <th>IpId</th>\n",
       "      <th>TimeStamp</th>\n",
       "      <th>Event</th>\n",
       "      <th>Action</th>\n",
       "      <th>Product</th>\n",
       "    </tr>\n",
       "  </thead>\n",
       "  <tbody>\n",
       "    <tr>\n",
       "      <th>0</th>\n",
       "      <td>0</td>\n",
       "      <td>100095PL</td>\n",
       "      <td>2020-01-13 21:35:36</td>\n",
       "      <td>Leave</td>\n",
       "      <td>NaN</td>\n",
       "      <td>NaN</td>\n",
       "    </tr>\n",
       "    <tr>\n",
       "      <th>1</th>\n",
       "      <td>1</td>\n",
       "      <td>100095PL</td>\n",
       "      <td>2020-04-18 16:14:40</td>\n",
       "      <td>Arrive</td>\n",
       "      <td>NaN</td>\n",
       "      <td>NaN</td>\n",
       "    </tr>\n",
       "    <tr>\n",
       "      <th>2</th>\n",
       "      <td>1</td>\n",
       "      <td>100095PL</td>\n",
       "      <td>2020-04-18 16:15:26</td>\n",
       "      <td>NaN</td>\n",
       "      <td>add_to_cart</td>\n",
       "      <td>p-9967</td>\n",
       "    </tr>\n",
       "    <tr>\n",
       "      <th>3</th>\n",
       "      <td>1</td>\n",
       "      <td>100095PL</td>\n",
       "      <td>2020-04-18 16:33:07</td>\n",
       "      <td>NaN</td>\n",
       "      <td>order</td>\n",
       "      <td>NaN</td>\n",
       "    </tr>\n",
       "    <tr>\n",
       "      <th>4</th>\n",
       "      <td>1</td>\n",
       "      <td>100095PL</td>\n",
       "      <td>2020-04-18 16:34:25</td>\n",
       "      <td>Leave</td>\n",
       "      <td>NaN</td>\n",
       "      <td>NaN</td>\n",
       "    </tr>\n",
       "  </tbody>\n",
       "</table>\n",
       "</div>"
      ],
      "text/plain": [
       "   SessionId      IpId           TimeStamp   Event       Action Product\n",
       "0          0  100095PL 2020-01-13 21:35:36   Leave          NaN     NaN\n",
       "1          1  100095PL 2020-04-18 16:14:40  Arrive          NaN     NaN\n",
       "2          1  100095PL 2020-04-18 16:15:26     NaN  add_to_cart  p-9967\n",
       "3          1  100095PL 2020-04-18 16:33:07     NaN        order     NaN\n",
       "4          1  100095PL 2020-04-18 16:34:25   Leave          NaN     NaN"
      ]
     },
     "execution_count": 3,
     "metadata": {},
     "output_type": "execute_result"
    }
   ],
   "source": [
    "seconds = (datetime(1970,1,1)-datetime(1,1,1)).total_seconds()\n",
    "ticks = seconds * 10**7\n",
    "sessions['TimeStamp'] = pd.to_datetime((sessions['TimeStamp']-ticks)*100)\n",
    "sessions.head()"
   ]
  },
  {
   "cell_type": "code",
   "execution_count": 4,
   "metadata": {},
   "outputs": [],
   "source": [
    "train = sessions[sessions['TimeStamp']<=datetime(2020,3,31,23,59,59)]\n",
    "test = sessions[sessions['TimeStamp']>datetime(2020,3,31,23,59,59)]"
   ]
  },
  {
   "cell_type": "code",
   "execution_count": 5,
   "metadata": {},
   "outputs": [
    {
     "name": "stdout",
     "output_type": "stream",
     "text": [
      "25877\n",
      "14423\n"
     ]
    }
   ],
   "source": [
    "print(train['SessionId'].nunique())\n",
    "print(test['SessionId'].nunique())"
   ]
  },
  {
   "cell_type": "code",
   "execution_count": 6,
   "metadata": {},
   "outputs": [
    {
     "name": "stdout",
     "output_type": "stream",
     "text": [
      "0.6421410491835823\n",
      "0.3579085810710209\n"
     ]
    }
   ],
   "source": [
    "print(train['SessionId'].nunique()/sessions['SessionId'].nunique())\n",
    "print(test['SessionId'].nunique()/sessions['SessionId'].nunique())"
   ]
  },
  {
   "cell_type": "code",
   "execution_count": 9,
   "metadata": {
    "scrolled": true
   },
   "outputs": [
    {
     "name": "stdout",
     "output_type": "stream",
     "text": [
      "(4038,)\n"
     ]
    },
    {
     "data": {
      "text/plain": [
       "array(['p-7414', 'p-6769', 'p-4466', ..., 'p-10522', 'p-2788', 'p-8202'],\n",
       "      dtype=object)"
      ]
     },
     "execution_count": 9,
     "metadata": {},
     "output_type": "execute_result"
    }
   ],
   "source": [
    "items = train['Product'].dropna().unique()\n",
    "print(items.shape)\n",
    "items"
   ]
  },
  {
   "cell_type": "code",
   "execution_count": 11,
   "metadata": {},
   "outputs": [],
   "source": [
    "np.savetxt('shopItems.txt', items, fmt='%s')"
   ]
  },
  {
   "cell_type": "markdown",
   "metadata": {},
   "source": [
    "First we create a session_item table. It is our assumption that the most useful recommendations stem from looking at products purchased together in the same session, rather than simply by the same user. We will do user_item later."
   ]
  },
  {
   "cell_type": "code",
   "execution_count": 8,
   "metadata": {
    "scrolled": true
   },
   "outputs": [
    {
     "name": "stdout",
     "output_type": "stream",
     "text": [
      "(8401, 1)\n"
     ]
    },
    {
     "data": {
      "text/html": [
       "<div>\n",
       "<style scoped>\n",
       "    .dataframe tbody tr th:only-of-type {\n",
       "        vertical-align: middle;\n",
       "    }\n",
       "\n",
       "    .dataframe tbody tr th {\n",
       "        vertical-align: top;\n",
       "    }\n",
       "\n",
       "    .dataframe thead th {\n",
       "        text-align: right;\n",
       "    }\n",
       "</style>\n",
       "<table border=\"1\" class=\"dataframe\">\n",
       "  <thead>\n",
       "    <tr style=\"text-align: right;\">\n",
       "      <th></th>\n",
       "      <th>Product</th>\n",
       "    </tr>\n",
       "    <tr>\n",
       "      <th>SessionId</th>\n",
       "      <th></th>\n",
       "    </tr>\n",
       "  </thead>\n",
       "  <tbody>\n",
       "    <tr>\n",
       "      <th>12</th>\n",
       "      <td>{p-7414}</td>\n",
       "    </tr>\n",
       "    <tr>\n",
       "      <th>19</th>\n",
       "      <td>{p-6769, p-8068, p-4466}</td>\n",
       "    </tr>\n",
       "    <tr>\n",
       "      <th>20</th>\n",
       "      <td>{c-34_110, c-34_307, c-34_356}</td>\n",
       "    </tr>\n",
       "    <tr>\n",
       "      <th>21</th>\n",
       "      <td>{c-34_113, c-34_356, p-1775, c-34_118}</td>\n",
       "    </tr>\n",
       "    <tr>\n",
       "      <th>43</th>\n",
       "      <td>{c-39_42, c-39_41, c-39_40}</td>\n",
       "    </tr>\n",
       "    <tr>\n",
       "      <th>...</th>\n",
       "      <td>...</td>\n",
       "    </tr>\n",
       "    <tr>\n",
       "      <th>40274</th>\n",
       "      <td>{p-2769}</td>\n",
       "    </tr>\n",
       "    <tr>\n",
       "      <th>40275</th>\n",
       "      <td>{p-9967}</td>\n",
       "    </tr>\n",
       "    <tr>\n",
       "      <th>40276</th>\n",
       "      <td>{p-3618}</td>\n",
       "    </tr>\n",
       "    <tr>\n",
       "      <th>40281</th>\n",
       "      <td>{p-8990, c-65, p-8755, p-6637}</td>\n",
       "    </tr>\n",
       "    <tr>\n",
       "      <th>40282</th>\n",
       "      <td>{p-2868}</td>\n",
       "    </tr>\n",
       "  </tbody>\n",
       "</table>\n",
       "<p>8401 rows × 1 columns</p>\n",
       "</div>"
      ],
      "text/plain": [
       "                                          Product\n",
       "SessionId                                        \n",
       "12                                       {p-7414}\n",
       "19                       {p-6769, p-8068, p-4466}\n",
       "20                 {c-34_110, c-34_307, c-34_356}\n",
       "21         {c-34_113, c-34_356, p-1775, c-34_118}\n",
       "43                    {c-39_42, c-39_41, c-39_40}\n",
       "...                                           ...\n",
       "40274                                    {p-2769}\n",
       "40275                                    {p-9967}\n",
       "40276                                    {p-3618}\n",
       "40281              {p-8990, c-65, p-8755, p-6637}\n",
       "40282                                    {p-2868}\n",
       "\n",
       "[8401 rows x 1 columns]"
      ]
     },
     "execution_count": 8,
     "metadata": {},
     "output_type": "execute_result"
    }
   ],
   "source": [
    "withProduct = train[~train['Product'].isnull()]\n",
    "session_item = pd.DataFrame(withProduct.groupby('SessionId')['Product'].apply(set))\n",
    "print(session_item.shape)\n",
    "session_item"
   ]
  },
  {
   "cell_type": "code",
   "execution_count": 12,
   "metadata": {},
   "outputs": [],
   "source": [
    "withProduct.groupby('SessionId')['Product'].apply(lambda y: '\\t'.join(set(y))).\\\n",
    "to_csv('sessionBaskets.txt', header=False, index=False)"
   ]
  },
  {
   "cell_type": "code",
   "execution_count": 9,
   "metadata": {},
   "outputs": [
    {
     "data": {
      "text/plain": [
       "add_to_cart         20226\n",
       "order                3484\n",
       "remove_from_cart     1900\n",
       "change_order          244\n",
       "delete_cart            86\n",
       "Name: Action, dtype: int64"
      ]
     },
     "execution_count": 9,
     "metadata": {},
     "output_type": "execute_result"
    }
   ],
   "source": [
    "train['Action'].value_counts()"
   ]
  },
  {
   "cell_type": "code",
   "execution_count": 10,
   "metadata": {},
   "outputs": [
    {
     "data": {
      "text/plain": [
       "29.033333333333335"
      ]
     },
     "execution_count": 10,
     "metadata": {},
     "output_type": "execute_result"
    }
   ],
   "source": [
    "3484/120"
   ]
  },
  {
   "cell_type": "markdown",
   "metadata": {},
   "source": [
    "Is it possible the mean number of orders per day could be as few as 30?"
   ]
  },
  {
   "cell_type": "code",
   "execution_count": 11,
   "metadata": {
    "scrolled": true
   },
   "outputs": [
    {
     "data": {
      "text/html": [
       "<div>\n",
       "<style scoped>\n",
       "    .dataframe tbody tr th:only-of-type {\n",
       "        vertical-align: middle;\n",
       "    }\n",
       "\n",
       "    .dataframe tbody tr th {\n",
       "        vertical-align: top;\n",
       "    }\n",
       "\n",
       "    .dataframe thead th {\n",
       "        text-align: right;\n",
       "    }\n",
       "</style>\n",
       "<table border=\"1\" class=\"dataframe\">\n",
       "  <thead>\n",
       "    <tr style=\"text-align: right;\">\n",
       "      <th></th>\n",
       "      <th>Add</th>\n",
       "      <th>Remove</th>\n",
       "      <th>Delete</th>\n",
       "      <th>Order</th>\n",
       "      <th>Change</th>\n",
       "    </tr>\n",
       "    <tr>\n",
       "      <th>SessionId</th>\n",
       "      <th></th>\n",
       "      <th></th>\n",
       "      <th></th>\n",
       "      <th></th>\n",
       "      <th></th>\n",
       "    </tr>\n",
       "  </thead>\n",
       "  <tbody>\n",
       "    <tr>\n",
       "      <th>0</th>\n",
       "      <td>False</td>\n",
       "      <td>False</td>\n",
       "      <td>False</td>\n",
       "      <td>False</td>\n",
       "      <td>False</td>\n",
       "    </tr>\n",
       "    <tr>\n",
       "      <th>2</th>\n",
       "      <td>False</td>\n",
       "      <td>False</td>\n",
       "      <td>False</td>\n",
       "      <td>False</td>\n",
       "      <td>False</td>\n",
       "    </tr>\n",
       "    <tr>\n",
       "      <th>3</th>\n",
       "      <td>False</td>\n",
       "      <td>False</td>\n",
       "      <td>False</td>\n",
       "      <td>False</td>\n",
       "      <td>False</td>\n",
       "    </tr>\n",
       "    <tr>\n",
       "      <th>4</th>\n",
       "      <td>False</td>\n",
       "      <td>False</td>\n",
       "      <td>False</td>\n",
       "      <td>False</td>\n",
       "      <td>False</td>\n",
       "    </tr>\n",
       "    <tr>\n",
       "      <th>5</th>\n",
       "      <td>False</td>\n",
       "      <td>False</td>\n",
       "      <td>False</td>\n",
       "      <td>False</td>\n",
       "      <td>False</td>\n",
       "    </tr>\n",
       "    <tr>\n",
       "      <th>11</th>\n",
       "      <td>False</td>\n",
       "      <td>False</td>\n",
       "      <td>False</td>\n",
       "      <td>False</td>\n",
       "      <td>False</td>\n",
       "    </tr>\n",
       "    <tr>\n",
       "      <th>12</th>\n",
       "      <td>True</td>\n",
       "      <td>False</td>\n",
       "      <td>False</td>\n",
       "      <td>False</td>\n",
       "      <td>False</td>\n",
       "    </tr>\n",
       "    <tr>\n",
       "      <th>13</th>\n",
       "      <td>False</td>\n",
       "      <td>False</td>\n",
       "      <td>False</td>\n",
       "      <td>False</td>\n",
       "      <td>False</td>\n",
       "    </tr>\n",
       "    <tr>\n",
       "      <th>14</th>\n",
       "      <td>False</td>\n",
       "      <td>False</td>\n",
       "      <td>False</td>\n",
       "      <td>False</td>\n",
       "      <td>False</td>\n",
       "    </tr>\n",
       "    <tr>\n",
       "      <th>15</th>\n",
       "      <td>False</td>\n",
       "      <td>False</td>\n",
       "      <td>False</td>\n",
       "      <td>False</td>\n",
       "      <td>False</td>\n",
       "    </tr>\n",
       "    <tr>\n",
       "      <th>16</th>\n",
       "      <td>False</td>\n",
       "      <td>False</td>\n",
       "      <td>False</td>\n",
       "      <td>False</td>\n",
       "      <td>False</td>\n",
       "    </tr>\n",
       "    <tr>\n",
       "      <th>17</th>\n",
       "      <td>False</td>\n",
       "      <td>False</td>\n",
       "      <td>False</td>\n",
       "      <td>False</td>\n",
       "      <td>False</td>\n",
       "    </tr>\n",
       "    <tr>\n",
       "      <th>18</th>\n",
       "      <td>False</td>\n",
       "      <td>False</td>\n",
       "      <td>False</td>\n",
       "      <td>False</td>\n",
       "      <td>False</td>\n",
       "    </tr>\n",
       "    <tr>\n",
       "      <th>19</th>\n",
       "      <td>True</td>\n",
       "      <td>False</td>\n",
       "      <td>False</td>\n",
       "      <td>False</td>\n",
       "      <td>False</td>\n",
       "    </tr>\n",
       "    <tr>\n",
       "      <th>20</th>\n",
       "      <td>True</td>\n",
       "      <td>False</td>\n",
       "      <td>False</td>\n",
       "      <td>False</td>\n",
       "      <td>False</td>\n",
       "    </tr>\n",
       "    <tr>\n",
       "      <th>21</th>\n",
       "      <td>True</td>\n",
       "      <td>False</td>\n",
       "      <td>False</td>\n",
       "      <td>True</td>\n",
       "      <td>True</td>\n",
       "    </tr>\n",
       "    <tr>\n",
       "      <th>22</th>\n",
       "      <td>False</td>\n",
       "      <td>False</td>\n",
       "      <td>False</td>\n",
       "      <td>False</td>\n",
       "      <td>False</td>\n",
       "    </tr>\n",
       "    <tr>\n",
       "      <th>23</th>\n",
       "      <td>False</td>\n",
       "      <td>False</td>\n",
       "      <td>False</td>\n",
       "      <td>False</td>\n",
       "      <td>False</td>\n",
       "    </tr>\n",
       "    <tr>\n",
       "      <th>24</th>\n",
       "      <td>False</td>\n",
       "      <td>False</td>\n",
       "      <td>False</td>\n",
       "      <td>False</td>\n",
       "      <td>False</td>\n",
       "    </tr>\n",
       "    <tr>\n",
       "      <th>25</th>\n",
       "      <td>False</td>\n",
       "      <td>False</td>\n",
       "      <td>False</td>\n",
       "      <td>False</td>\n",
       "      <td>False</td>\n",
       "    </tr>\n",
       "  </tbody>\n",
       "</table>\n",
       "</div>"
      ],
      "text/plain": [
       "             Add  Remove  Delete  Order  Change\n",
       "SessionId                                      \n",
       "0          False   False   False  False   False\n",
       "2          False   False   False  False   False\n",
       "3          False   False   False  False   False\n",
       "4          False   False   False  False   False\n",
       "5          False   False   False  False   False\n",
       "11         False   False   False  False   False\n",
       "12          True   False   False  False   False\n",
       "13         False   False   False  False   False\n",
       "14         False   False   False  False   False\n",
       "15         False   False   False  False   False\n",
       "16         False   False   False  False   False\n",
       "17         False   False   False  False   False\n",
       "18         False   False   False  False   False\n",
       "19          True   False   False  False   False\n",
       "20          True   False   False  False   False\n",
       "21          True   False   False   True    True\n",
       "22         False   False   False  False   False\n",
       "23         False   False   False  False   False\n",
       "24         False   False   False  False   False\n",
       "25         False   False   False  False   False"
      ]
     },
     "execution_count": 11,
     "metadata": {},
     "output_type": "execute_result"
    }
   ],
   "source": [
    "sessionFlags = pd.DataFrame()\n",
    "sessionFlags['Add'] = train.groupby('SessionId')['Action'].apply(lambda y: 'add_to_cart' in set(y))\n",
    "sessionFlags['Remove'] = train.groupby('SessionId')['Action'].apply(lambda y: 'remove_from_cart' in set(y))\n",
    "sessionFlags['Delete'] = train.groupby('SessionId')['Action'].apply(lambda y: 'delete_cart' in set(y))\n",
    "sessionFlags['Order'] = train.groupby('SessionId')['Action'].apply(lambda y: 'order' in set(y))\n",
    "sessionFlags['Change'] = train.groupby('SessionId')['Action'].apply(lambda y: 'change_order' in set(y))\n",
    "sessionFlags.head(20)"
   ]
  },
  {
   "cell_type": "code",
   "execution_count": 12,
   "metadata": {},
   "outputs": [
    {
     "name": "stdout",
     "output_type": "stream",
     "text": [
      "(28, 5)\n",
      "(3283, 5)\n",
      "(2824, 5)\n",
      "(2660, 5)\n",
      "(8436, 5)\n"
     ]
    }
   ],
   "source": [
    "print(sessionFlags[(sessionFlags['Add']==False) & (sessionFlags['Order']==True)].shape)\n",
    "print(sessionFlags[(sessionFlags['Add']==True) & (sessionFlags['Order']==True)].shape)\n",
    "print(sessionFlags[(sessionFlags['Add']==True) & (sessionFlags['Order']==True) & \\\n",
    "                  (sessionFlags['Remove']==False) & (sessionFlags['Delete']==False)].shape)\n",
    "print(sessionFlags[(sessionFlags['Add']==True) & (sessionFlags['Order']==True) & \\\n",
    "                  (sessionFlags['Remove']==False) & (sessionFlags['Delete']==False) & \\\n",
    "                  (sessionFlags['Change']==False)].shape)\n",
    "print(sessionFlags[sessionFlags['Add']==True].shape)"
   ]
  },
  {
   "cell_type": "markdown",
   "metadata": {},
   "source": [
    "### The following piece of code was abandoned in favor of a method using a more efficient structure along with itertools -- this can be found in item_item_iter. "
   ]
  },
  {
   "cell_type": "code",
   "execution_count": null,
   "metadata": {},
   "outputs": [],
   "source": [
    "# This did not run despite being left overnight. The notebook crashed.\n",
    "# item_dict = {}\n",
    "# for item in items:\n",
    "#     item_dict[item] = {}\n",
    "#     for jtem in items:\n",
    "#         if jtem != item:\n",
    "#             k = np.sum(session_item['Product'].apply(lambda y: jtem in y and item in y))\n",
    "#             if k != 0:\n",
    "#                 item_dict[item][jtem] = np.array([\n",
    "#                     k,\n",
    "#                     np.sum(session_item['Product'].apply(lambda y: jtem not in y and item in y)),\n",
    "#                     np.sum(session_item['Product'].apply(lambda y: jtem in y and item not in y)),\n",
    "#                     np.sum(session_item['Product'].apply(lambda y: jtem not in y and item not in y))\n",
    "#                 ])                \n",
    "# item_dict"
   ]
  },
  {
   "cell_type": "code",
   "execution_count": null,
   "metadata": {},
   "outputs": [],
   "source": [
    "def shannon(v):\n",
    "    S = np.sum(v)\n",
    "    return np.dot(v/S,np.log(np.add(v/S,v==0)))"
   ]
  },
  {
   "cell_type": "code",
   "execution_count": null,
   "metadata": {},
   "outputs": [],
   "source": [
    "def llr(v):\n",
    "    return 2*np.sum(v)*(shannon(v) - \\\n",
    "                        shannon([v[0]+v[1], v[2]+v[3]]) - \\\n",
    "                        shannon([v[0]+v[2], v[1]+v[3]])\n",
    "                       )"
   ]
  }
 ],
 "metadata": {
  "kernelspec": {
   "display_name": "Python 3",
   "language": "python",
   "name": "python3"
  },
  "language_info": {
   "codemirror_mode": {
    "name": "ipython",
    "version": 3
   },
   "file_extension": ".py",
   "mimetype": "text/x-python",
   "name": "python",
   "nbconvert_exporter": "python",
   "pygments_lexer": "ipython3",
   "version": "3.8.5"
  }
 },
 "nbformat": 4,
 "nbformat_minor": 4
}
