{
 "cells": [
  {
   "cell_type": "markdown",
   "metadata": {},
   "source": [
    "### The use of log-likelihood ratios for an item-item system as below is based on the paper http://citeseerx.ist.psu.edu/viewdoc/summary?doi=10.1.1.14.5962"
   ]
  },
  {
   "cell_type": "code",
   "execution_count": 1,
   "metadata": {},
   "outputs": [],
   "source": [
    "import numpy as np\n",
    "import pandas as pd\n",
    "from datetime import datetime\n",
    "import re\n",
    "import itertools\n",
    "import time"
   ]
  },
  {
   "cell_type": "code",
   "execution_count": 2,
   "metadata": {},
   "outputs": [
    {
     "data": {
      "text/plain": [
       "(112256, 6)"
      ]
     },
     "execution_count": 2,
     "metadata": {},
     "output_type": "execute_result"
    }
   ],
   "source": [
    "sessions = pd.read_csv('sessions.csv', index_col=0)\n",
    "sessions.rename(columns={'SessionID':'SessionId'}, inplace=True)\n",
    "sessions.shape"
   ]
  },
  {
   "cell_type": "markdown",
   "metadata": {},
   "source": [
    "**From the documentation**: *TimeStamp – long integer value specifying the UTC date and time of the arrival of a request, coded as the number of 100-nanosecond intervals that have elapsed since 00:00:00 UTC on 1st January, 1 A.D.*"
   ]
  },
  {
   "cell_type": "code",
   "execution_count": 3,
   "metadata": {
    "scrolled": false
   },
   "outputs": [
    {
     "data": {
      "text/html": [
       "<div>\n",
       "<style scoped>\n",
       "    .dataframe tbody tr th:only-of-type {\n",
       "        vertical-align: middle;\n",
       "    }\n",
       "\n",
       "    .dataframe tbody tr th {\n",
       "        vertical-align: top;\n",
       "    }\n",
       "\n",
       "    .dataframe thead th {\n",
       "        text-align: right;\n",
       "    }\n",
       "</style>\n",
       "<table border=\"1\" class=\"dataframe\">\n",
       "  <thead>\n",
       "    <tr style=\"text-align: right;\">\n",
       "      <th></th>\n",
       "      <th>SessionId</th>\n",
       "      <th>IpId</th>\n",
       "      <th>TimeStamp</th>\n",
       "      <th>Event</th>\n",
       "      <th>Action</th>\n",
       "      <th>Product</th>\n",
       "    </tr>\n",
       "  </thead>\n",
       "  <tbody>\n",
       "    <tr>\n",
       "      <th>0</th>\n",
       "      <td>0</td>\n",
       "      <td>100095PL</td>\n",
       "      <td>2020-01-13 21:35:36</td>\n",
       "      <td>Leave</td>\n",
       "      <td>NaN</td>\n",
       "      <td>NaN</td>\n",
       "    </tr>\n",
       "    <tr>\n",
       "      <th>1</th>\n",
       "      <td>1</td>\n",
       "      <td>100095PL</td>\n",
       "      <td>2020-04-18 16:14:40</td>\n",
       "      <td>Arrive</td>\n",
       "      <td>NaN</td>\n",
       "      <td>NaN</td>\n",
       "    </tr>\n",
       "    <tr>\n",
       "      <th>2</th>\n",
       "      <td>1</td>\n",
       "      <td>100095PL</td>\n",
       "      <td>2020-04-18 16:15:26</td>\n",
       "      <td>NaN</td>\n",
       "      <td>add_to_cart</td>\n",
       "      <td>p-9967</td>\n",
       "    </tr>\n",
       "    <tr>\n",
       "      <th>3</th>\n",
       "      <td>1</td>\n",
       "      <td>100095PL</td>\n",
       "      <td>2020-04-18 16:33:07</td>\n",
       "      <td>NaN</td>\n",
       "      <td>order</td>\n",
       "      <td>NaN</td>\n",
       "    </tr>\n",
       "    <tr>\n",
       "      <th>4</th>\n",
       "      <td>1</td>\n",
       "      <td>100095PL</td>\n",
       "      <td>2020-04-18 16:34:25</td>\n",
       "      <td>Leave</td>\n",
       "      <td>NaN</td>\n",
       "      <td>NaN</td>\n",
       "    </tr>\n",
       "  </tbody>\n",
       "</table>\n",
       "</div>"
      ],
      "text/plain": [
       "   SessionId      IpId           TimeStamp   Event       Action Product\n",
       "0          0  100095PL 2020-01-13 21:35:36   Leave          NaN     NaN\n",
       "1          1  100095PL 2020-04-18 16:14:40  Arrive          NaN     NaN\n",
       "2          1  100095PL 2020-04-18 16:15:26     NaN  add_to_cart  p-9967\n",
       "3          1  100095PL 2020-04-18 16:33:07     NaN        order     NaN\n",
       "4          1  100095PL 2020-04-18 16:34:25   Leave          NaN     NaN"
      ]
     },
     "execution_count": 3,
     "metadata": {},
     "output_type": "execute_result"
    }
   ],
   "source": [
    "seconds = (datetime(1970,1,1)-datetime(1,1,1)).total_seconds()\n",
    "ticks = seconds * 10**7\n",
    "sessions['TimeStamp'] = pd.to_datetime((sessions['TimeStamp']-ticks)*100)\n",
    "sessions.head()"
   ]
  },
  {
   "cell_type": "code",
   "execution_count": 4,
   "metadata": {},
   "outputs": [],
   "source": [
    "train = sessions[sessions['TimeStamp']<=datetime(2020,3,31,23,59,59)]\n",
    "test = sessions[sessions['TimeStamp']>datetime(2020,3,31,23,59,59)]"
   ]
  },
  {
   "cell_type": "code",
   "execution_count": 5,
   "metadata": {
    "scrolled": true
   },
   "outputs": [
    {
     "name": "stdout",
     "output_type": "stream",
     "text": [
      "(4038,)\n"
     ]
    }
   ],
   "source": [
    "items = train['Product'].dropna().unique()\n",
    "print(items.shape)"
   ]
  },
  {
   "cell_type": "markdown",
   "metadata": {},
   "source": [
    "First we create a session_item table. It is our assumption that the most useful recommendations stem from looking at products purchased together in the same session, rather than simply by the same user. We will do user_item later."
   ]
  },
  {
   "cell_type": "code",
   "execution_count": 6,
   "metadata": {
    "scrolled": true
   },
   "outputs": [
    {
     "name": "stdout",
     "output_type": "stream",
     "text": [
      "(8401, 1)\n"
     ]
    }
   ],
   "source": [
    "withProduct = train[~train['Product'].isnull()]\n",
    "session_item = pd.DataFrame(withProduct.groupby('SessionId')['Product'].apply(set))\n",
    "print(session_item.shape)"
   ]
  },
  {
   "cell_type": "code",
   "execution_count": 7,
   "metadata": {},
   "outputs": [],
   "source": [
    "def non_overlap_pair(kind, s1, s2, included=None):\n",
    "    if not included:\n",
    "        return (\n",
    "            (kind, key[0], key[1], 1) \n",
    "            for key in itertools.product(s1, s2)  \n",
    "            if key[0]!=key[1]\n",
    "        )\n",
    "    else:\n",
    "        return (\n",
    "            (kind, key[0], key[1], 1) \n",
    "            for key in itertools.product(s1, s2)  \n",
    "            if (key[0]!=key[1]) and (key in included)\n",
    "        )"
   ]
  },
  {
   "cell_type": "code",
   "execution_count": 8,
   "metadata": {},
   "outputs": [
    {
     "name": "stdout",
     "output_type": "stream",
     "text": [
      "23.707616329193115\n"
     ]
    },
    {
     "data": {
      "text/html": [
       "<div>\n",
       "<style scoped>\n",
       "    .dataframe tbody tr th:only-of-type {\n",
       "        vertical-align: middle;\n",
       "    }\n",
       "\n",
       "    .dataframe tbody tr th {\n",
       "        vertical-align: top;\n",
       "    }\n",
       "\n",
       "    .dataframe thead tr th {\n",
       "        text-align: left;\n",
       "    }\n",
       "\n",
       "    .dataframe thead tr:last-of-type th {\n",
       "        text-align: right;\n",
       "    }\n",
       "</style>\n",
       "<table border=\"1\" class=\"dataframe\">\n",
       "  <thead>\n",
       "    <tr>\n",
       "      <th></th>\n",
       "      <th></th>\n",
       "      <th colspan=\"3\" halign=\"left\">freq</th>\n",
       "    </tr>\n",
       "    <tr>\n",
       "      <th></th>\n",
       "      <th>kind</th>\n",
       "      <th>0</th>\n",
       "      <th>1</th>\n",
       "      <th>2</th>\n",
       "    </tr>\n",
       "    <tr>\n",
       "      <th>item1</th>\n",
       "      <th>item2</th>\n",
       "      <th></th>\n",
       "      <th></th>\n",
       "      <th></th>\n",
       "    </tr>\n",
       "  </thead>\n",
       "  <tbody>\n",
       "    <tr>\n",
       "      <th rowspan=\"5\" valign=\"top\">c-21</th>\n",
       "      <th>c-24_205</th>\n",
       "      <td>1.0</td>\n",
       "      <td>53.0</td>\n",
       "      <td>10.0</td>\n",
       "    </tr>\n",
       "    <tr>\n",
       "      <th>c-24_209</th>\n",
       "      <td>1.0</td>\n",
       "      <td>53.0</td>\n",
       "      <td>14.0</td>\n",
       "    </tr>\n",
       "    <tr>\n",
       "      <th>c-24_211</th>\n",
       "      <td>1.0</td>\n",
       "      <td>53.0</td>\n",
       "      <td>1.0</td>\n",
       "    </tr>\n",
       "    <tr>\n",
       "      <th>c-261</th>\n",
       "      <td>2.0</td>\n",
       "      <td>52.0</td>\n",
       "      <td>21.0</td>\n",
       "    </tr>\n",
       "    <tr>\n",
       "      <th>c-272_312</th>\n",
       "      <td>2.0</td>\n",
       "      <td>52.0</td>\n",
       "      <td>54.0</td>\n",
       "    </tr>\n",
       "  </tbody>\n",
       "</table>\n",
       "</div>"
      ],
      "text/plain": [
       "                freq            \n",
       "kind               0     1     2\n",
       "item1 item2                     \n",
       "c-21  c-24_205   1.0  53.0  10.0\n",
       "      c-24_209   1.0  53.0  14.0\n",
       "      c-24_211   1.0  53.0   1.0\n",
       "      c-261      2.0  52.0  21.0\n",
       "      c-272_312  2.0  52.0  54.0"
      ]
     },
     "execution_count": 8,
     "metadata": {},
     "output_type": "execute_result"
    }
   ],
   "source": [
    "start = time.time()\n",
    "lst = session_item[\"Product\"].to_list()\n",
    "num_sessions = session_item.shape[0]\n",
    "all_item = set(items)\n",
    "\n",
    "both = itertools.chain(\n",
    "    *(\n",
    "        non_overlap_pair(0, u_item, u_item) \n",
    "        for u_item in lst\n",
    "    ))\n",
    "\n",
    "\n",
    "included = set(itertools.chain(\n",
    "    *(\n",
    "        (key for key in itertools.product(u_item, u_item) if key[0]!=key[1])\n",
    "        for u_item in lst \n",
    "    )))\n",
    "\n",
    "\n",
    "first = itertools.chain(\n",
    "    *(\n",
    "        non_overlap_pair(1, u_item, all_item-u_item, included) \n",
    "        for u_item in lst\n",
    "    ))\n",
    "\n",
    "\n",
    "second = itertools.chain(\n",
    "    *(\n",
    "        non_overlap_pair(2, all_item-u_item, u_item, included) \n",
    "        for u_item in lst\n",
    "    ))\n",
    "\n",
    "itemCooc = pd.DataFrame(\n",
    "    itertools.chain(first, second, both), columns=[\"kind\", \"item1\", \"item2\", \"freq\"])\n",
    "itemCooc = itemCooc.groupby([\"kind\", \"item1\", \"item2\"]).sum()\n",
    "itemCooc = itemCooc.unstack(0)\n",
    "print( time.time() - start)\n",
    "itemCooc.head()"
   ]
  },
  {
   "cell_type": "code",
   "execution_count": 9,
   "metadata": {},
   "outputs": [
    {
     "data": {
      "text/html": [
       "<div>\n",
       "<style scoped>\n",
       "    .dataframe tbody tr th:only-of-type {\n",
       "        vertical-align: middle;\n",
       "    }\n",
       "\n",
       "    .dataframe tbody tr th {\n",
       "        vertical-align: top;\n",
       "    }\n",
       "\n",
       "    .dataframe thead tr th {\n",
       "        text-align: left;\n",
       "    }\n",
       "\n",
       "    .dataframe thead tr:last-of-type th {\n",
       "        text-align: right;\n",
       "    }\n",
       "</style>\n",
       "<table border=\"1\" class=\"dataframe\">\n",
       "  <thead>\n",
       "    <tr>\n",
       "      <th></th>\n",
       "      <th></th>\n",
       "      <th colspan=\"4\" halign=\"left\">freq</th>\n",
       "    </tr>\n",
       "    <tr>\n",
       "      <th></th>\n",
       "      <th>kind</th>\n",
       "      <th>0</th>\n",
       "      <th>1</th>\n",
       "      <th>2</th>\n",
       "      <th>3</th>\n",
       "    </tr>\n",
       "    <tr>\n",
       "      <th>item1</th>\n",
       "      <th>item2</th>\n",
       "      <th></th>\n",
       "      <th></th>\n",
       "      <th></th>\n",
       "      <th></th>\n",
       "    </tr>\n",
       "  </thead>\n",
       "  <tbody>\n",
       "    <tr>\n",
       "      <th rowspan=\"5\" valign=\"top\">c-21</th>\n",
       "      <th>c-24_205</th>\n",
       "      <td>1.0</td>\n",
       "      <td>53.0</td>\n",
       "      <td>10.0</td>\n",
       "      <td>8337.0</td>\n",
       "    </tr>\n",
       "    <tr>\n",
       "      <th>c-24_209</th>\n",
       "      <td>1.0</td>\n",
       "      <td>53.0</td>\n",
       "      <td>14.0</td>\n",
       "      <td>8333.0</td>\n",
       "    </tr>\n",
       "    <tr>\n",
       "      <th>c-24_211</th>\n",
       "      <td>1.0</td>\n",
       "      <td>53.0</td>\n",
       "      <td>1.0</td>\n",
       "      <td>8346.0</td>\n",
       "    </tr>\n",
       "    <tr>\n",
       "      <th>c-261</th>\n",
       "      <td>2.0</td>\n",
       "      <td>52.0</td>\n",
       "      <td>21.0</td>\n",
       "      <td>8326.0</td>\n",
       "    </tr>\n",
       "    <tr>\n",
       "      <th>c-272_312</th>\n",
       "      <td>2.0</td>\n",
       "      <td>52.0</td>\n",
       "      <td>54.0</td>\n",
       "      <td>8293.0</td>\n",
       "    </tr>\n",
       "  </tbody>\n",
       "</table>\n",
       "</div>"
      ],
      "text/plain": [
       "                freq                    \n",
       "kind               0     1     2       3\n",
       "item1 item2                             \n",
       "c-21  c-24_205   1.0  53.0  10.0  8337.0\n",
       "      c-24_209   1.0  53.0  14.0  8333.0\n",
       "      c-24_211   1.0  53.0   1.0  8346.0\n",
       "      c-261      2.0  52.0  21.0  8326.0\n",
       "      c-272_312  2.0  52.0  54.0  8293.0"
      ]
     },
     "execution_count": 9,
     "metadata": {},
     "output_type": "execute_result"
    }
   ],
   "source": [
    "itemCooc[('freq', 3)] = num_sessions - itemCooc[('freq', 0)] - itemCooc[('freq', 1)] - itemCooc[('freq', 2)]\n",
    "itemCooc.head()"
   ]
  },
  {
   "cell_type": "code",
   "execution_count": 10,
   "metadata": {
    "scrolled": true
   },
   "outputs": [],
   "source": [
    "# itemCooc[('freq',0)].value_counts()"
   ]
  },
  {
   "cell_type": "code",
   "execution_count": 11,
   "metadata": {},
   "outputs": [],
   "source": [
    "def shannon(v):\n",
    "    S = np.sum(v)\n",
    "    return np.dot(v/S,np.log(np.add(v/S,v==0)))"
   ]
  },
  {
   "cell_type": "code",
   "execution_count": 12,
   "metadata": {},
   "outputs": [],
   "source": [
    "def llr(x):\n",
    "    v = np.array([x[('freq', 0)], x[('freq', 1)], x[('freq', 2)], x[('freq', 3)]])\n",
    "    return 2*np.sum(v)*(shannon(v) - \\\n",
    "                        shannon([v[0]+v[1], v[2]+v[3]]) - \\\n",
    "                        shannon([v[0]+v[2], v[1]+v[3]])\n",
    "                       )"
   ]
  },
  {
   "cell_type": "code",
   "execution_count": 13,
   "metadata": {},
   "outputs": [
    {
     "data": {
      "text/plain": [
       "item1  item2    \n",
       "c-21   c-24_205     3.537431\n",
       "       c-24_209     2.942233\n",
       "       c-24_211     7.352830\n",
       "       c-261        6.933982\n",
       "       c-272_312    3.679396\n",
       "dtype: float64"
      ]
     },
     "execution_count": 13,
     "metadata": {},
     "output_type": "execute_result"
    }
   ],
   "source": [
    "itemCooc_llr = itemCooc.apply(lambda x: llr(x), axis=1)\n",
    "itemCooc_llr.head()"
   ]
  },
  {
   "cell_type": "code",
   "execution_count": 14,
   "metadata": {
    "scrolled": true
   },
   "outputs": [],
   "source": [
    "llrDf = pd.DataFrame(itemCooc_llr).rename(columns={0:'Llr'}).dropna().reset_index()"
   ]
  },
  {
   "cell_type": "code",
   "execution_count": 15,
   "metadata": {},
   "outputs": [
    {
     "data": {
      "text/plain": [
       "21      c-61\n",
       "51    p-3631\n",
       "Name: item2, dtype: object"
      ]
     },
     "execution_count": 15,
     "metadata": {},
     "output_type": "execute_result"
    }
   ],
   "source": [
    "llrDf[llrDf['item1']=='c-21'].sort_values('Llr', ascending=False).head(2)['item2']"
   ]
  }
 ],
 "metadata": {
  "kernelspec": {
   "display_name": "Python 3",
   "language": "python",
   "name": "python3"
  },
  "language_info": {
   "codemirror_mode": {
    "name": "ipython",
    "version": 3
   },
   "file_extension": ".py",
   "mimetype": "text/x-python",
   "name": "python",
   "nbconvert_exporter": "python",
   "pygments_lexer": "ipython3",
   "version": "3.8.5"
  }
 },
 "nbformat": 4,
 "nbformat_minor": 4
}
