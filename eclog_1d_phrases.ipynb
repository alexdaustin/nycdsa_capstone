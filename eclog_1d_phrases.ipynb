{
 "cells": [
  {
   "cell_type": "markdown",
   "metadata": {},
   "source": [
    "### The online store from which the EClog data was taken is Polish. Part of the EDA was tranlsating Polish phrases to discover the useful signifiers for a customer action. Below demonstrates the use of a GoogleTranslate API for this purpose."
   ]
  },
  {
   "cell_type": "code",
   "execution_count": 1,
   "metadata": {},
   "outputs": [],
   "source": [
    "import pandas as pd\n",
    "from datetime import datetime\n",
    "from googletrans import Translator\n",
    "import re\n",
    "import httpx\n",
    "import csv"
   ]
  },
  {
   "cell_type": "code",
   "execution_count": 2,
   "metadata": {},
   "outputs": [],
   "source": [
    "usecols=['IpId', \n",
    "         'TimeStamp',\n",
    "         'HttpMethod',\n",
    "         'Uri', \n",
    "         'ResponseCode', \n",
    "         'Bytes', \n",
    "         'Referrer', \n",
    "         'UserAgent',\n",
    "        ]\n",
    "eclog_1d = pd.read_csv('eclog_1day.csv', usecols=usecols)"
   ]
  },
  {
   "cell_type": "markdown",
   "metadata": {},
   "source": [
    "#### The following methods could omit many possibly useful phrases. We will return to this issue at later date if deemed necessary."
   ]
  },
  {
   "cell_type": "code",
   "execution_count": 3,
   "metadata": {},
   "outputs": [],
   "source": [
    "def phrase_extract(y, ext='php'):\n",
    "    phrase = re.search('([a-zA-Z_-]+)\\.' + ext, y)\n",
    "    if phrase != None:\n",
    "        return phrase.group(1)"
   ]
  },
  {
   "cell_type": "markdown",
   "metadata": {},
   "source": [
    "#### A dictionary created using an ad hoc method. \n",
    "`{'search': 'szukaj',\n",
    " 'sale': 'promocje',\n",
    " 'recommended': 'polecane',\n",
    " 'contact': 'kontakt',\n",
    " 'Webserwis': 'webserwis',\n",
    " 'log': 'zaloguj',\n",
    " 'file': 'plik',\n",
    " 'presence': 'kodprod',\n",
    " 'Yes': 'tak',\n",
    " 'description': 'opis'}`"
   ]
  },
  {
   "cell_type": "markdown",
   "metadata": {},
   "source": [
    "#### First, get words and phrases from the Uri with method POST."
   ]
  },
  {
   "cell_type": "code",
   "execution_count": 4,
   "metadata": {},
   "outputs": [],
   "source": [
    "post_uri = pd.Series(eclog_1d.loc[eclog_1d['HttpMethod']=='POST',:]['Uri'].unique())"
   ]
  },
  {
   "cell_type": "code",
   "execution_count": 5,
   "metadata": {
    "scrolled": true
   },
   "outputs": [],
   "source": [
    "mask = post_uri.apply(lambda y: re.search('\\.php', y) == None)\n",
    "post_uri_html = pd.Series(post_uri[mask].unique())\n",
    "post_uri_php = pd.Series(post_uri[~mask].unique())"
   ]
  },
  {
   "cell_type": "code",
   "execution_count": 6,
   "metadata": {
    "scrolled": true
   },
   "outputs": [],
   "source": [
    "post_phrases_html = pd.Series(pd.Series(post_uri_html). \\\n",
    "                    apply(lambda y: phrase_extract(y, ext='html'))).unique()\n",
    "post_phrases_html = post_phrases_html[post_phrases_html != None]"
   ]
  },
  {
   "cell_type": "code",
   "execution_count": 7,
   "metadata": {},
   "outputs": [],
   "source": [
    "timeout = httpx.Timeout(10.0)\n",
    "translator = Translator(timeout=timeout)\n",
    "post_phrase_html_dict = {}\n",
    "for phrase in post_phrases_html:\n",
    "    phrase_ = phrase.replace('_', ' ').replace('-', ' ')\n",
    "    translated = translator.translate(phrase_, src='pl', dest='en')\n",
    "    post_phrase_html_dict[translated.text] = phrase"
   ]
  },
  {
   "cell_type": "code",
   "execution_count": 8,
   "metadata": {},
   "outputs": [],
   "source": [
    "with open('post_phrase_html_dict.csv', 'w', newline='') as csvfile:\n",
    "    phrasemaker = csv.writer(csvfile)\n",
    "    phrasemaker.writerows(post_phrase_html_dict.items())"
   ]
  },
  {
   "cell_type": "code",
   "execution_count": 9,
   "metadata": {
    "scrolled": true
   },
   "outputs": [],
   "source": [
    "post_phrases_php = pd.Series(pd.Series(post_uri_php). \\\n",
    "                    apply(lambda y: phrase_extract(y))).unique()\n",
    "post_phrases_php = post_phrases_php[post_phrases_php != None]"
   ]
  },
  {
   "cell_type": "code",
   "execution_count": 10,
   "metadata": {},
   "outputs": [],
   "source": [
    "timeout = httpx.Timeout(10.0)\n",
    "translator = Translator(timeout=timeout)\n",
    "post_phrase_php_dict = {}\n",
    "for phrase in post_phrases_php:\n",
    "    phrase_ = phrase.replace('_', ' ').replace('-', ' ')\n",
    "    translated = translator.translate(phrase_, src='pl', dest='en')\n",
    "    post_phrase_php_dict[translated.text] = phrase"
   ]
  },
  {
   "cell_type": "code",
   "execution_count": 11,
   "metadata": {},
   "outputs": [],
   "source": [
    "with open('post_phrase_php_dict.csv', 'w', newline='') as csvfile:\n",
    "    phrasemaker = csv.writer(csvfile)\n",
    "    phrasemaker.writerows(post_phrase_php_dict.items())    "
   ]
  },
  {
   "cell_type": "markdown",
   "metadata": {},
   "source": [
    "#### Second, get words and phrases from the Uri with method GET."
   ]
  },
  {
   "cell_type": "code",
   "execution_count": 12,
   "metadata": {},
   "outputs": [],
   "source": [
    "get_uri = pd.Series(eclog_1d.loc[eclog_1d['HttpMethod']=='GET',:]['Uri'].unique())"
   ]
  },
  {
   "cell_type": "code",
   "execution_count": 13,
   "metadata": {
    "scrolled": true
   },
   "outputs": [],
   "source": [
    "mask = get_uri.apply(lambda y: re.search('\\.php', y) == None)\n",
    "get_uri_html = pd.Series(get_uri[mask].unique())\n",
    "get_uri_php = pd.Series(get_uri[~mask].unique())"
   ]
  },
  {
   "cell_type": "code",
   "execution_count": 14,
   "metadata": {
    "scrolled": true
   },
   "outputs": [],
   "source": [
    "get_phrases_html = pd.Series(pd.Series(get_uri_html). \\\n",
    "                    apply(lambda y: phrase_extract(y, ext='html'))).unique()\n",
    "get_phrases_html = get_phrases_html[get_phrases_html != None]"
   ]
  },
  {
   "cell_type": "code",
   "execution_count": 15,
   "metadata": {},
   "outputs": [],
   "source": [
    "timeout = httpx.Timeout(10.0)\n",
    "translator = Translator(timeout=timeout)\n",
    "get_phrase_html_dict = {}\n",
    "for phrase in get_phrases_html:\n",
    "    phrase_ = phrase.replace('_', ' ').replace('-', ' ')\n",
    "    translated = translator.translate(phrase_, src='pl', dest='en')\n",
    "    get_phrase_html_dict[translated.text] = phrase"
   ]
  },
  {
   "cell_type": "code",
   "execution_count": 16,
   "metadata": {},
   "outputs": [],
   "source": [
    "with open('get_phrase_html_dict.csv', 'w', newline='') as csvfile:\n",
    "    phrasemaker = csv.writer(csvfile)\n",
    "    phrasemaker.writerows(get_phrase_html_dict.items())"
   ]
  },
  {
   "cell_type": "code",
   "execution_count": 17,
   "metadata": {
    "scrolled": true
   },
   "outputs": [],
   "source": [
    "get_phrases_php = pd.Series(pd.Series(get_uri_php). \\\n",
    "                    apply(lambda y: phrase_extract(y))).unique()\n",
    "get_phrases_php = get_phrases_php[get_phrases_php != None]"
   ]
  },
  {
   "cell_type": "code",
   "execution_count": 19,
   "metadata": {},
   "outputs": [],
   "source": [
    "timeout = httpx.Timeout(10.0)\n",
    "translator = Translator(timeout=timeout)\n",
    "get_phrase_php_dict = {}\n",
    "for phrase in get_phrases_php:\n",
    "    phrase_ = phrase.replace('_', ' ').replace('-', ' ')\n",
    "    translated = translator.translate(phrase_, src='pl', dest='en')\n",
    "    get_phrase_php_dict[translated.text] = phrase"
   ]
  },
  {
   "cell_type": "code",
   "execution_count": 20,
   "metadata": {},
   "outputs": [],
   "source": [
    "with open('get_phrase_php_dict.csv', 'w', newline='') as csvfile:\n",
    "    phrasemaker = csv.writer(csvfile)\n",
    "    phrasemaker.writerows(get_phrase_php_dict.items())"
   ]
  },
  {
   "cell_type": "code",
   "execution_count": null,
   "metadata": {},
   "outputs": [],
   "source": []
  }
 ],
 "metadata": {
  "kernelspec": {
   "display_name": "Python 3",
   "language": "python",
   "name": "python3"
  },
  "language_info": {
   "codemirror_mode": {
    "name": "ipython",
    "version": 3
   },
   "file_extension": ".py",
   "mimetype": "text/x-python",
   "name": "python",
   "nbconvert_exporter": "python",
   "pygments_lexer": "ipython3",
   "version": "3.8.5"
  }
 },
 "nbformat": 4,
 "nbformat_minor": 4
}
