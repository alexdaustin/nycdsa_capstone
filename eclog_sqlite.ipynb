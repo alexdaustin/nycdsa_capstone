{
 "cells": [
  {
   "cell_type": "markdown",
   "metadata": {},
   "source": [
    "# The code in this notebook was used to alter an Sqlite database. It is not a good idea to run all cells as you might another notebook."
   ]
  },
  {
   "cell_type": "code",
   "execution_count": null,
   "metadata": {},
   "outputs": [],
   "source": [
    "import numpy as np\n",
    "import pandas as pd\n",
    "from datetime import datetime\n",
    "import re\n",
    "import sqlite3\n",
    "import os"
   ]
  },
  {
   "cell_type": "code",
   "execution_count": null,
   "metadata": {},
   "outputs": [],
   "source": [
    "con = sqlite3.connect('C:\\sqlite\\eclog.db')"
   ]
  },
  {
   "cell_type": "code",
   "execution_count": null,
   "metadata": {
    "scrolled": true
   },
   "outputs": [],
   "source": [
    "con.enable_load_extension(True)\n",
    "con.load_extension(\"regexp\")\n",
    "con.enable_load_extension(False)        "
   ]
  },
  {
   "cell_type": "code",
   "execution_count": null,
   "metadata": {},
   "outputs": [],
   "source": [
    "cur = con.cursor()"
   ]
  },
  {
   "cell_type": "code",
   "execution_count": null,
   "metadata": {},
   "outputs": [],
   "source": [
    "cur.execute(\"SELECT name FROM sqlite_master WHERE type='table';\")\n",
    "print(cur.fetchall())"
   ]
  },
  {
   "cell_type": "code",
   "execution_count": null,
   "metadata": {},
   "outputs": [],
   "source": [
    "cur.execute('''SELECT DISTINCT UserAgent \n",
    "            FROM http_raw\n",
    "            WHERE UserAgent LIKE '%bot%';''')\n",
    "cur.fetchall()"
   ]
  },
  {
   "cell_type": "markdown",
   "metadata": {},
   "source": [
    "Unfortunately CUBOT is a brand of cell phone and we do not want to lose this data. Do genuine bots ever add an item to the cart? "
   ]
  },
  {
   "cell_type": "code",
   "execution_count": null,
   "metadata": {},
   "outputs": [],
   "source": [
    "cur.execute('''CREATE TABLE managementIps AS SELECT DISTINCT IpId\n",
    "            FROM http_raw\n",
    "            WHERE Uri LIKE '/zarzadzanie/%';''')\n",
    "con.commit()"
   ]
  },
  {
   "cell_type": "code",
   "execution_count": null,
   "metadata": {},
   "outputs": [],
   "source": [
    "cur.execute('PRAGMA table_info(managementIps);')\n",
    "cur.fetchall()"
   ]
  },
  {
   "cell_type": "code",
   "execution_count": null,
   "metadata": {},
   "outputs": [],
   "source": [
    "cur.execute('''CREATE TABLE notManagement AS SELECT *\n",
    "            FROM http_raw A\n",
    "            LEFT JOIN managementIps B\n",
    "            ON A.IpId = B.IpId\n",
    "            WHERE B.IpId IS NULL;''')\n",
    "con.commit()"
   ]
  },
  {
   "cell_type": "code",
   "execution_count": null,
   "metadata": {},
   "outputs": [],
   "source": [
    "cur.execute('''SELECT DISTINCT UserAgent\n",
    "            FROM notManagement\n",
    "            WHERE Uri LIKE '%do_koszyka.%' AND UserAgent LIKE '%bot%';''')\n",
    "cur.fetchall()"
   ]
  },
  {
   "cell_type": "markdown",
   "metadata": {},
   "source": [
    "This is good, it means we do not need to exclude 'bots' if we limit to 'customers'."
   ]
  },
  {
   "cell_type": "code",
   "execution_count": null,
   "metadata": {},
   "outputs": [],
   "source": [
    "cur.execute('''CREATE TABLE customerIps AS SELECT DISTINCT IpId\n",
    "            FROM http_raw\n",
    "            WHERE Uri LIKE '%do_koszyka.%';''')\n",
    "con.commit()"
   ]
  },
  {
   "cell_type": "code",
   "execution_count": null,
   "metadata": {},
   "outputs": [],
   "source": [
    "cur.execute('''CREATE TABLE customerHTTP AS SELECT *\n",
    "            FROM http_raw A\n",
    "            INNER JOIN customerIps B\n",
    "            ON A.IpId = B.IpId;''')\n",
    "con.commit()"
   ]
  },
  {
   "cell_type": "code",
   "execution_count": null,
   "metadata": {},
   "outputs": [],
   "source": [
    "ticks = 30*60*(10**7)\n",
    "ticks"
   ]
  },
  {
   "cell_type": "code",
   "execution_count": null,
   "metadata": {
    "scrolled": true
   },
   "outputs": [],
   "source": [
    "cur.execute('''SELECT IpId, TimeStamp, COUNT(*)\n",
    "            FROM customerHTTP\n",
    "            GROUP BY IpId, TimeStamp\n",
    "            HAVING COUNT(*) > 1;''')\n",
    "cur.fetchall()"
   ]
  },
  {
   "cell_type": "code",
   "execution_count": null,
   "metadata": {},
   "outputs": [],
   "source": [
    "cur.execute('''SELECT *\n",
    "            FROM customerHTTP\n",
    "            WHERE IpId = '1000PL';''')\n",
    "cur.fetchall()"
   ]
  },
  {
   "cell_type": "code",
   "execution_count": null,
   "metadata": {},
   "outputs": [],
   "source": [
    "cur.execute('''CREATE TABLE preSessions AS SELECT IpId AS IpId,\n",
    "            TimeStamp AS TimeStamp,\n",
    "            Uri AS Uri,\n",
    "            HttpMethod AS HttpMethod,\n",
    "            Referrer as Referrer,\n",
    "            lag(IpId) OVER win as LagIpId,\n",
    "            lag(TimeStamp) OVER win as LagTimeStamp,\n",
    "            lead(IpId) OVER win as LeadIpId,\n",
    "            lead(TimeStamp) OVER win as LeadTimeStamp\n",
    "            FROM customerHTTP\n",
    "            WINDOW win AS (ORDER BY IpId, TimeStamp);\n",
    "            ''')\n",
    "con.commit()"
   ]
  },
  {
   "cell_type": "code",
   "execution_count": null,
   "metadata": {},
   "outputs": [],
   "source": [
    "con.close()"
   ]
  },
  {
   "cell_type": "code",
   "execution_count": null,
   "metadata": {},
   "outputs": [],
   "source": [
    "cur.execute('''ALTER TABLE preSessions\n",
    "            ADD COLUMN Event AS (CASE\n",
    "            WHEN IpId != LagIpId AND IpId != LeadIpId THEN 'Flit'\n",
    "            WHEN TimeStamp - LagTimeStamp > 18000000000 AND LeadTimeStamp - TimeStamp > 18000000000 THEN 'Flit'\n",
    "            WHEN IpId != LagIpId AND LeadTimeStamp - TimeStamp > 18000000000 THEN 'Flit'\n",
    "            WHEN IpId != LeadIpId AND TimeStamp - LagTimeStamp > 18000000000 THEN 'Flit'\n",
    "            WHEN IpId != LagIpId OR TimeStamp - LagTimeStamp > 18000000000 THEN 'Arrive'\n",
    "            WHEN IpId != LeadIpId OR LeadTimeStamp - TimeStamp > 18000000000 THEN 'Leave'\n",
    "            END);''')\n",
    "con.commit()"
   ]
  },
  {
   "cell_type": "code",
   "execution_count": null,
   "metadata": {
    "scrolled": true
   },
   "outputs": [],
   "source": [
    "cur.execute('PRAGMA table_xinfo(preSessions);')\n",
    "cur.fetchall()"
   ]
  },
  {
   "cell_type": "code",
   "execution_count": null,
   "metadata": {},
   "outputs": [],
   "source": [
    "def getProduct(y):\n",
    "    product = re.search('p-[0-9_]+|r-[0-9_]+|kartapdf-[0-9_]+|c-[0-9_]+|m-[0-9_]+', y)\n",
    "    if product != None:\n",
    "        return product.group(0)"
   ]
  },
  {
   "cell_type": "code",
   "execution_count": null,
   "metadata": {},
   "outputs": [],
   "source": [
    "con.create_function('getProd', 1, getProduct, deterministic=True)"
   ]
  },
  {
   "cell_type": "code",
   "execution_count": null,
   "metadata": {},
   "outputs": [],
   "source": [
    "cur.execute('''ALTER TABLE preSessions\n",
    "            ADD COLUMN UriProduct TEXT AS (getProd(Uri));''')\n",
    "con.commit()"
   ]
  },
  {
   "cell_type": "code",
   "execution_count": null,
   "metadata": {},
   "outputs": [],
   "source": [
    "cur.execute('''ALTER TABLE preSessions\n",
    "            ADD COLUMN RefProduct TEXT AS (getProd(Referrer));''')\n",
    "con.commit()"
   ]
  },
  {
   "cell_type": "code",
   "execution_count": null,
   "metadata": {},
   "outputs": [],
   "source": [
    "cur.execute('''ALTER TABLE preSessions\n",
    "            ADD COLUMN CurrentProduct TEXT AS (CASE\n",
    "            WHEN UriProduct IS NOT NULL THEN UriProduct\n",
    "            WHEN RefProduct IS NOT NULL THEN RefProduct\n",
    "            END);''')\n",
    "con.commit()"
   ]
  },
  {
   "cell_type": "code",
   "execution_count": null,
   "metadata": {},
   "outputs": [],
   "source": [
    "cur.execute('''ALTER TABLE preSessions\n",
    "            ADD COLUMN BeginSession INTEGER AS (CASE\n",
    "            WHEN Event ='Arrive' OR Event = 'Flit' THEN 1\n",
    "            ELSE 0\n",
    "            END);''')\n",
    "con.commit()"
   ]
  },
  {
   "cell_type": "markdown",
   "metadata": {},
   "source": [
    "In following line, CREATE TABLE used because there was a problem using the window function for ALTER TABLE with ADD COLUMN. Presumably because it was unclear when the ORDER BY should be applied and to what table. "
   ]
  },
  {
   "cell_type": "code",
   "execution_count": null,
   "metadata": {},
   "outputs": [],
   "source": [
    "cur.execute('''CREATE TABLE preSessions_ AS SELECT *,\n",
    "            SUM(BeginSession)\n",
    "            OVER (ORDER BY IpId, TimeStamp ROWS BETWEEN UNBOUNDED PRECEDING AND CURRENT ROW)\n",
    "            AS SessionId \n",
    "            FROM preSessions;\n",
    "            ''')\n",
    "con.commit()"
   ]
  },
  {
   "cell_type": "code",
   "execution_count": null,
   "metadata": {},
   "outputs": [],
   "source": [
    "cur.execute('''CREATE TABLE preSessions__ AS SELECT *,\n",
    "            max(CurrentProduct) OVER (PARTITION BY SessionID, Grp \n",
    "                ORDER BY TimeStamp \n",
    "                ROWS UNBOUNDED PRECEDING) AS Product_ \n",
    "            FROM (SELECT *, max(CASE \n",
    "                WHEN CurrentProduct IS NOT NULL THEN TimeStamp\n",
    "                END) OVER (PARTITION BY SessionId \n",
    "                    ORDER BY TimeStamp ROWS UNBOUNDED PRECEDING) AS Grp\n",
    "                FROM preSessions_);\n",
    "            ''')\n",
    "con.commit()"
   ]
  },
  {
   "cell_type": "code",
   "execution_count": null,
   "metadata": {},
   "outputs": [],
   "source": [
    "cur.execute('''ALTER TABLE preSessions__\n",
    "            ADD COLUMN Action TEXT AS (CASE\n",
    "            WHEN HttpMethod = 'POST' AND Uri LIKE '%do_koszyka.%' THEN 'add_to_cart'\n",
    "            WHEN HttpMethod = 'POST' AND Uri LIKE '%koszyk_usun%' THEN 'delete_cart'\n",
    "            WHEN HttpMethod = 'POST' AND Uri LIKE '%usun_z_koszyka%' THEN 'remove_from_cart'\n",
    "            WHEN HttpMethod = 'POST' AND Uri LIKE '%zamowienie_realizacja%' THEN 'order'\n",
    "            WHEN HttpMethod = 'POST' AND Uri LIKE '%do_zmiany_danych_zamowienie%' THEN 'change_order'\n",
    "            END);''')\n",
    "con.commit()"
   ]
  },
  {
   "cell_type": "code",
   "execution_count": null,
   "metadata": {},
   "outputs": [],
   "source": [
    "cur.execute('''ALTER TABLE preSessions__\n",
    "            ADD COLUMN Product TEXT AS (CASE\n",
    "            WHEN Action='add_to_cart' AND CurrentProduct IS NOT NULL THEN CurrentProduct\n",
    "            WHEN Action='add_to_cart' THEN Product_\n",
    "            END);''')\n",
    "con.commit()"
   ]
  },
  {
   "cell_type": "code",
   "execution_count": null,
   "metadata": {},
   "outputs": [],
   "source": [
    "cur.execute('''CREATE TABLE Sessions AS SELECT SessionID, IpId, TimeStamp, Event, Action, Product\n",
    "            FROM preSessions__\n",
    "            WHERE Event IS NOT NULL OR Action IS NOT NULL;\n",
    "            ''')\n",
    "con.commit()"
   ]
  },
  {
   "cell_type": "code",
   "execution_count": null,
   "metadata": {},
   "outputs": [],
   "source": [
    "cur.execute('SELECT COUNT(*) FROM Sessions;')\n",
    "cur.fetchall()"
   ]
  },
  {
   "cell_type": "code",
   "execution_count": null,
   "metadata": {},
   "outputs": [],
   "source": [
    "cur.execute('SELECT * FROM Sessions;')\n",
    "sessions = pd.DataFrame(cur.fetchall(), columns=['SessionID', 'IpId', 'TimeStamp', 'Event', 'Action', 'Product'])"
   ]
  },
  {
   "cell_type": "code",
   "execution_count": null,
   "metadata": {},
   "outputs": [],
   "source": [
    "sessions.to_csv('sessions.csv')"
   ]
  },
  {
   "cell_type": "code",
   "execution_count": null,
   "metadata": {},
   "outputs": [],
   "source": [
    "con.close()"
   ]
  }
 ],
 "metadata": {
  "kernelspec": {
   "display_name": "Python 3",
   "language": "python",
   "name": "python3"
  },
  "language_info": {
   "codemirror_mode": {
    "name": "ipython",
    "version": 3
   },
   "file_extension": ".py",
   "mimetype": "text/x-python",
   "name": "python",
   "nbconvert_exporter": "python",
   "pygments_lexer": "ipython3",
   "version": "3.8.5"
  }
 },
 "nbformat": 4,
 "nbformat_minor": 4
}
