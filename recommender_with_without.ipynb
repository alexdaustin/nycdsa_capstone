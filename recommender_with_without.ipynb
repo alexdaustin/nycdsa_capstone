{
 "cells": [
  {
   "cell_type": "markdown",
   "metadata": {},
   "source": [
    "# This notebook was for display purposes only. It was used to demonstrate the recommender during a talk, so for safety purposes it relies on imported csv files. First we display a streaming version of the 'sessions' data to show the results of the preprocessing and give the impression of active traffic through an online store. After that the same data is displayed with the addition of the recommendations made by the system that was the result of the project.  "
   ]
  },
  {
   "cell_type": "code",
   "execution_count": 1,
   "metadata": {},
   "outputs": [],
   "source": [
    "import numpy as np\n",
    "import pandas as pd\n",
    "import time\n",
    "from beautifultable import BeautifulTable\n",
    "from beautifultable import BTColumnCollection\n",
    "from IPython.display import clear_output\n",
    "from termcolor import colored\n",
    "import ast"
   ]
  },
  {
   "cell_type": "markdown",
   "metadata": {},
   "source": [
    "# Customer activity"
   ]
  },
  {
   "cell_type": "code",
   "execution_count": 2,
   "metadata": {},
   "outputs": [],
   "source": [
    "inData_ = pd.read_csv('inData_.csv', index_col=0)"
   ]
  },
  {
   "cell_type": "code",
   "execution_count": 3,
   "metadata": {},
   "outputs": [
    {
     "name": "stdout",
     "output_type": "stream",
     "text": [
      "╭────────────┬────────────┬─────────────┬────────┬──────────────────┬──────────╮\n",
      "│ SessionId  │    IpId    │  TimeStamp  │ Event  │      Action      │ Product  │\n",
      "├────────────┼────────────┼─────────────┼────────┼──────────────────┼──────────┤\n",
      "│   24669    │  33269PL   │ 2020-04-01  │ Arrive │                  │          │\n",
      "│            │            │  12:24:30   │        │                  │          │\n",
      "├────────────┼────────────┼─────────────┼────────┼──────────────────┼──────────┤\n",
      "│    8516    │  155532PL  │ 2020-04-01  │  Flit  │                  │          │\n",
      "│            │            │  12:27:37   │        │                  │          │\n",
      "├────────────┼────────────┼─────────────┼────────┼──────────────────┼──────────┤\n",
      "│   27319    │  39941PL   │ 2020-04-01  │  Flit  │                  │          │\n",
      "│            │            │  12:27:52   │        │                  │          │\n",
      "├────────────┼────────────┼─────────────┼────────┼──────────────────┼──────────┤\n",
      "│   24669    │  33269PL   │ 2020-04-01  │ Leave  │                  │          │\n",
      "│            │            │  12:28:33   │        │                  │          │\n",
      "├────────────┼────────────┼─────────────┼────────┼──────────────────┼──────────┤\n",
      "│   14706    │  208008PL  │ 2020-04-01  │        │   add_to_cart    │   p-77   │\n",
      "│            │            │  12:29:58   │        │                  │          │\n",
      "├────────────┼────────────┼─────────────┼────────┼──────────────────┼──────────┤\n",
      "│   18175    │  24606PL   │ 2020-04-01  │ Arrive │                  │          │\n",
      "│            │            │  12:42:50   │        │                  │          │\n",
      "├────────────┼────────────┼─────────────┼────────┼──────────────────┼──────────┤\n",
      "│   29197    │  46897PL   │ 2020-04-01  │ Arrive │                  │          │\n",
      "│            │            │  12:43:43   │        │                  │          │\n",
      "├────────────┼────────────┼─────────────┼────────┼──────────────────┼──────────┤\n",
      "│   29197    │  46897PL   │ 2020-04-01  │ Leave  │                  │          │\n",
      "│            │            │  12:45:40   │        │                  │          │\n",
      "╰────────────┴────────────┴─────────────┴────────┴──────────────────┴──────────╯\n"
     ]
    },
    {
     "ename": "KeyboardInterrupt",
     "evalue": "",
     "output_type": "error",
     "traceback": [
      "\u001b[1;31m---------------------------------------------------------------------------\u001b[0m",
      "\u001b[1;31mKeyboardInterrupt\u001b[0m                         Traceback (most recent call last)",
      "\u001b[1;32m<ipython-input-3-8f631df178da>\u001b[0m in \u001b[0;36m<module>\u001b[1;34m\u001b[0m\n\u001b[0;32m      9\u001b[0m         \u001b[0mtable\u001b[0m\u001b[1;33m.\u001b[0m\u001b[0mrows\u001b[0m\u001b[1;33m.\u001b[0m\u001b[0mappend\u001b[0m\u001b[1;33m(\u001b[0m\u001b[1;33m[\u001b[0m\u001b[0mstr\u001b[0m\u001b[1;33m(\u001b[0m\u001b[0mcell\u001b[0m\u001b[1;33m)\u001b[0m\u001b[1;33m.\u001b[0m\u001b[0mreplace\u001b[0m\u001b[1;33m(\u001b[0m\u001b[1;34m'nan'\u001b[0m\u001b[1;33m,\u001b[0m\u001b[1;34m''\u001b[0m\u001b[1;33m)\u001b[0m \u001b[1;32mfor\u001b[0m \u001b[0mcell\u001b[0m \u001b[1;32min\u001b[0m \u001b[0minData_\u001b[0m\u001b[1;33m.\u001b[0m\u001b[0miloc\u001b[0m\u001b[1;33m[\u001b[0m\u001b[0mj\u001b[0m\u001b[1;33m]\u001b[0m\u001b[1;33m]\u001b[0m\u001b[1;33m)\u001b[0m\u001b[1;33m\u001b[0m\u001b[1;33m\u001b[0m\u001b[0m\n\u001b[0;32m     10\u001b[0m     \u001b[0mprint\u001b[0m\u001b[1;33m(\u001b[0m\u001b[0mtable\u001b[0m\u001b[1;33m)\u001b[0m\u001b[1;33m\u001b[0m\u001b[1;33m\u001b[0m\u001b[0m\n\u001b[1;32m---> 11\u001b[1;33m     \u001b[0mtime\u001b[0m\u001b[1;33m.\u001b[0m\u001b[0msleep\u001b[0m\u001b[1;33m(\u001b[0m\u001b[1;36m.35\u001b[0m\u001b[1;33m)\u001b[0m\u001b[1;33m\u001b[0m\u001b[1;33m\u001b[0m\u001b[0m\n\u001b[0m\u001b[0;32m     12\u001b[0m     \u001b[0mk\u001b[0m \u001b[1;33m+=\u001b[0m \u001b[1;36m1\u001b[0m\u001b[1;33m\u001b[0m\u001b[1;33m\u001b[0m\u001b[0m\n",
      "\u001b[1;31mKeyboardInterrupt\u001b[0m: "
     ]
    }
   ],
   "source": [
    "k = 0\n",
    "while k < inData_.shape[0]-8: \n",
    "    clear_output(wait=True)\n",
    "    table = BeautifulTable()\n",
    "    table.columns.width = [12, 12, 13, 8, 18, 10]\n",
    "    table.set_style(BeautifulTable.STYLE_BOX_ROUNDED)\n",
    "    table.columns.header = inData_.columns.to_list()\n",
    "    for j in range(k, k+8):\n",
    "        table.rows.append([str(cell).replace('nan','') for cell in inData_.iloc[j]])\n",
    "    print(table)\n",
    "    time.sleep(.35)\n",
    "    k += 1"
   ]
  },
  {
   "cell_type": "code",
   "execution_count": null,
   "metadata": {},
   "outputs": [],
   "source": []
  },
  {
   "cell_type": "code",
   "execution_count": null,
   "metadata": {},
   "outputs": [],
   "source": []
  },
  {
   "cell_type": "code",
   "execution_count": null,
   "metadata": {},
   "outputs": [],
   "source": []
  },
  {
   "cell_type": "markdown",
   "metadata": {},
   "source": [
    "# With recommendations"
   ]
  },
  {
   "cell_type": "code",
   "execution_count": 4,
   "metadata": {},
   "outputs": [],
   "source": [
    "inData = pd.read_csv('inData.csv', index_col=0, converters={'Recs':ast.literal_eval})"
   ]
  },
  {
   "cell_type": "code",
   "execution_count": 5,
   "metadata": {
    "scrolled": false
   },
   "outputs": [
    {
     "name": "stdout",
     "output_type": "stream",
     "text": [
      "╭────────┬─────────────┬────────┬──────────────────┬──────────┬─────────┬─────────┬─────────┬─────────┬─────────┬─────────╮\n",
      "│  IpId  │  TimeStamp  │ Event  │      Action      │ Product  │  Rec1   │  Rec2   │  Rec3   │  Rec4   │  Rec5   │  Rec6   │\n",
      "├────────┼─────────────┼────────┼──────────────────┼──────────┼─────────┼─────────┼─────────┼─────────┼─────────┼─────────┤\n",
      "│ 200946 │ 2020-04-01  │        │   add_to_cart    │  p-7092  │ \u001b[35m\u001b[1mp-7123\u001b[0m  │ \u001b[35m\u001b[1mp-6350\u001b[0m  │ \u001b[35m\u001b[1mp-4461\u001b[0m  │         │         │         │\n",
      "│   PL   │  10:44:43   │        │                  │          │         │         │         │         │         │         │\n",
      "├────────┼─────────────┼────────┼──────────────────┼──────────┼─────────┼─────────┼─────────┼─────────┼─────────┼─────────┤\n",
      "│ 206690 │ 2020-04-01  │ Arrive │                  │          │  \u001b[35m\u001b[1mc-261\u001b[0m  │ \u001b[35m\u001b[1mp-5892\u001b[0m  │ \u001b[35m\u001b[1mp-3618\u001b[0m  │         │         │         │\n",
      "│   PL   │  10:45:33   │        │                  │          │         │         │         │         │         │         │\n",
      "├────────┼─────────────┼────────┼──────────────────┼──────────┼─────────┼─────────┼─────────┼─────────┼─────────┼─────────┤\n",
      "│ 200946 │ 2020-04-01  │        │ remove_from_cart │          │         │         │         │         │         │         │\n",
      "│   PL   │  10:50:28   │        │                  │          │         │         │         │         │         │         │\n",
      "├────────┼─────────────┼────────┼──────────────────┼──────────┼─────────┼─────────┼─────────┼─────────┼─────────┼─────────┤\n",
      "│ 200946 │ 2020-04-01  │        │ remove_from_cart │          │         │         │         │         │         │         │\n",
      "│   PL   │  10:50:36   │        │                  │          │         │         │         │         │         │         │\n",
      "├────────┼─────────────┼────────┼──────────────────┼──────────┼─────────┼─────────┼─────────┼─────────┼─────────┼─────────┤\n",
      "│ 200946 │ 2020-04-01  │ Leave  │                  │          │         │         │         │         │         │         │\n",
      "│   PL   │  10:50:37   │        │                  │          │         │         │         │         │         │         │\n",
      "├────────┼─────────────┼────────┼──────────────────┼──────────┼─────────┼─────────┼─────────┼─────────┼─────────┼─────────┤\n",
      "│ 207546 │ 2020-04-01  │ Arrive │                  │          │         │         │         │         │         │         │\n",
      "│   PL   │  10:52:25   │        │                  │          │         │         │         │         │         │         │\n",
      "├────────┼─────────────┼────────┼──────────────────┼──────────┼─────────┼─────────┼─────────┼─────────┼─────────┼─────────┤\n",
      "│ 206690 │ 2020-04-01  │ Leave  │                  │          │ \u001b[35m\u001b[1mp-3618\u001b[0m  │ \u001b[35m\u001b[1mp-5892\u001b[0m  │ \u001b[35m\u001b[1mp-5374\u001b[0m  │         │         │         │\n",
      "│   PL   │  10:52:32   │        │                  │          │         │         │         │         │         │         │\n",
      "├────────┼─────────────┼────────┼──────────────────┼──────────┼─────────┼─────────┼─────────┼─────────┼─────────┼─────────┤\n",
      "│ 203264 │ 2020-04-01  │ Leave  │                  │          │ \u001b[35m\u001b[1mp-4291\u001b[0m  │ \u001b[35m\u001b[1mp-3997\u001b[0m  │ \u001b[35m\u001b[1mp-9618\u001b[0m  │         │         │         │\n",
      "│   PL   │  10:53:45   │        │                  │          │         │         │         │         │         │         │\n",
      "╰────────┴─────────────┴────────┴──────────────────┴──────────┴─────────┴─────────┴─────────┴─────────┴─────────┴─────────╯\n"
     ]
    },
    {
     "ename": "KeyboardInterrupt",
     "evalue": "",
     "output_type": "error",
     "traceback": [
      "\u001b[1;31m---------------------------------------------------------------------------\u001b[0m",
      "\u001b[1;31mKeyboardInterrupt\u001b[0m                         Traceback (most recent call last)",
      "\u001b[1;32m<ipython-input-5-11b902a957f1>\u001b[0m in \u001b[0;36m<module>\u001b[1;34m\u001b[0m\n\u001b[0;32m     12\u001b[0m                           [colored(recs[i], 'magenta', attrs=['bold']) for i in range (6)])\n\u001b[0;32m     13\u001b[0m     \u001b[0mprint\u001b[0m\u001b[1;33m(\u001b[0m\u001b[0mtable\u001b[0m\u001b[1;33m)\u001b[0m\u001b[1;33m\u001b[0m\u001b[1;33m\u001b[0m\u001b[0m\n\u001b[1;32m---> 14\u001b[1;33m     \u001b[0mtime\u001b[0m\u001b[1;33m.\u001b[0m\u001b[0msleep\u001b[0m\u001b[1;33m(\u001b[0m\u001b[1;36m.35\u001b[0m\u001b[1;33m)\u001b[0m\u001b[1;33m\u001b[0m\u001b[1;33m\u001b[0m\u001b[0m\n\u001b[0m\u001b[0;32m     15\u001b[0m     \u001b[0mk\u001b[0m \u001b[1;33m+=\u001b[0m \u001b[1;36m1\u001b[0m\u001b[1;33m\u001b[0m\u001b[1;33m\u001b[0m\u001b[0m\n",
      "\u001b[1;31mKeyboardInterrupt\u001b[0m: "
     ]
    }
   ],
   "source": [
    "k = 0\n",
    "while k < inData.shape[0]-8: \n",
    "    clear_output(wait=True)\n",
    "    table = BeautifulTable()\n",
    "    table.columns.width = [8, 13, 8, 18, 10, 9, 9, 9, 9, 9, 9]\n",
    "    table.set_style(BeautifulTable.STYLE_BOX_ROUNDED)\n",
    "    table.columns.header = inData.drop('Recs', axis=1).columns.to_list() + ['Rec1', 'Rec2', 'Rec3', 'Rec4', 'Rec5', 'Rec6']\n",
    "    for j in range(k, k+8):\n",
    "        recs = [rec for rec in inData.iloc[j]['Recs'] if rec != '']\n",
    "        recs = recs + ['']*(6-len(recs))\n",
    "        table.rows.append([str(cell).replace('nan','') for cell in inData.drop('Recs', axis=1).iloc[j]] + \\\n",
    "                          [colored(recs[i], 'magenta', attrs=['bold']) for i in range (6)])\n",
    "    print(table)\n",
    "    time.sleep(.35)\n",
    "    k += 1"
   ]
  },
  {
   "cell_type": "code",
   "execution_count": null,
   "metadata": {},
   "outputs": [],
   "source": []
  }
 ],
 "metadata": {
  "kernelspec": {
   "display_name": "Python 3",
   "language": "python",
   "name": "python3"
  },
  "language_info": {
   "codemirror_mode": {
    "name": "ipython",
    "version": 3
   },
   "file_extension": ".py",
   "mimetype": "text/x-python",
   "name": "python",
   "nbconvert_exporter": "python",
   "pygments_lexer": "ipython3",
   "version": "3.8.5"
  }
 },
 "nbformat": 4,
 "nbformat_minor": 4
}
