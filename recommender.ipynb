{
 "cells": [
  {
   "cell_type": "markdown",
   "metadata": {},
   "source": [
    "## This notebook assembles the item-item and user-item systems, along with the technique known as dithering, into a single multimodal recommendation engine. The results are displayed as a streaming beautifultable."
   ]
  },
  {
   "cell_type": "code",
   "execution_count": 169,
   "metadata": {},
   "outputs": [],
   "source": [
    "import numpy as np\n",
    "import pandas as pd\n",
    "from datetime import datetime\n",
    "import re\n",
    "import itertools\n",
    "import time\n",
    "import implicit\n",
    "from scipy import sparse\n",
    "from scipy.sparse import csr_matrix\n",
    "from beautifultable import BeautifulTable\n",
    "from beautifultable import BTColumnCollection\n",
    "from IPython.display import clear_output\n",
    "import random\n",
    "from termcolor import colored"
   ]
  },
  {
   "cell_type": "code",
   "execution_count": 2,
   "metadata": {},
   "outputs": [],
   "source": [
    "sessions = pd.read_csv('sessions.csv', index_col=0)\n",
    "sessions.rename(columns={'SessionID':'SessionId'}, inplace=True)"
   ]
  },
  {
   "cell_type": "code",
   "execution_count": 3,
   "metadata": {
    "scrolled": true
   },
   "outputs": [],
   "source": [
    "seconds = (datetime(1970,1,1)-datetime(1,1,1)).total_seconds()\n",
    "ticks = seconds * 10**7\n",
    "sessions['TimeStamp'] = pd.to_datetime((sessions['TimeStamp']-ticks)*100)"
   ]
  },
  {
   "cell_type": "code",
   "execution_count": 4,
   "metadata": {},
   "outputs": [],
   "source": [
    "train = sessions[sessions['TimeStamp']<=datetime(2020,3,31,23,59,59)]\n",
    "test = sessions[sessions['TimeStamp']>datetime(2020,3,31,23,59,59)]"
   ]
  },
  {
   "cell_type": "code",
   "execution_count": 5,
   "metadata": {
    "scrolled": true
   },
   "outputs": [],
   "source": [
    "items = train['Product'].dropna().unique()"
   ]
  },
  {
   "cell_type": "markdown",
   "metadata": {},
   "source": [
    "# Item-item recommendations"
   ]
  },
  {
   "cell_type": "code",
   "execution_count": 18,
   "metadata": {
    "scrolled": true
   },
   "outputs": [],
   "source": [
    "withProduct = train[~train['Product'].isnull()]\n",
    "session_item = pd.DataFrame(withProduct.groupby('SessionId')['Product'].apply(set))"
   ]
  },
  {
   "cell_type": "code",
   "execution_count": 19,
   "metadata": {},
   "outputs": [],
   "source": [
    "def non_overlap_pair(kind, s1, s2, included=None):\n",
    "    if not included:\n",
    "        return (\n",
    "            (kind, key[0], key[1], 1) \n",
    "            for key in itertools.product(s1, s2)  \n",
    "            if key[0]!=key[1]\n",
    "        )\n",
    "    else:\n",
    "        return (\n",
    "            (kind, key[0], key[1], 1) \n",
    "            for key in itertools.product(s1, s2)  \n",
    "            if (key[0]!=key[1]) and (key in included)\n",
    "        )"
   ]
  },
  {
   "cell_type": "code",
   "execution_count": 20,
   "metadata": {},
   "outputs": [],
   "source": [
    "lst = session_item[\"Product\"].to_list()\n",
    "num_sessions = session_item.shape[0]\n",
    "all_item = set(items)\n",
    "\n",
    "both = itertools.chain(\n",
    "    *(\n",
    "        non_overlap_pair(0, u_item, u_item) \n",
    "        for u_item in lst\n",
    "    ))\n",
    "\n",
    "\n",
    "included = set(itertools.chain(\n",
    "    *(\n",
    "        (key for key in itertools.product(u_item, u_item) if key[0]!=key[1])\n",
    "        for u_item in lst \n",
    "    )))\n",
    "\n",
    "\n",
    "first = itertools.chain(\n",
    "    *(\n",
    "        non_overlap_pair(1, u_item, all_item-u_item, included) \n",
    "        for u_item in lst\n",
    "    ))\n",
    "\n",
    "\n",
    "second = itertools.chain(\n",
    "    *(\n",
    "        non_overlap_pair(2, all_item-u_item, u_item, included) \n",
    "        for u_item in lst\n",
    "    ))\n",
    "\n",
    "itemCooc = pd.DataFrame(\n",
    "    itertools.chain(first, second, both), columns=[\"Kind\", \"Item1\", \"Item2\", \"Freq\"])\n",
    "itemCooc = itemCooc.groupby([\"Kind\", \"Item1\", \"Item2\"]).sum()\n",
    "itemCooc = itemCooc.unstack(0)"
   ]
  },
  {
   "cell_type": "code",
   "execution_count": 21,
   "metadata": {},
   "outputs": [],
   "source": [
    "itemCooc[('Freq', 3)] = num_sessions - itemCooc[('Freq', 0)] - itemCooc[('Freq', 1)] - itemCooc[('Freq', 2)]"
   ]
  },
  {
   "cell_type": "code",
   "execution_count": 22,
   "metadata": {},
   "outputs": [],
   "source": [
    "def shannon(v):\n",
    "    S = np.sum(v)\n",
    "    return np.dot(v/S,np.log(np.add(v/S,v==0)))"
   ]
  },
  {
   "cell_type": "code",
   "execution_count": 23,
   "metadata": {},
   "outputs": [],
   "source": [
    "def llr(x):\n",
    "    v = np.array([x[('Freq', 0)], x[('Freq', 1)], x[('Freq', 2)], x[('Freq', 3)]])\n",
    "    return 2*np.sum(v)*(shannon(v) - \\\n",
    "                        shannon([v[0]+v[1], v[2]+v[3]]) - \\\n",
    "                        shannon([v[0]+v[2], v[1]+v[3]])\n",
    "                       )"
   ]
  },
  {
   "cell_type": "code",
   "execution_count": 24,
   "metadata": {},
   "outputs": [],
   "source": [
    "itemCooc_llr = itemCooc.apply(lambda x: llr(x), axis=1)"
   ]
  },
  {
   "cell_type": "code",
   "execution_count": 25,
   "metadata": {
    "scrolled": true
   },
   "outputs": [],
   "source": [
    "llrDf = pd.DataFrame(itemCooc_llr).rename(columns={0:'Llr'}).dropna().reset_index()"
   ]
  },
  {
   "cell_type": "code",
   "execution_count": 63,
   "metadata": {},
   "outputs": [],
   "source": [
    "def ditheredLlr(item):\n",
    "    if item not in set(llrDf['Item1']):\n",
    "        return ['']*3\n",
    "    else:\n",
    "        _ = llrDf[llrDf['Item1']==item].sort_values('Llr', ascending=False).reset_index(drop=True)\n",
    "        _['Rank'] = _.index\n",
    "        _['ditheredRank'] = np.log(_['Rank']+1) + np.random.normal(0, np.sqrt(np.log(1.5)), _['Rank'].max()+1)\n",
    "        llrRecs = _.sort_values('ditheredRank').head(3)['Item2']\n",
    "        if len(llrRecs) < 3:\n",
    "            pad = ['']*(3-len(llrRecs))\n",
    "            return llrRecs.to_list() + pad\n",
    "        else:\n",
    "            return llrRecs.to_list()"
   ]
  },
  {
   "cell_type": "code",
   "execution_count": 75,
   "metadata": {},
   "outputs": [],
   "source": [
    "productRecs = pd.DataFrame({'Product':test['Product'].dropna().unique()})\n",
    "productRecs = productRecs.apply(lambda x: ditheredLlr(x['Product']), axis=1)"
   ]
  },
  {
   "cell_type": "markdown",
   "metadata": {},
   "source": [
    "# User-item recommendations"
   ]
  },
  {
   "cell_type": "code",
   "execution_count": 77,
   "metadata": {
    "scrolled": true
   },
   "outputs": [],
   "source": [
    "sessionFlags = pd.DataFrame()\n",
    "sessionFlags['Add'] = train.groupby('SessionId')['Action'].apply(lambda y: 'add_to_cart' in set(y))\n",
    "sessionFlags['Remove'] = train.groupby('SessionId')['Action'].apply(lambda y: 'remove_from_cart' in set(y))\n",
    "sessionFlags['Delete'] = train.groupby('SessionId')['Action'].apply(lambda y: 'delete_cart' in set(y))\n",
    "sessionFlags['Order'] = train.groupby('SessionId')['Action'].apply(lambda y: 'order' in set(y))\n",
    "sessionFlags['Change'] = train.groupby('SessionId')['Action'].apply(lambda y: 'change_order' in set(y))"
   ]
  },
  {
   "cell_type": "markdown",
   "metadata": {},
   "source": [
    "Since we are going to use the package 'implicit' we need to create a sparse item-user matrix. The matrix entries will be the confidence we have in the user preference for that item. Preferences are binary, and are based on implicit feedback, in our case based on 'action' information."
   ]
  },
  {
   "cell_type": "code",
   "execution_count": 78,
   "metadata": {},
   "outputs": [],
   "source": [
    "def userRating(x):\n",
    "    if x['Add'] and x['Order'] and not x['Remove'] and not x['Delete'] and not x['Change']:\n",
    "        return 5\n",
    "    elif x['Add'] and x['Order'] and not x['Remove'] and not x['Delete']:\n",
    "        return 4\n",
    "    elif x['Add'] and x['Order'] and not x['Delete']:\n",
    "        return 3\n",
    "    elif x['Add'] and x['Order']:\n",
    "        return 2\n",
    "    elif x['Add']:\n",
    "        return 1"
   ]
  },
  {
   "cell_type": "code",
   "execution_count": 79,
   "metadata": {
    "scrolled": true
   },
   "outputs": [],
   "source": [
    "user_session_item = train[~train['Product'].isnull()].drop(['TimeStamp', 'Event', 'Action'], axis=1).drop_duplicates()\n",
    "user_session_item = user_session_item.merge(sessionFlags, how='left', on='SessionId')\n",
    "user_session_item['Rating'] = user_session_item.apply(userRating, axis=1)\n",
    "user_session_item = user_session_item.drop(['Add', 'Remove', 'Delete', 'Order', 'Change'], axis=1)"
   ]
  },
  {
   "cell_type": "code",
   "execution_count": 80,
   "metadata": {
    "scrolled": true
   },
   "outputs": [],
   "source": [
    "user_item = user_session_item.drop('SessionId', axis=1)\n",
    "user_item = user_item.groupby(['IpId', 'Product']).sum()\n",
    "user_item['Confidence'] = 1 + 40*user_item['Rating']\n",
    "user_item = user_item.drop('Rating', axis=1)"
   ]
  },
  {
   "cell_type": "code",
   "execution_count": 81,
   "metadata": {},
   "outputs": [],
   "source": [
    "item_user = user_item.unstack(0)\n",
    "dtype = pd.SparseDtype()\n",
    "item_user_sparse = item_user.astype(dtype)\n",
    "item_user_sparse = item_user_sparse.sparse.to_coo()\n",
    "item_user_sparse = item_user_sparse.tocsr()"
   ]
  },
  {
   "cell_type": "code",
   "execution_count": 82,
   "metadata": {},
   "outputs": [
    {
     "name": "stderr",
     "output_type": "stream",
     "text": [
      "WARNING:root:Intel MKL BLAS detected. Its highly recommend to set the environment variable 'export MKL_NUM_THREADS=1' to disable its internal multithreading\n"
     ]
    },
    {
     "data": {
      "application/vnd.jupyter.widget-view+json": {
       "model_id": "eb28a25f57c247ad81bdb86c9c00e8cb",
       "version_major": 2,
       "version_minor": 0
      },
      "text/plain": [
       "HBox(children=(HTML(value=''), FloatProgress(value=0.0, max=15.0), HTML(value='')))"
      ]
     },
     "metadata": {},
     "output_type": "display_data"
    },
    {
     "name": "stdout",
     "output_type": "stream",
     "text": [
      "\n"
     ]
    }
   ],
   "source": [
    "model = implicit.als.AlternatingLeastSquares(factors=10)\n",
    "model.fit(item_user_sparse)"
   ]
  },
  {
   "cell_type": "code",
   "execution_count": 92,
   "metadata": {},
   "outputs": [],
   "source": [
    "user_ids = item_user.T.reset_index(level=0, drop=True).reset_index()['IpId']\n",
    "user_item_ = item_user_sparse.T.tocsr()\n",
    "product_ids = pd.Series(item_user.index)"
   ]
  },
  {
   "cell_type": "code",
   "execution_count": 94,
   "metadata": {},
   "outputs": [],
   "source": [
    "def ditheredImplicit(user):\n",
    "    if user not in set(user_ids):\n",
    "        return ['']*3\n",
    "    else:\n",
    "        user_id = user_ids[user_ids==user].index[0]\n",
    "        recommendations = model.recommend(user_id, user_item_)\n",
    "        _ = pd.DataFrame([(product_ids[product_ids.index==recommendations[j][0]].values[0], recommendations[j][1]) for j in range(len(recommendations))]).rename(columns={0:'Product', 1:'Score'})\n",
    "        _['Rank'] = _.index\n",
    "        _['ditheredRank'] = np.log(_['Rank']+1) + np.random.normal(0, np.sqrt(np.log(1.5)), _['Rank'].max()+1)\n",
    "        userRecs = _.sort_values('ditheredRank').head(3)['Product']\n",
    "        if len(userRecs) < 3:\n",
    "            pad = ['']*(3-len(userRecs))\n",
    "            return userRecs.to_list() + pad\n",
    "        else:\n",
    "            return userRecs.to_list()"
   ]
  },
  {
   "cell_type": "markdown",
   "metadata": {},
   "source": [
    "# Recommendation engine"
   ]
  },
  {
   "cell_type": "code",
   "execution_count": 124,
   "metadata": {},
   "outputs": [],
   "source": [
    "def recommendations(x):\n",
    "    l_ = ditheredLlr(x['Product']) + ditheredImplicit(x['IpId'])\n",
    "    random.shuffle(l_)\n",
    "    return l_"
   ]
  },
  {
   "cell_type": "code",
   "execution_count": 127,
   "metadata": {},
   "outputs": [],
   "source": [
    "test_1d = test[test['TimeStamp']<datetime(2020,4,1,23,59,59)]"
   ]
  },
  {
   "cell_type": "code",
   "execution_count": 128,
   "metadata": {
    "scrolled": true
   },
   "outputs": [
    {
     "data": {
      "text/html": [
       "<div>\n",
       "<style scoped>\n",
       "    .dataframe tbody tr th:only-of-type {\n",
       "        vertical-align: middle;\n",
       "    }\n",
       "\n",
       "    .dataframe tbody tr th {\n",
       "        vertical-align: top;\n",
       "    }\n",
       "\n",
       "    .dataframe thead th {\n",
       "        text-align: right;\n",
       "    }\n",
       "</style>\n",
       "<table border=\"1\" class=\"dataframe\">\n",
       "  <thead>\n",
       "    <tr style=\"text-align: right;\">\n",
       "      <th></th>\n",
       "      <th>IpId</th>\n",
       "      <th>TimeStamp</th>\n",
       "      <th>Event</th>\n",
       "      <th>Action</th>\n",
       "      <th>Product</th>\n",
       "      <th>Recs</th>\n",
       "    </tr>\n",
       "  </thead>\n",
       "  <tbody>\n",
       "    <tr>\n",
       "      <th>39839</th>\n",
       "      <td>202064PL</td>\n",
       "      <td>2020-04-01 00:00:11</td>\n",
       "      <td>NaN</td>\n",
       "      <td>add_to_cart</td>\n",
       "      <td>p-8734</td>\n",
       "      <td>[, c-78, c-66_71, , p-7463, ]</td>\n",
       "    </tr>\n",
       "    <tr>\n",
       "      <th>39840</th>\n",
       "      <td>202064PL</td>\n",
       "      <td>2020-04-01 00:01:12</td>\n",
       "      <td>NaN</td>\n",
       "      <td>add_to_cart</td>\n",
       "      <td>p-7592</td>\n",
       "      <td>[p-7463, p-8808, p-4603, p-8731, p-5131, c-78]</td>\n",
       "    </tr>\n",
       "    <tr>\n",
       "      <th>39841</th>\n",
       "      <td>202064PL</td>\n",
       "      <td>2020-04-01 00:04:48</td>\n",
       "      <td>NaN</td>\n",
       "      <td>add_to_cart</td>\n",
       "      <td>p-9890</td>\n",
       "      <td>[p-9891, p-6690, p-7463, c-66_71, p-9954, p-7380]</td>\n",
       "    </tr>\n",
       "    <tr>\n",
       "      <th>39842</th>\n",
       "      <td>202064PL</td>\n",
       "      <td>2020-04-01 00:10:08</td>\n",
       "      <td>NaN</td>\n",
       "      <td>remove_from_cart</td>\n",
       "      <td>NaN</td>\n",
       "      <td>[c-78, , , p-7214, , p-7463]</td>\n",
       "    </tr>\n",
       "    <tr>\n",
       "      <th>39843</th>\n",
       "      <td>202064PL</td>\n",
       "      <td>2020-04-01 00:10:37</td>\n",
       "      <td>NaN</td>\n",
       "      <td>remove_from_cart</td>\n",
       "      <td>NaN</td>\n",
       "      <td>[, , p-9110, p-7463, c-78, ]</td>\n",
       "    </tr>\n",
       "  </tbody>\n",
       "</table>\n",
       "</div>"
      ],
      "text/plain": [
       "           IpId           TimeStamp Event            Action Product  \\\n",
       "39839  202064PL 2020-04-01 00:00:11   NaN       add_to_cart  p-8734   \n",
       "39840  202064PL 2020-04-01 00:01:12   NaN       add_to_cart  p-7592   \n",
       "39841  202064PL 2020-04-01 00:04:48   NaN       add_to_cart  p-9890   \n",
       "39842  202064PL 2020-04-01 00:10:08   NaN  remove_from_cart     NaN   \n",
       "39843  202064PL 2020-04-01 00:10:37   NaN  remove_from_cart     NaN   \n",
       "\n",
       "                                                    Recs  \n",
       "39839                      [, c-78, c-66_71, , p-7463, ]  \n",
       "39840     [p-7463, p-8808, p-4603, p-8731, p-5131, c-78]  \n",
       "39841  [p-9891, p-6690, p-7463, c-66_71, p-9954, p-7380]  \n",
       "39842                       [c-78, , , p-7214, , p-7463]  \n",
       "39843                       [, , p-9110, p-7463, c-78, ]  "
      ]
     },
     "execution_count": 128,
     "metadata": {},
     "output_type": "execute_result"
    }
   ],
   "source": [
    "inData = test_1d.sort_values('TimeStamp').drop('SessionId', axis=1)\n",
    "inData['Recs'] = inData.apply(recommendations, axis=1)"
   ]
  },
  {
   "cell_type": "code",
   "execution_count": 135,
   "metadata": {},
   "outputs": [],
   "source": [
    "inData.to_csv('inData.csv')"
   ]
  },
  {
   "cell_type": "code",
   "execution_count": 190,
   "metadata": {
    "scrolled": true
   },
   "outputs": [
    {
     "name": "stdout",
     "output_type": "stream",
     "text": [
      "\u001b[1m\u001b[35m['', 'c-78', 'c-66_71', '', 'p-7463', '']\u001b[0m\n"
     ]
    }
   ],
   "source": [
    "print(colored(inData.iloc[0]['Recs'], 'magenta', attrs=['bold']))"
   ]
  },
  {
   "cell_type": "code",
   "execution_count": 193,
   "metadata": {
    "scrolled": false
   },
   "outputs": [
    {
     "name": "stdout",
     "output_type": "stream",
     "text": [
      "╭────────┬─────────────┬────────┬──────────────────┬──────────┬─────────┬─────────┬─────────┬─────────┬─────────┬─────────╮\n",
      "│  IpId  │  TimeStamp  │ Event  │      Action      │ Product  │  Rec1   │  Rec2   │  Rec3   │  Rec4   │  Rec5   │  Rec6   │\n",
      "├────────┼─────────────┼────────┼──────────────────┼──────────┼─────────┼─────────┼─────────┼─────────┼─────────┼─────────┤\n",
      "│ 8153PL │ 2020-04-01  │ Leave  │                  │          │ \u001b[1m\u001b[35mc-66_71\u001b[0m │ \u001b[1m\u001b[35mp-10150\u001b[0m │ \u001b[1m\u001b[35mc-66_27\u001b[0m │         │         │         │\n",
      "│        │  19:42:53   │        │                  │          │         │         │    \u001b[1m\u001b[35m4\u001b[0m    │         │         │         │\n",
      "├────────┼─────────────┼────────┼──────────────────┼──────────┼─────────┼─────────┼─────────┼─────────┼─────────┼─────────┤\n",
      "│ 27750P │ 2020-04-01  │  Flit  │                  │          │  \u001b[1m\u001b[35mc-65\u001b[0m   │ \u001b[1m\u001b[35mp-4128\u001b[0m  │ \u001b[1m\u001b[35mp-10018\u001b[0m │         │         │         │\n",
      "│   L    │  19:43:09   │        │                  │          │         │         │         │         │         │         │\n",
      "├────────┼─────────────┼────────┼──────────────────┼──────────┼─────────┼─────────┼─────────┼─────────┼─────────┼─────────┤\n",
      "│ 3929PL │ 2020-04-01  │  Flit  │                  │          │         │         │         │         │         │         │\n",
      "│        │  19:43:12   │        │                  │          │         │         │         │         │         │         │\n",
      "├────────┼─────────────┼────────┼──────────────────┼──────────┼─────────┼─────────┼─────────┼─────────┼─────────┼─────────┤\n",
      "│ 7944PL │ 2020-04-01  │  Flit  │                  │          │ \u001b[1m\u001b[35mp-8959\u001b[0m  │ \u001b[1m\u001b[35mp-3618\u001b[0m  │ \u001b[1m\u001b[35mp-8960\u001b[0m  │         │         │         │\n",
      "│        │  19:43:56   │        │                  │          │         │         │         │         │         │         │\n",
      "├────────┼─────────────┼────────┼──────────────────┼──────────┼─────────┼─────────┼─────────┼─────────┼─────────┼─────────┤\n",
      "│ 122602 │ 2020-04-01  │ Arrive │                  │          │ \u001b[1m\u001b[35mp-9950\u001b[0m  │ \u001b[1m\u001b[35mp-8443\u001b[0m  │ \u001b[1m\u001b[35mc-272_3\u001b[0m │         │         │         │\n",
      "│   PL   │  19:44:11   │        │                  │          │         │         │   \u001b[1m\u001b[35m12\u001b[0m    │         │         │         │\n",
      "├────────┼─────────────┼────────┼──────────────────┼──────────┼─────────┼─────────┼─────────┼─────────┼─────────┼─────────┤\n",
      "│ 208739 │ 2020-04-01  │ Leave  │                  │          │         │         │         │         │         │         │\n",
      "│   PL   │  19:45:49   │        │                  │          │         │         │         │         │         │         │\n",
      "├────────┼─────────────┼────────┼──────────────────┼──────────┼─────────┼─────────┼─────────┼─────────┼─────────┼─────────┤\n",
      "│ 203264 │ 2020-04-01  │ Arrive │                  │          │ \u001b[1m\u001b[35mp-2453\u001b[0m  │ \u001b[1m\u001b[35mp-4897\u001b[0m  │ \u001b[1m\u001b[35mp-9618\u001b[0m  │         │         │         │\n",
      "│   PL   │  19:47:44   │        │                  │          │         │         │         │         │         │         │\n",
      "├────────┼─────────────┼────────┼──────────────────┼──────────┼─────────┼─────────┼─────────┼─────────┼─────────┼─────────┤\n",
      "│ 114143 │ 2020-04-01  │ Arrive │                  │          │ \u001b[1m\u001b[35mp-7537\u001b[0m  │ \u001b[1m\u001b[35mc-30_81\u001b[0m │ \u001b[1m\u001b[35mp-9967\u001b[0m  │         │         │         │\n",
      "│   PL   │  19:49:50   │        │                  │          │         │         │         │         │         │         │\n",
      "╰────────┴─────────────┴────────┴──────────────────┴──────────┴─────────┴─────────┴─────────┴─────────┴─────────┴─────────╯\n"
     ]
    },
    {
     "ename": "KeyboardInterrupt",
     "evalue": "",
     "output_type": "error",
     "traceback": [
      "\u001b[1;31m---------------------------------------------------------------------------\u001b[0m",
      "\u001b[1;31mKeyboardInterrupt\u001b[0m                         Traceback (most recent call last)",
      "\u001b[1;32m<ipython-input-193-11b902a957f1>\u001b[0m in \u001b[0;36m<module>\u001b[1;34m\u001b[0m\n\u001b[0;32m     12\u001b[0m                           [colored(recs[i], 'magenta', attrs=['bold']) for i in range (6)])\n\u001b[0;32m     13\u001b[0m     \u001b[0mprint\u001b[0m\u001b[1;33m(\u001b[0m\u001b[0mtable\u001b[0m\u001b[1;33m)\u001b[0m\u001b[1;33m\u001b[0m\u001b[1;33m\u001b[0m\u001b[0m\n\u001b[1;32m---> 14\u001b[1;33m     \u001b[0mtime\u001b[0m\u001b[1;33m.\u001b[0m\u001b[0msleep\u001b[0m\u001b[1;33m(\u001b[0m\u001b[1;36m.35\u001b[0m\u001b[1;33m)\u001b[0m\u001b[1;33m\u001b[0m\u001b[1;33m\u001b[0m\u001b[0m\n\u001b[0m\u001b[0;32m     15\u001b[0m     \u001b[0mk\u001b[0m \u001b[1;33m+=\u001b[0m \u001b[1;36m1\u001b[0m\u001b[1;33m\u001b[0m\u001b[1;33m\u001b[0m\u001b[0m\n",
      "\u001b[1;31mKeyboardInterrupt\u001b[0m: "
     ]
    }
   ],
   "source": [
    "k = 0\n",
    "while k < inData.shape[0]-8: \n",
    "    clear_output(wait=True)\n",
    "    table = BeautifulTable()\n",
    "    table.columns.width = [8, 13, 8, 18, 10, 9, 9, 9, 9, 9, 9]\n",
    "    table.set_style(BeautifulTable.STYLE_BOX_ROUNDED)\n",
    "    table.columns.header = inData.drop('Recs', axis=1).columns.to_list() + ['Rec1', 'Rec2', 'Rec3', 'Rec4', 'Rec5', 'Rec6']\n",
    "    for j in range(k, k+8):\n",
    "        recs = [rec for rec in inData.iloc[j]['Recs'] if rec != '']\n",
    "        recs = recs + ['']*(6-len(recs))\n",
    "        table.rows.append([str(cell).replace('nan','') for cell in inData.drop('Recs', axis=1).iloc[j]] + \\\n",
    "                          [colored(recs[i], 'magenta', attrs=['bold']) for i in range (6)])\n",
    "    print(table)\n",
    "    time.sleep(.35)\n",
    "    k += 1"
   ]
  },
  {
   "cell_type": "code",
   "execution_count": null,
   "metadata": {},
   "outputs": [],
   "source": []
  }
 ],
 "metadata": {
  "kernelspec": {
   "display_name": "Python 3",
   "language": "python",
   "name": "python3"
  },
  "language_info": {
   "codemirror_mode": {
    "name": "ipython",
    "version": 3
   },
   "file_extension": ".py",
   "mimetype": "text/x-python",
   "name": "python",
   "nbconvert_exporter": "python",
   "pygments_lexer": "ipython3",
   "version": "3.8.5"
  }
 },
 "nbformat": 4,
 "nbformat_minor": 4
}
