{
 "cells": [
  {
   "cell_type": "markdown",
   "metadata": {},
   "source": [
    "## This is the preprocessing for the 1-day data. For the full dataset, these techniques were imitated using a SQLite database."
   ]
  },
  {
   "cell_type": "code",
   "execution_count": 21,
   "metadata": {},
   "outputs": [],
   "source": [
    "import numpy as np\n",
    "import pandas as pd\n",
    "from datetime import datetime\n",
    "import re\n",
    "import csv"
   ]
  },
  {
   "cell_type": "code",
   "execution_count": 22,
   "metadata": {},
   "outputs": [],
   "source": [
    "import matplotlib.pyplot as plt\n",
    "import seaborn as sns\n",
    "sns.set_theme()\n",
    "sns.set_context('notebook')\n",
    "sns.set_palette('viridis')"
   ]
  },
  {
   "cell_type": "markdown",
   "metadata": {},
   "source": [
    "The use of 'usecols' below is to avoid bringing in 'UserId' which does not contain any information."
   ]
  },
  {
   "cell_type": "code",
   "execution_count": 23,
   "metadata": {},
   "outputs": [],
   "source": [
    "usecols=['IpId', \n",
    "         'TimeStamp',\n",
    "         'HttpMethod',\n",
    "         'Uri', \n",
    "         'ResponseCode', \n",
    "         'Bytes', \n",
    "         'Referrer', \n",
    "         'UserAgent',\n",
    "        ]\n",
    "eclog_1d = pd.read_csv('eclog_1day.csv', usecols=usecols)"
   ]
  },
  {
   "cell_type": "markdown",
   "metadata": {},
   "source": [
    "First we remove any rows with an Ip that has at least once self-identified as a bot."
   ]
  },
  {
   "cell_type": "code",
   "execution_count": 24,
   "metadata": {},
   "outputs": [],
   "source": [
    "mask = eclog_1d['UserAgent'].apply(lambda y: re.search('bot', y, flags=re.IGNORECASE) != None)\n",
    "botIps = eclog_1d['IpId'][mask].unique()\n",
    "eclog_1d = eclog_1d[~eclog_1d['IpId'].apply(lambda y: y in botIps)]"
   ]
  },
  {
   "cell_type": "markdown",
   "metadata": {},
   "source": [
    "Next we remove any rows with an Ip that is associated with at least one Uri signifying use of the 'management' system."
   ]
  },
  {
   "cell_type": "code",
   "execution_count": 25,
   "metadata": {},
   "outputs": [],
   "source": [
    "mask = eclog_1d['Uri'].apply(lambda y: re.match('/zarzadzanie/', y, flags=re.IGNORECASE) != None)\n",
    "managementIps = eclog_1d['IpId'][mask].unique()\n",
    "eclog_1d = eclog_1d[~eclog_1d['IpId'].apply(lambda y: y in managementIps)]"
   ]
  },
  {
   "cell_type": "markdown",
   "metadata": {},
   "source": [
    "**From the documentation**: *TimeStamp – long integer value specifying the UTC date and time of the arrival of a request, coded as the number of 100-nanosecond intervals that have elapsed since 00:00:00 UTC on 1st January, 1 A.D.*"
   ]
  },
  {
   "cell_type": "code",
   "execution_count": 26,
   "metadata": {},
   "outputs": [],
   "source": [
    "seconds = (datetime(1970,1,1)-datetime(1,1,1)).total_seconds()\n",
    "ticks = seconds * 10**7\n",
    "eclog_1d['TimeStamp'] = pd.to_datetime((eclog_1d['TimeStamp']-ticks)*100)"
   ]
  },
  {
   "cell_type": "markdown",
   "metadata": {},
   "source": [
    "Document later."
   ]
  },
  {
   "cell_type": "code",
   "execution_count": 27,
   "metadata": {},
   "outputs": [],
   "source": [
    "mask = eclog_1d.apply(lambda x: x['HttpMethod']=='POST' and re.search('do_koszyka[^a-z_-]', x['Uri'])!=None, axis=1)\n",
    "customerIps = eclog_1d['IpId'][mask].unique()\n",
    "eclog_1d = eclog_1d[eclog_1d['IpId'].apply(lambda y: y in customerIps)]"
   ]
  },
  {
   "cell_type": "markdown",
   "metadata": {},
   "source": [
    "Sort the remaining data into customer sessions and include some columns that will allow us to identify events 'arrive' and 'leave'. The end of a session is determined either by the Ip changing, or more than 30 minutes of inactivity."
   ]
  },
  {
   "cell_type": "code",
   "execution_count": 28,
   "metadata": {},
   "outputs": [],
   "source": [
    "sessions = eclog_1d.sort_values(['IpId','TimeStamp'])\n",
    "sessions['Lag1_IpId'] = sessions['IpId'].shift(1)\n",
    "sessions['Lag1_TimeStamp'] = sessions['TimeStamp'].shift(1)\n",
    "sessions['Lead1_IpId'] = sessions['IpId'].shift(-1)\n",
    "sessions['Lead1_TimeStamp'] = sessions['TimeStamp'].shift(-1)"
   ]
  },
  {
   "cell_type": "code",
   "execution_count": 29,
   "metadata": {},
   "outputs": [],
   "source": [
    "def minutes(x,y):\n",
    "    return abs((x-y).total_seconds())/60"
   ]
  },
  {
   "cell_type": "code",
   "execution_count": 30,
   "metadata": {},
   "outputs": [],
   "source": [
    "def aux0(x):\n",
    "    if (x['IpId'] != x['Lag1_IpId'] and x['IpId'] != x['Lead1_IpId']) or \\\n",
    "        (minutes(x['TimeStamp'],x['Lag1_TimeStamp']) > 30 and minutes(x['TimeStamp'],x['Lead1_TimeStamp']) > 30) or \\\n",
    "        (x['IpId'] != x['Lag1_IpId'] and minutes(x['TimeStamp'],x['Lead1_TimeStamp']) > 30) or \\\n",
    "        (x['IpId'] != x['Lead1_IpId'] and minutes(x['TimeStamp'],x['Lag1_TimeStamp']) > 30):\n",
    "        return 'Flit'\n",
    "    elif x['IpId'] != x['Lag1_IpId'] or minutes(x['TimeStamp'], x['Lag1_TimeStamp']) > 30:\n",
    "        return 'Arrive'\n",
    "    elif x['IpId'] != x['Lead1_IpId'] or minutes(x['TimeStamp'], x['Lead1_TimeStamp']) > 30:\n",
    "        return 'Leave'"
   ]
  },
  {
   "cell_type": "code",
   "execution_count": 31,
   "metadata": {
    "scrolled": true
   },
   "outputs": [],
   "source": [
    "sessions['Event'] = sessions.apply(lambda x: aux0(x), axis=1)\n",
    "sessions = sessions.drop(['Lag1_IpId', 'Lag1_TimeStamp', 'Lead1_IpId', 'Lead1_TimeStamp'], axis=1)"
   ]
  },
  {
   "cell_type": "markdown",
   "metadata": {},
   "source": [
    "At this point we need to identify some product information. Product codes can be found in both the Uri and Refferer columns."
   ]
  },
  {
   "cell_type": "code",
   "execution_count": 32,
   "metadata": {},
   "outputs": [],
   "source": [
    "def aux1(y):\n",
    "    product = re.search('p-[0-9_]+|r-[0-9_]+|kartapdf-[0-9_]+|c-[0-9_]+|m-[0-9_]+', y)\n",
    "    if product != None:\n",
    "        return product.group(0)"
   ]
  },
  {
   "cell_type": "code",
   "execution_count": 33,
   "metadata": {},
   "outputs": [],
   "source": [
    "sessions['UriProduct'] = sessions['Uri'].apply(lambda y: aux1(y))\n",
    "sessions['RefProduct'] = sessions['Referrer'].apply(lambda y: aux1(y))"
   ]
  },
  {
   "cell_type": "markdown",
   "metadata": {},
   "source": [
    "It would be nice if there were only one product column. Occasionally both UriProduct and RefProduct are not none and they do not agree. Typically it seems this is when the customer is moving from one product (in the Refferer URL) to the next (in the URI). Since according to this Uri is the latest information, we determine that this takes precedence. This should have little to no effect because it happens surprisingly infrequently and never with method POST.   "
   ]
  },
  {
   "cell_type": "code",
   "execution_count": 34,
   "metadata": {},
   "outputs": [],
   "source": [
    "def makeproduct(x):\n",
    "    if x['UriProduct']!=None:\n",
    "        return x['UriProduct']\n",
    "    elif x['RefProduct']!=None:\n",
    "        return x['RefProduct']"
   ]
  },
  {
   "cell_type": "code",
   "execution_count": 35,
   "metadata": {},
   "outputs": [],
   "source": [
    "sessions['CurrentProduct'] = sessions.apply(lambda x: makeproduct(x), axis=1)"
   ]
  },
  {
   "cell_type": "code",
   "execution_count": 36,
   "metadata": {},
   "outputs": [],
   "source": [
    "sessions = sessions.drop(['UriProduct', 'RefProduct'], axis=1)"
   ]
  },
  {
   "cell_type": "markdown",
   "metadata": {},
   "source": [
    "Occasionally there will be a 'cart' or 'recommend' action without a product id alongside. If we decide to take the approach of using the last identified product in that session, we will need to have that information."
   ]
  },
  {
   "cell_type": "code",
   "execution_count": 37,
   "metadata": {},
   "outputs": [],
   "source": [
    "sessions['LastProduct'] = sessions['CurrentProduct']"
   ]
  },
  {
   "cell_type": "code",
   "execution_count": 38,
   "metadata": {},
   "outputs": [],
   "source": [
    "def identbegin(y):\n",
    "    if y=='Arrive' or y=='Flit':\n",
    "        return 1\n",
    "    else:\n",
    "        return 0"
   ]
  },
  {
   "cell_type": "code",
   "execution_count": 39,
   "metadata": {},
   "outputs": [],
   "source": [
    "forcumsum = sessions['Event'].apply(lambda y: identbegin(y))\n",
    "sessions['SessionId'] = forcumsum.cumsum()"
   ]
  },
  {
   "cell_type": "code",
   "execution_count": 40,
   "metadata": {
    "scrolled": true
   },
   "outputs": [],
   "source": [
    "sessions['LastProduct']=sessions.groupby('SessionId')['LastProduct'].fillna(method='ffill')"
   ]
  },
  {
   "cell_type": "markdown",
   "metadata": {},
   "source": [
    "We now reduce the data to the important events and actions."
   ]
  },
  {
   "cell_type": "code",
   "execution_count": 41,
   "metadata": {},
   "outputs": [],
   "source": [
    "def important(x):\n",
    "    return x['Event'] != None or \\\n",
    "        (x['HttpMethod']=='POST' and re.search('do_koszyka[^a-z_-]', x['Uri'])!=None) or \\\n",
    "        (x['HttpMethod']=='POST' and re.search('koszyk_usun', x['Uri'])!=None) or \\\n",
    "        (x['HttpMethod']=='POST' and re.search('usun_z_koszyka', x['Uri'])!=None) or \\\n",
    "        (x['HttpMethod']=='POST' and re.search('zamowienie_realizacja', x['Uri'])!=None) or \\\n",
    "        (x['HttpMethod']=='POST' and re.search('do_zmiany_danych_zamowienie', x['Uri'])!=None)"
   ]
  },
  {
   "cell_type": "code",
   "execution_count": 42,
   "metadata": {},
   "outputs": [],
   "source": [
    "mask = sessions.apply(lambda x: important(x), axis=1)\n",
    "sessions = sessions[mask]"
   ]
  },
  {
   "cell_type": "code",
   "execution_count": 44,
   "metadata": {},
   "outputs": [],
   "source": [
    "def makeaction(y):\n",
    "    if re.search('do_koszyka[^a-z_-]', y)!=None:\n",
    "        return 'add_to_cart'\n",
    "    elif re.search('koszyk_usun', y)!=None:\n",
    "        return 'delete_cart'\n",
    "    elif re.search('usun_z_koszyka', y)!=None:\n",
    "        return 'remove_from_cart'\n",
    "    elif re.search('zamowienie_realizacja', y)!=None:\n",
    "        return 'order'\n",
    "    elif re.search('do_zmiany_danych_zamowienie', y)!=None:\n",
    "        return 'change_order'"
   ]
  },
  {
   "cell_type": "code",
   "execution_count": 45,
   "metadata": {},
   "outputs": [],
   "source": [
    "sessions['Action'] = sessions['Uri'].apply(lambda y: makeaction(y))"
   ]
  },
  {
   "cell_type": "code",
   "execution_count": 46,
   "metadata": {},
   "outputs": [],
   "source": [
    "def makeproduct2(x):\n",
    "    if x['Action']=='add_to_cart' and x['CurrentProduct']!=None:\n",
    "        return x['CurrentProduct']\n",
    "    elif x['Action']=='add_to_cart':\n",
    "        return x['LastProduct']"
   ]
  },
  {
   "cell_type": "code",
   "execution_count": 47,
   "metadata": {},
   "outputs": [],
   "source": [
    "sessions['Product'] = sessions.apply(lambda x: makeproduct2(x), axis=1)"
   ]
  },
  {
   "cell_type": "code",
   "execution_count": 50,
   "metadata": {},
   "outputs": [],
   "source": [
    "sessions = sessions[['SessionId', 'IpId', 'TimeStamp', 'Event', 'Action', 'Product']]"
   ]
  },
  {
   "cell_type": "code",
   "execution_count": 52,
   "metadata": {},
   "outputs": [
    {
     "data": {
      "text/plain": [
       "208"
      ]
     },
     "execution_count": 52,
     "metadata": {},
     "output_type": "execute_result"
    }
   ],
   "source": [
    "sessions['SessionId'].nunique()"
   ]
  },
  {
   "cell_type": "code",
   "execution_count": 54,
   "metadata": {},
   "outputs": [],
   "source": [
    "sessions.to_csv('sessions.csv')"
   ]
  }
 ],
 "metadata": {
  "kernelspec": {
   "display_name": "Python 3",
   "language": "python",
   "name": "python3"
  },
  "language_info": {
   "codemirror_mode": {
    "name": "ipython",
    "version": 3
   },
   "file_extension": ".py",
   "mimetype": "text/x-python",
   "name": "python",
   "nbconvert_exporter": "python",
   "pygments_lexer": "ipython3",
   "version": "3.8.5"
  }
 },
 "nbformat": 4,
 "nbformat_minor": 4
}
