{
 "cells": [
  {
   "cell_type": "code",
   "execution_count": 198,
   "metadata": {},
   "outputs": [],
   "source": [
    "import numpy as np\n",
    "import pandas as pd\n",
    "from datetime import datetime\n",
    "import re\n",
    "import itertools\n",
    "import time\n",
    "from sklearn.metrics.pairwise import cosine_similarity\n",
    "from scipy import sparse\n",
    "import matplotlib.pyplot as plt\n",
    "from sklearn.preprocessing import binarize\n",
    "import tensorflow as tf"
   ]
  },
  {
   "cell_type": "code",
   "execution_count": 2,
   "metadata": {},
   "outputs": [
    {
     "data": {
      "text/plain": [
       "(112256, 6)"
      ]
     },
     "execution_count": 2,
     "metadata": {},
     "output_type": "execute_result"
    }
   ],
   "source": [
    "sessions = pd.read_csv('sessions.csv', index_col=0)\n",
    "sessions.rename(columns={'SessionID':'SessionId'}, inplace=True)\n",
    "sessions.shape"
   ]
  },
  {
   "cell_type": "markdown",
   "metadata": {},
   "source": [
    "**From the documentation**: *TimeStamp – long integer value specifying the UTC date and time of the arrival of a request, coded as the number of 100-nanosecond intervals that have elapsed since 00:00:00 UTC on 1st January, 1 A.D.*"
   ]
  },
  {
   "cell_type": "code",
   "execution_count": 3,
   "metadata": {
    "scrolled": false
   },
   "outputs": [
    {
     "data": {
      "text/html": [
       "<div>\n",
       "<style scoped>\n",
       "    .dataframe tbody tr th:only-of-type {\n",
       "        vertical-align: middle;\n",
       "    }\n",
       "\n",
       "    .dataframe tbody tr th {\n",
       "        vertical-align: top;\n",
       "    }\n",
       "\n",
       "    .dataframe thead th {\n",
       "        text-align: right;\n",
       "    }\n",
       "</style>\n",
       "<table border=\"1\" class=\"dataframe\">\n",
       "  <thead>\n",
       "    <tr style=\"text-align: right;\">\n",
       "      <th></th>\n",
       "      <th>SessionId</th>\n",
       "      <th>IpId</th>\n",
       "      <th>TimeStamp</th>\n",
       "      <th>Event</th>\n",
       "      <th>Action</th>\n",
       "      <th>Product</th>\n",
       "    </tr>\n",
       "  </thead>\n",
       "  <tbody>\n",
       "    <tr>\n",
       "      <th>0</th>\n",
       "      <td>0</td>\n",
       "      <td>100095PL</td>\n",
       "      <td>2020-01-13 21:35:36</td>\n",
       "      <td>Leave</td>\n",
       "      <td>NaN</td>\n",
       "      <td>NaN</td>\n",
       "    </tr>\n",
       "    <tr>\n",
       "      <th>1</th>\n",
       "      <td>1</td>\n",
       "      <td>100095PL</td>\n",
       "      <td>2020-04-18 16:14:40</td>\n",
       "      <td>Arrive</td>\n",
       "      <td>NaN</td>\n",
       "      <td>NaN</td>\n",
       "    </tr>\n",
       "    <tr>\n",
       "      <th>2</th>\n",
       "      <td>1</td>\n",
       "      <td>100095PL</td>\n",
       "      <td>2020-04-18 16:15:26</td>\n",
       "      <td>NaN</td>\n",
       "      <td>add_to_cart</td>\n",
       "      <td>p-9967</td>\n",
       "    </tr>\n",
       "    <tr>\n",
       "      <th>3</th>\n",
       "      <td>1</td>\n",
       "      <td>100095PL</td>\n",
       "      <td>2020-04-18 16:33:07</td>\n",
       "      <td>NaN</td>\n",
       "      <td>order</td>\n",
       "      <td>NaN</td>\n",
       "    </tr>\n",
       "    <tr>\n",
       "      <th>4</th>\n",
       "      <td>1</td>\n",
       "      <td>100095PL</td>\n",
       "      <td>2020-04-18 16:34:25</td>\n",
       "      <td>Leave</td>\n",
       "      <td>NaN</td>\n",
       "      <td>NaN</td>\n",
       "    </tr>\n",
       "  </tbody>\n",
       "</table>\n",
       "</div>"
      ],
      "text/plain": [
       "   SessionId      IpId           TimeStamp   Event       Action Product\n",
       "0          0  100095PL 2020-01-13 21:35:36   Leave          NaN     NaN\n",
       "1          1  100095PL 2020-04-18 16:14:40  Arrive          NaN     NaN\n",
       "2          1  100095PL 2020-04-18 16:15:26     NaN  add_to_cart  p-9967\n",
       "3          1  100095PL 2020-04-18 16:33:07     NaN        order     NaN\n",
       "4          1  100095PL 2020-04-18 16:34:25   Leave          NaN     NaN"
      ]
     },
     "execution_count": 3,
     "metadata": {},
     "output_type": "execute_result"
    }
   ],
   "source": [
    "seconds = (datetime(1970,1,1)-datetime(1,1,1)).total_seconds()\n",
    "ticks = seconds * 10**7\n",
    "sessions['TimeStamp'] = pd.to_datetime((sessions['TimeStamp']-ticks)*100)\n",
    "sessions.head()"
   ]
  },
  {
   "cell_type": "code",
   "execution_count": 4,
   "metadata": {},
   "outputs": [],
   "source": [
    "train = sessions[sessions['TimeStamp']<=datetime(2020,3,31,23,59,59)]\n",
    "test = sessions[sessions['TimeStamp']>datetime(2020,3,31,23,59,59)]"
   ]
  },
  {
   "cell_type": "code",
   "execution_count": 5,
   "metadata": {
    "scrolled": true
   },
   "outputs": [
    {
     "name": "stdout",
     "output_type": "stream",
     "text": [
      "(4038,)\n"
     ]
    }
   ],
   "source": [
    "items = train['Product'].dropna().unique()\n",
    "print(items.shape)"
   ]
  },
  {
   "cell_type": "code",
   "execution_count": 6,
   "metadata": {},
   "outputs": [
    {
     "name": "stdout",
     "output_type": "stream",
     "text": [
      "(8694,)\n"
     ]
    }
   ],
   "source": [
    "users = train['IpId'].unique()\n",
    "print(users.shape)"
   ]
  },
  {
   "cell_type": "code",
   "execution_count": 58,
   "metadata": {},
   "outputs": [
    {
     "name": "stdout",
     "output_type": "stream",
     "text": [
      "1405\n"
     ]
    }
   ],
   "source": [
    "withProduct = train[~train['Product'].isnull()].groupby('IpId')['Product'].apply(set)\n",
    "with3Plus = withProduct[pd.Series(withProduct).apply(len)>2]\n",
    "with3Plus = with3Plus.index.to_list()\n",
    "print(len(with3Plus))"
   ]
  },
  {
   "cell_type": "code",
   "execution_count": 99,
   "metadata": {},
   "outputs": [],
   "source": [
    "mask = train['IpId'].apply(lambda y: y in with3Plus)\n",
    "activeUsers = train[mask]\n",
    "userBaskets = activeUsers[~activeUsers['Product'].isnull()].drop(['TimeStamp', 'Event', 'Action', 'SessionId'], axis=1)\n",
    "userBaskets['Add'] = 1\n",
    "userBaskets = userBaskets.groupby(['IpId', 'Product']).sum()\n",
    "userBaskets = userBaskets.unstack(fill_value=0)\n",
    "userBaskets_sparse = sparse.csr_matrix(userBaskets)"
   ]
  },
  {
   "cell_type": "code",
   "execution_count": 60,
   "metadata": {},
   "outputs": [],
   "source": [
    "user_cosSim = cosine_similarity(userBaskets_sparse)"
   ]
  },
  {
   "cell_type": "code",
   "execution_count": 63,
   "metadata": {
    "scrolled": true
   },
   "outputs": [
    {
     "data": {
      "image/png": "[encoded data removed]",
      "text/plain": [
       "<Figure size 432x288 with 1 Axes>"
      ]
     },
     "metadata": {
      "needs_background": "light"
     },
     "output_type": "display_data"
    }
   ],
   "source": [
    "plt.hist(user_cosSim)\n",
    "plt.show()"
   ]
  },
  {
   "cell_type": "code",
   "execution_count": 77,
   "metadata": {
    "scrolled": true
   },
   "outputs": [
    {
     "name": "stdout",
     "output_type": "stream",
     "text": [
      "(1405, 1405)\n",
      "1974025\n",
      "45350\n",
      "1927270\n",
      "32172\n"
     ]
    }
   ],
   "source": [
    "print(user_cosSim.shape)\n",
    "print(1405*1405)\n",
    "print(np.sum(user_cosSim > 0) - 1405)\n",
    "print(np.sum(user_cosSim == 0))\n",
    "print(np.sum(user_cosSim > 0.1) - 1405)"
   ]
  },
  {
   "cell_type": "code",
   "execution_count": 100,
   "metadata": {
    "scrolled": true
   },
   "outputs": [
    {
     "name": "stderr",
     "output_type": "stream",
     "text": [
      "<ipython-input-100-1f59f14a0c9a>:1: SettingWithCopyWarning: \n",
      "A value is trying to be set on a copy of a slice from a DataFrame.\n",
      "Try using .loc[row_indexer,col_indexer] = value instead\n",
      "\n",
      "See the caveats in the documentation: https://pandas.pydata.org/pandas-docs/stable/user_guide/indexing.html#returning-a-view-versus-a-copy\n",
      "  activeUsers['LagTimeStamp'] = activeUsers['TimeStamp'].shift()\n"
     ]
    }
   ],
   "source": [
    "activeUsers['LagTimeStamp'] = activeUsers['TimeStamp'].shift()"
   ]
  },
  {
   "cell_type": "code",
   "execution_count": 101,
   "metadata": {},
   "outputs": [
    {
     "name": "stderr",
     "output_type": "stream",
     "text": [
      "<ipython-input-101-9ca4341792f0>:1: SettingWithCopyWarning: \n",
      "A value is trying to be set on a copy of a slice from a DataFrame.\n",
      "Try using .loc[row_indexer,col_indexer] = value instead\n",
      "\n",
      "See the caveats in the documentation: https://pandas.pydata.org/pandas-docs/stable/user_guide/indexing.html#returning-a-view-versus-a-copy\n",
      "  activeUsers['Gap'] = activeUsers.apply(lambda x: (x['TimeStamp'] - x['LagTimeStamp']).total_seconds(), axis=1)\n"
     ]
    }
   ],
   "source": [
    "activeUsers['Gap'] = activeUsers.apply(lambda x: (x['TimeStamp'] - x['LagTimeStamp']).total_seconds(), axis=1)"
   ]
  },
  {
   "cell_type": "code",
   "execution_count": 102,
   "metadata": {},
   "outputs": [
    {
     "data": {
      "text/html": [
       "<div>\n",
       "<style scoped>\n",
       "    .dataframe tbody tr th:only-of-type {\n",
       "        vertical-align: middle;\n",
       "    }\n",
       "\n",
       "    .dataframe tbody tr th {\n",
       "        vertical-align: top;\n",
       "    }\n",
       "\n",
       "    .dataframe thead th {\n",
       "        text-align: right;\n",
       "    }\n",
       "</style>\n",
       "<table border=\"1\" class=\"dataframe\">\n",
       "  <thead>\n",
       "    <tr style=\"text-align: right;\">\n",
       "      <th></th>\n",
       "      <th>SessionId</th>\n",
       "      <th>IpId</th>\n",
       "      <th>TimeStamp</th>\n",
       "      <th>Event</th>\n",
       "      <th>Action</th>\n",
       "      <th>Product</th>\n",
       "      <th>LagTimeStamp</th>\n",
       "      <th>Gap</th>\n",
       "    </tr>\n",
       "  </thead>\n",
       "  <tbody>\n",
       "    <tr>\n",
       "      <th>32</th>\n",
       "      <td>18</td>\n",
       "      <td>100180PL</td>\n",
       "      <td>2020-01-13 22:44:22</td>\n",
       "      <td>Arrive</td>\n",
       "      <td>NaN</td>\n",
       "      <td>NaN</td>\n",
       "      <td>NaT</td>\n",
       "      <td>NaN</td>\n",
       "    </tr>\n",
       "    <tr>\n",
       "      <th>33</th>\n",
       "      <td>18</td>\n",
       "      <td>100180PL</td>\n",
       "      <td>2020-01-13 22:47:06</td>\n",
       "      <td>Leave</td>\n",
       "      <td>NaN</td>\n",
       "      <td>NaN</td>\n",
       "      <td>2020-01-13 22:44:22</td>\n",
       "      <td>164.0</td>\n",
       "    </tr>\n",
       "    <tr>\n",
       "      <th>34</th>\n",
       "      <td>19</td>\n",
       "      <td>100180PL</td>\n",
       "      <td>2020-01-22 19:47:32</td>\n",
       "      <td>Arrive</td>\n",
       "      <td>NaN</td>\n",
       "      <td>NaN</td>\n",
       "      <td>2020-01-13 22:47:06</td>\n",
       "      <td>766826.0</td>\n",
       "    </tr>\n",
       "    <tr>\n",
       "      <th>35</th>\n",
       "      <td>19</td>\n",
       "      <td>100180PL</td>\n",
       "      <td>2020-01-22 19:52:22</td>\n",
       "      <td>NaN</td>\n",
       "      <td>add_to_cart</td>\n",
       "      <td>p-6769</td>\n",
       "      <td>2020-01-22 19:47:32</td>\n",
       "      <td>290.0</td>\n",
       "    </tr>\n",
       "    <tr>\n",
       "      <th>36</th>\n",
       "      <td>19</td>\n",
       "      <td>100180PL</td>\n",
       "      <td>2020-01-22 19:52:51</td>\n",
       "      <td>NaN</td>\n",
       "      <td>add_to_cart</td>\n",
       "      <td>p-6769</td>\n",
       "      <td>2020-01-22 19:52:22</td>\n",
       "      <td>29.0</td>\n",
       "    </tr>\n",
       "    <tr>\n",
       "      <th>...</th>\n",
       "      <td>...</td>\n",
       "      <td>...</td>\n",
       "      <td>...</td>\n",
       "      <td>...</td>\n",
       "      <td>...</td>\n",
       "      <td>...</td>\n",
       "      <td>...</td>\n",
       "      <td>...</td>\n",
       "    </tr>\n",
       "    <tr>\n",
       "      <th>112219</th>\n",
       "      <td>40281</td>\n",
       "      <td>99972PL</td>\n",
       "      <td>2020-02-19 20:40:12</td>\n",
       "      <td>NaN</td>\n",
       "      <td>add_to_cart</td>\n",
       "      <td>p-8755</td>\n",
       "      <td>2020-02-19 20:38:26</td>\n",
       "      <td>106.0</td>\n",
       "    </tr>\n",
       "    <tr>\n",
       "      <th>112220</th>\n",
       "      <td>40281</td>\n",
       "      <td>99972PL</td>\n",
       "      <td>2020-02-19 20:43:12</td>\n",
       "      <td>NaN</td>\n",
       "      <td>add_to_cart</td>\n",
       "      <td>c-65</td>\n",
       "      <td>2020-02-19 20:40:12</td>\n",
       "      <td>180.0</td>\n",
       "    </tr>\n",
       "    <tr>\n",
       "      <th>112221</th>\n",
       "      <td>40281</td>\n",
       "      <td>99972PL</td>\n",
       "      <td>2020-02-19 20:55:41</td>\n",
       "      <td>NaN</td>\n",
       "      <td>add_to_cart</td>\n",
       "      <td>p-8990</td>\n",
       "      <td>2020-02-19 20:43:12</td>\n",
       "      <td>749.0</td>\n",
       "    </tr>\n",
       "    <tr>\n",
       "      <th>112222</th>\n",
       "      <td>40281</td>\n",
       "      <td>99972PL</td>\n",
       "      <td>2020-02-19 21:26:17</td>\n",
       "      <td>NaN</td>\n",
       "      <td>order</td>\n",
       "      <td>NaN</td>\n",
       "      <td>2020-02-19 20:55:41</td>\n",
       "      <td>1836.0</td>\n",
       "    </tr>\n",
       "    <tr>\n",
       "      <th>112223</th>\n",
       "      <td>40281</td>\n",
       "      <td>99972PL</td>\n",
       "      <td>2020-02-19 21:26:23</td>\n",
       "      <td>Leave</td>\n",
       "      <td>NaN</td>\n",
       "      <td>NaN</td>\n",
       "      <td>2020-02-19 21:26:17</td>\n",
       "      <td>6.0</td>\n",
       "    </tr>\n",
       "  </tbody>\n",
       "</table>\n",
       "<p>25015 rows × 8 columns</p>\n",
       "</div>"
      ],
      "text/plain": [
       "        SessionId      IpId           TimeStamp   Event       Action Product  \\\n",
       "32             18  100180PL 2020-01-13 22:44:22  Arrive          NaN     NaN   \n",
       "33             18  100180PL 2020-01-13 22:47:06   Leave          NaN     NaN   \n",
       "34             19  100180PL 2020-01-22 19:47:32  Arrive          NaN     NaN   \n",
       "35             19  100180PL 2020-01-22 19:52:22     NaN  add_to_cart  p-6769   \n",
       "36             19  100180PL 2020-01-22 19:52:51     NaN  add_to_cart  p-6769   \n",
       "...           ...       ...                 ...     ...          ...     ...   \n",
       "112219      40281   99972PL 2020-02-19 20:40:12     NaN  add_to_cart  p-8755   \n",
       "112220      40281   99972PL 2020-02-19 20:43:12     NaN  add_to_cart    c-65   \n",
       "112221      40281   99972PL 2020-02-19 20:55:41     NaN  add_to_cart  p-8990   \n",
       "112222      40281   99972PL 2020-02-19 21:26:17     NaN        order     NaN   \n",
       "112223      40281   99972PL 2020-02-19 21:26:23   Leave          NaN     NaN   \n",
       "\n",
       "              LagTimeStamp       Gap  \n",
       "32                     NaT       NaN  \n",
       "33     2020-01-13 22:44:22     164.0  \n",
       "34     2020-01-13 22:47:06  766826.0  \n",
       "35     2020-01-22 19:47:32     290.0  \n",
       "36     2020-01-22 19:52:22      29.0  \n",
       "...                    ...       ...  \n",
       "112219 2020-02-19 20:38:26     106.0  \n",
       "112220 2020-02-19 20:40:12     180.0  \n",
       "112221 2020-02-19 20:43:12     749.0  \n",
       "112222 2020-02-19 20:55:41    1836.0  \n",
       "112223 2020-02-19 21:26:17       6.0  \n",
       "\n",
       "[25015 rows x 8 columns]"
      ]
     },
     "execution_count": 102,
     "metadata": {},
     "output_type": "execute_result"
    }
   ],
   "source": [
    "activeUsers"
   ]
  },
  {
   "cell_type": "code",
   "execution_count": 79,
   "metadata": {},
   "outputs": [],
   "source": [
    "def duration(x):\n",
    "    return (x.max()-x.min()).total_seconds()    "
   ]
  },
  {
   "cell_type": "code",
   "execution_count": 105,
   "metadata": {},
   "outputs": [],
   "source": [
    "def begin(x):\n",
    "    return x.min().hour"
   ]
  },
  {
   "cell_type": "code",
   "execution_count": 110,
   "metadata": {
    "scrolled": true
   },
   "outputs": [],
   "source": [
    "sessionFeatures = activeUsers.groupby(['IpId','SessionId']).agg(\n",
    "    Begin = pd.NamedAgg('TimeStamp', begin),\n",
    "    Duration = pd.NamedAgg('TimeStamp', duration),\n",
    "    Adds = pd.NamedAgg('Product', 'count'),\n",
    "    Products = pd.NamedAgg('Product', 'nunique'),\n",
    "    MeanGap = pd.NamedAgg('Gap', 'mean')\n",
    ")"
   ]
  },
  {
   "cell_type": "code",
   "execution_count": 111,
   "metadata": {},
   "outputs": [
    {
     "data": {
      "text/html": [
       "<div>\n",
       "<style scoped>\n",
       "    .dataframe tbody tr th:only-of-type {\n",
       "        vertical-align: middle;\n",
       "    }\n",
       "\n",
       "    .dataframe tbody tr th {\n",
       "        vertical-align: top;\n",
       "    }\n",
       "\n",
       "    .dataframe thead th {\n",
       "        text-align: right;\n",
       "    }\n",
       "</style>\n",
       "<table border=\"1\" class=\"dataframe\">\n",
       "  <thead>\n",
       "    <tr style=\"text-align: right;\">\n",
       "      <th></th>\n",
       "      <th></th>\n",
       "      <th>Begin</th>\n",
       "      <th>Duration</th>\n",
       "      <th>Adds</th>\n",
       "      <th>Products</th>\n",
       "      <th>MeanGap</th>\n",
       "    </tr>\n",
       "    <tr>\n",
       "      <th>IpId</th>\n",
       "      <th>SessionId</th>\n",
       "      <th></th>\n",
       "      <th></th>\n",
       "      <th></th>\n",
       "      <th></th>\n",
       "      <th></th>\n",
       "    </tr>\n",
       "  </thead>\n",
       "  <tbody>\n",
       "    <tr>\n",
       "      <th rowspan=\"5\" valign=\"top\">100180PL</th>\n",
       "      <th>18</th>\n",
       "      <td>22</td>\n",
       "      <td>164.0</td>\n",
       "      <td>0</td>\n",
       "      <td>0</td>\n",
       "      <td>1.640000e+02</td>\n",
       "    </tr>\n",
       "    <tr>\n",
       "      <th>19</th>\n",
       "      <td>19</td>\n",
       "      <td>1207.0</td>\n",
       "      <td>4</td>\n",
       "      <td>3</td>\n",
       "      <td>1.280055e+05</td>\n",
       "    </tr>\n",
       "    <tr>\n",
       "      <th>20</th>\n",
       "      <td>16</td>\n",
       "      <td>4490.0</td>\n",
       "      <td>5</td>\n",
       "      <td>3</td>\n",
       "      <td>1.099243e+04</td>\n",
       "    </tr>\n",
       "    <tr>\n",
       "      <th>21</th>\n",
       "      <td>19</td>\n",
       "      <td>3040.0</td>\n",
       "      <td>6</td>\n",
       "      <td>4</td>\n",
       "      <td>1.075400e+03</td>\n",
       "    </tr>\n",
       "    <tr>\n",
       "      <th>22</th>\n",
       "      <td>19</td>\n",
       "      <td>1727.0</td>\n",
       "      <td>0</td>\n",
       "      <td>0</td>\n",
       "      <td>1.288160e+05</td>\n",
       "    </tr>\n",
       "    <tr>\n",
       "      <th>...</th>\n",
       "      <th>...</th>\n",
       "      <td>...</td>\n",
       "      <td>...</td>\n",
       "      <td>...</td>\n",
       "      <td>...</td>\n",
       "      <td>...</td>\n",
       "    </tr>\n",
       "    <tr>\n",
       "      <th rowspan=\"3\" valign=\"top\">99585PL</th>\n",
       "      <th>40253</th>\n",
       "      <td>19</td>\n",
       "      <td>860.0</td>\n",
       "      <td>0</td>\n",
       "      <td>0</td>\n",
       "      <td>-4.875000e+03</td>\n",
       "    </tr>\n",
       "    <tr>\n",
       "      <th>40254</th>\n",
       "      <td>14</td>\n",
       "      <td>1545.0</td>\n",
       "      <td>4</td>\n",
       "      <td>3</td>\n",
       "      <td>1.014157e+04</td>\n",
       "    </tr>\n",
       "    <tr>\n",
       "      <th>40255</th>\n",
       "      <td>22</td>\n",
       "      <td>0.0</td>\n",
       "      <td>0</td>\n",
       "      <td>0</td>\n",
       "      <td>5.294920e+06</td>\n",
       "    </tr>\n",
       "    <tr>\n",
       "      <th rowspan=\"2\" valign=\"top\">99972PL</th>\n",
       "      <th>40280</th>\n",
       "      <td>20</td>\n",
       "      <td>9.0</td>\n",
       "      <td>0</td>\n",
       "      <td>0</td>\n",
       "      <td>-2.680738e+06</td>\n",
       "    </tr>\n",
       "    <tr>\n",
       "      <th>40281</th>\n",
       "      <td>20</td>\n",
       "      <td>3051.0</td>\n",
       "      <td>4</td>\n",
       "      <td>4</td>\n",
       "      <td>4.569749e+05</td>\n",
       "    </tr>\n",
       "  </tbody>\n",
       "</table>\n",
       "<p>6197 rows × 5 columns</p>\n",
       "</div>"
      ],
      "text/plain": [
       "                    Begin  Duration  Adds  Products       MeanGap\n",
       "IpId     SessionId                                               \n",
       "100180PL 18            22     164.0     0         0  1.640000e+02\n",
       "         19            19    1207.0     4         3  1.280055e+05\n",
       "         20            16    4490.0     5         3  1.099243e+04\n",
       "         21            19    3040.0     6         4  1.075400e+03\n",
       "         22            19    1727.0     0         0  1.288160e+05\n",
       "...                   ...       ...   ...       ...           ...\n",
       "99585PL  40253         19     860.0     0         0 -4.875000e+03\n",
       "         40254         14    1545.0     4         3  1.014157e+04\n",
       "         40255         22       0.0     0         0  5.294920e+06\n",
       "99972PL  40280         20       9.0     0         0 -2.680738e+06\n",
       "         40281         20    3051.0     4         4  4.569749e+05\n",
       "\n",
       "[6197 rows x 5 columns]"
      ]
     },
     "execution_count": 111,
     "metadata": {},
     "output_type": "execute_result"
    }
   ],
   "source": [
    "sessionFeatures"
   ]
  },
  {
   "cell_type": "code",
   "execution_count": 112,
   "metadata": {},
   "outputs": [],
   "source": [
    "userFeatures = sessionFeatures.groupby('IpId').agg([np.mean, np.std])"
   ]
  },
  {
   "cell_type": "code",
   "execution_count": 113,
   "metadata": {},
   "outputs": [
    {
     "data": {
      "text/html": [
       "<div>\n",
       "<style scoped>\n",
       "    .dataframe tbody tr th:only-of-type {\n",
       "        vertical-align: middle;\n",
       "    }\n",
       "\n",
       "    .dataframe tbody tr th {\n",
       "        vertical-align: top;\n",
       "    }\n",
       "\n",
       "    .dataframe thead tr th {\n",
       "        text-align: left;\n",
       "    }\n",
       "\n",
       "    .dataframe thead tr:last-of-type th {\n",
       "        text-align: right;\n",
       "    }\n",
       "</style>\n",
       "<table border=\"1\" class=\"dataframe\">\n",
       "  <thead>\n",
       "    <tr>\n",
       "      <th></th>\n",
       "      <th colspan=\"2\" halign=\"left\">Begin</th>\n",
       "      <th colspan=\"2\" halign=\"left\">Duration</th>\n",
       "      <th colspan=\"2\" halign=\"left\">Adds</th>\n",
       "      <th colspan=\"2\" halign=\"left\">Products</th>\n",
       "      <th colspan=\"2\" halign=\"left\">MeanGap</th>\n",
       "    </tr>\n",
       "    <tr>\n",
       "      <th></th>\n",
       "      <th>mean</th>\n",
       "      <th>std</th>\n",
       "      <th>mean</th>\n",
       "      <th>std</th>\n",
       "      <th>mean</th>\n",
       "      <th>std</th>\n",
       "      <th>mean</th>\n",
       "      <th>std</th>\n",
       "      <th>mean</th>\n",
       "      <th>std</th>\n",
       "    </tr>\n",
       "    <tr>\n",
       "      <th>IpId</th>\n",
       "      <th></th>\n",
       "      <th></th>\n",
       "      <th></th>\n",
       "      <th></th>\n",
       "      <th></th>\n",
       "      <th></th>\n",
       "      <th></th>\n",
       "      <th></th>\n",
       "      <th></th>\n",
       "      <th></th>\n",
       "    </tr>\n",
       "  </thead>\n",
       "  <tbody>\n",
       "    <tr>\n",
       "      <th>100180PL</th>\n",
       "      <td>19.300000</td>\n",
       "      <td>2.773939</td>\n",
       "      <td>797.450000</td>\n",
       "      <td>1189.988920</td>\n",
       "      <td>0.750000</td>\n",
       "      <td>1.860249</td>\n",
       "      <td>0.500000</td>\n",
       "      <td>1.235442</td>\n",
       "      <td>3.956187e+04</td>\n",
       "      <td>4.774225e+04</td>\n",
       "    </tr>\n",
       "    <tr>\n",
       "      <th>100186PL</th>\n",
       "      <td>21.400000</td>\n",
       "      <td>1.949359</td>\n",
       "      <td>443.400000</td>\n",
       "      <td>779.534990</td>\n",
       "      <td>2.400000</td>\n",
       "      <td>5.366563</td>\n",
       "      <td>0.600000</td>\n",
       "      <td>1.341641</td>\n",
       "      <td>2.512270e+05</td>\n",
       "      <td>1.040830e+06</td>\n",
       "    </tr>\n",
       "    <tr>\n",
       "      <th>1005PL</th>\n",
       "      <td>10.600000</td>\n",
       "      <td>6.308724</td>\n",
       "      <td>373.400000</td>\n",
       "      <td>834.947783</td>\n",
       "      <td>2.000000</td>\n",
       "      <td>4.472136</td>\n",
       "      <td>1.200000</td>\n",
       "      <td>2.683282</td>\n",
       "      <td>1.263408e+06</td>\n",
       "      <td>1.455665e+06</td>\n",
       "    </tr>\n",
       "    <tr>\n",
       "      <th>10103PL</th>\n",
       "      <td>14.714286</td>\n",
       "      <td>5.345225</td>\n",
       "      <td>265.285714</td>\n",
       "      <td>457.075747</td>\n",
       "      <td>0.428571</td>\n",
       "      <td>0.534522</td>\n",
       "      <td>0.428571</td>\n",
       "      <td>0.534522</td>\n",
       "      <td>-5.824762e+02</td>\n",
       "      <td>2.208019e+06</td>\n",
       "    </tr>\n",
       "    <tr>\n",
       "      <th>101061PL</th>\n",
       "      <td>8.000000</td>\n",
       "      <td>NaN</td>\n",
       "      <td>4651.000000</td>\n",
       "      <td>NaN</td>\n",
       "      <td>23.000000</td>\n",
       "      <td>NaN</td>\n",
       "      <td>12.000000</td>\n",
       "      <td>NaN</td>\n",
       "      <td>-1.243035e+05</td>\n",
       "      <td>NaN</td>\n",
       "    </tr>\n",
       "    <tr>\n",
       "      <th>...</th>\n",
       "      <td>...</td>\n",
       "      <td>...</td>\n",
       "      <td>...</td>\n",
       "      <td>...</td>\n",
       "      <td>...</td>\n",
       "      <td>...</td>\n",
       "      <td>...</td>\n",
       "      <td>...</td>\n",
       "      <td>...</td>\n",
       "      <td>...</td>\n",
       "    </tr>\n",
       "    <tr>\n",
       "      <th>98804PL</th>\n",
       "      <td>14.000000</td>\n",
       "      <td>NaN</td>\n",
       "      <td>12759.000000</td>\n",
       "      <td>NaN</td>\n",
       "      <td>3.000000</td>\n",
       "      <td>NaN</td>\n",
       "      <td>3.000000</td>\n",
       "      <td>NaN</td>\n",
       "      <td>1.480286e+03</td>\n",
       "      <td>NaN</td>\n",
       "    </tr>\n",
       "    <tr>\n",
       "      <th>9881PL</th>\n",
       "      <td>9.722222</td>\n",
       "      <td>1.934381</td>\n",
       "      <td>101.833333</td>\n",
       "      <td>178.095232</td>\n",
       "      <td>0.166667</td>\n",
       "      <td>0.383482</td>\n",
       "      <td>0.166667</td>\n",
       "      <td>0.383482</td>\n",
       "      <td>2.095709e+05</td>\n",
       "      <td>4.529707e+05</td>\n",
       "    </tr>\n",
       "    <tr>\n",
       "      <th>99321PL</th>\n",
       "      <td>19.000000</td>\n",
       "      <td>2.000000</td>\n",
       "      <td>1755.333333</td>\n",
       "      <td>1282.497693</td>\n",
       "      <td>5.666667</td>\n",
       "      <td>6.027714</td>\n",
       "      <td>2.666667</td>\n",
       "      <td>2.516611</td>\n",
       "      <td>-2.399559e+05</td>\n",
       "      <td>4.184212e+05</td>\n",
       "    </tr>\n",
       "    <tr>\n",
       "      <th>99585PL</th>\n",
       "      <td>18.333333</td>\n",
       "      <td>4.041452</td>\n",
       "      <td>801.666667</td>\n",
       "      <td>774.150072</td>\n",
       "      <td>1.333333</td>\n",
       "      <td>2.309401</td>\n",
       "      <td>1.000000</td>\n",
       "      <td>1.732051</td>\n",
       "      <td>1.766729e+06</td>\n",
       "      <td>3.055512e+06</td>\n",
       "    </tr>\n",
       "    <tr>\n",
       "      <th>99972PL</th>\n",
       "      <td>20.000000</td>\n",
       "      <td>0.000000</td>\n",
       "      <td>1530.000000</td>\n",
       "      <td>2151.018828</td>\n",
       "      <td>2.000000</td>\n",
       "      <td>2.828427</td>\n",
       "      <td>2.000000</td>\n",
       "      <td>2.828427</td>\n",
       "      <td>-1.111882e+06</td>\n",
       "      <td>2.218698e+06</td>\n",
       "    </tr>\n",
       "  </tbody>\n",
       "</table>\n",
       "<p>1405 rows × 10 columns</p>\n",
       "</div>"
      ],
      "text/plain": [
       "              Begin                Duration                    Adds            \\\n",
       "               mean       std          mean          std       mean       std   \n",
       "IpId                                                                            \n",
       "100180PL  19.300000  2.773939    797.450000  1189.988920   0.750000  1.860249   \n",
       "100186PL  21.400000  1.949359    443.400000   779.534990   2.400000  5.366563   \n",
       "1005PL    10.600000  6.308724    373.400000   834.947783   2.000000  4.472136   \n",
       "10103PL   14.714286  5.345225    265.285714   457.075747   0.428571  0.534522   \n",
       "101061PL   8.000000       NaN   4651.000000          NaN  23.000000       NaN   \n",
       "...             ...       ...           ...          ...        ...       ...   \n",
       "98804PL   14.000000       NaN  12759.000000          NaN   3.000000       NaN   \n",
       "9881PL     9.722222  1.934381    101.833333   178.095232   0.166667  0.383482   \n",
       "99321PL   19.000000  2.000000   1755.333333  1282.497693   5.666667  6.027714   \n",
       "99585PL   18.333333  4.041452    801.666667   774.150072   1.333333  2.309401   \n",
       "99972PL   20.000000  0.000000   1530.000000  2151.018828   2.000000  2.828427   \n",
       "\n",
       "           Products                 MeanGap                \n",
       "               mean       std          mean           std  \n",
       "IpId                                                       \n",
       "100180PL   0.500000  1.235442  3.956187e+04  4.774225e+04  \n",
       "100186PL   0.600000  1.341641  2.512270e+05  1.040830e+06  \n",
       "1005PL     1.200000  2.683282  1.263408e+06  1.455665e+06  \n",
       "10103PL    0.428571  0.534522 -5.824762e+02  2.208019e+06  \n",
       "101061PL  12.000000       NaN -1.243035e+05           NaN  \n",
       "...             ...       ...           ...           ...  \n",
       "98804PL    3.000000       NaN  1.480286e+03           NaN  \n",
       "9881PL     0.166667  0.383482  2.095709e+05  4.529707e+05  \n",
       "99321PL    2.666667  2.516611 -2.399559e+05  4.184212e+05  \n",
       "99585PL    1.000000  1.732051  1.766729e+06  3.055512e+06  \n",
       "99972PL    2.000000  2.828427 -1.111882e+06  2.218698e+06  \n",
       "\n",
       "[1405 rows x 10 columns]"
      ]
     },
     "execution_count": 113,
     "metadata": {},
     "output_type": "execute_result"
    }
   ],
   "source": [
    "userFeatures"
   ]
  },
  {
   "cell_type": "code",
   "execution_count": 120,
   "metadata": {},
   "outputs": [
    {
     "data": {
      "text/plain": [
       "array([[1.06000000e+01, 6.30872412e+00, 3.73400000e+02, 8.34947783e+02,\n",
       "        2.00000000e+00, 4.47213595e+00, 1.20000000e+00, 2.68328157e+00,\n",
       "        1.26340845e+06, 1.45566492e+06]])"
      ]
     },
     "execution_count": 120,
     "metadata": {},
     "output_type": "execute_result"
    }
   ],
   "source": [
    "userFeatures[userFeatures.index=='1005PL'].values"
   ]
  },
  {
   "cell_type": "code",
   "execution_count": 122,
   "metadata": {
    "scrolled": true
   },
   "outputs": [
    {
     "data": {
      "text/plain": [
       "array([1.06000000e+01, 6.30872412e+00, 3.73400000e+02, 8.34947783e+02,\n",
       "       2.00000000e+00, 4.47213595e+00, 1.20000000e+00, 2.68328157e+00,\n",
       "       1.26340845e+06, 1.45566492e+06])"
      ]
     },
     "execution_count": 122,
     "metadata": {},
     "output_type": "execute_result"
    }
   ],
   "source": [
    "np.concatenate((userFeatures[userFeatures.index=='1005PL'].values, userFeatures[userFeatures.index=='99585PL'].values))"
   ]
  },
  {
   "cell_type": "code",
   "execution_count": 128,
   "metadata": {},
   "outputs": [],
   "source": [
    "userLookup = pd.Series(userBaskets.index)"
   ]
  },
  {
   "cell_type": "code",
   "execution_count": 154,
   "metadata": {},
   "outputs": [],
   "source": [
    "user_pairs = itertools.product(userFeatures.values, repeat=2)"
   ]
  },
  {
   "cell_type": "code",
   "execution_count": 133,
   "metadata": {},
   "outputs": [],
   "source": [
    "activeIpIds = userBaskets.index"
   ]
  },
  {
   "cell_type": "code",
   "execution_count": 182,
   "metadata": {},
   "outputs": [],
   "source": [
    "def customRound(x):\n",
    "    if x > 0.1:\n",
    "        return 1\n",
    "    else:\n",
    "        return 0"
   ]
  },
  {
   "cell_type": "code",
   "execution_count": 231,
   "metadata": {},
   "outputs": [],
   "source": [
    "vcRound = np.vectorize(customRound)"
   ]
  },
  {
   "cell_type": "code",
   "execution_count": 186,
   "metadata": {},
   "outputs": [],
   "source": [
    "simRound = vcRound(user_cosSim)"
   ]
  },
  {
   "cell_type": "code",
   "execution_count": 189,
   "metadata": {},
   "outputs": [],
   "source": [
    "def getSim(x):\n",
    "    return simRound[userLookup[userLookup==x[0]].index[0], userLookup[userLookup==x[1]].index[0]]"
   ]
  },
  {
   "cell_type": "code",
   "execution_count": 191,
   "metadata": {},
   "outputs": [],
   "source": [
    "labels = map(getSim, itertools.product(activeIpIds, repeat=2))"
   ]
  },
  {
   "cell_type": "code",
   "execution_count": 307,
   "metadata": {},
   "outputs": [],
   "source": [
    "class SiameseNetwork(tf.keras.Model):\n",
    "    \n",
    "    def __init__(self):\n",
    "        super(SiameseNetwork, self).__init__()\n",
    "        \n",
    "        self.model = tf.keras.Sequential([\n",
    "            tf.keras.layers.Dense(10, input_shape=(10,), activation=tf.nn.leaky_relu),\n",
    "            tf.keras.layers.Dense(10, input_shape=(10,), activation=tf.nn.leaky_relu),\n",
    "            tf.keras.layers.Dense(2, activation=tf.nn.leaky_relu)\n",
    "        ])\n",
    "        \n",
    "    @staticmethod\n",
    "    def pairwise_cosine_sim(y1, y2):\n",
    "        \n",
    "        y1_norm = tf.nn.l2_normalize(y1, 1)\n",
    "        y2_norm = tf.nn.l2_normalize(y2, 1)\n",
    "        return tf.matmul(y1_norm, y2_norm, transpose_b=True)\n",
    "    \n",
    "    @tf.function\n",
    "    def call(self, x1, x2):\n",
    "        \n",
    "        y1 = self.model(x1)\n",
    "        y2 = self.model(x2)\n",
    "        return tf.reshape(tf.linalg.diag_part(self.pairwise_cosine_sim(y1, y2)), [1,-1])"
   ]
  },
  {
   "cell_type": "code",
   "execution_count": 308,
   "metadata": {},
   "outputs": [],
   "source": [
    "model = SiameseNetwork()"
   ]
  },
  {
   "cell_type": "code",
   "execution_count": 302,
   "metadata": {},
   "outputs": [],
   "source": [
    "user_pairs_small = np.array(list(itertools.product(userFeatures.head().values, repeat=2)))"
   ]
  },
  {
   "cell_type": "code",
   "execution_count": 303,
   "metadata": {},
   "outputs": [
    {
     "data": {
      "text/plain": [
       "<tf.Tensor: shape=(1, 25), dtype=float32, numpy=\n",
       "array([[0.9999999 , 0.9970128 , 0.99999994, 0.9948714 ,        nan,\n",
       "        0.9970128 , 1.0000002 , 0.99700654, 0.99971193,        nan,\n",
       "        0.99999994, 0.99700654, 0.99999994, 0.99486315,        nan,\n",
       "        0.9948714 , 0.99971193, 0.99486315, 0.99999994,        nan,\n",
       "               nan,        nan,        nan,        nan,        nan]],\n",
       "      dtype=float32)>"
      ]
     },
     "execution_count": 303,
     "metadata": {},
     "output_type": "execute_result"
    }
   ],
   "source": [
    "model(user_pairs_small[:,0],user_pairs_small[:,1])"
   ]
  },
  {
   "cell_type": "code",
   "execution_count": 279,
   "metadata": {},
   "outputs": [],
   "source": [
    "activeIpIds_small = userBaskets.head().index\n",
    "labels_small = list(map(getSim, itertools.product(activeIpIds_small, repeat=2)))"
   ]
  },
  {
   "cell_type": "code",
   "execution_count": 297,
   "metadata": {},
   "outputs": [
    {
     "name": "stdout",
     "output_type": "stream",
     "text": [
      "(25, 2, 10)\n",
      "25\n"
     ]
    }
   ],
   "source": [
    "print(user_pairs_small.shape)\n",
    "print(len(labels_small))"
   ]
  },
  {
   "cell_type": "code",
   "execution_count": 201,
   "metadata": {},
   "outputs": [],
   "source": [
    "def contrastive_loss(cos_similarity, label, margin=1.0):\n",
    "    \"\"\"Contrastive loss function\n",
    "    \"\"\"\n",
    "    distance = 1.0 - cos_similarity\n",
    "    similarity = label * distance                                           \n",
    "    dissimilarity = (1 - label) * tf.square(tf.maximum((margin - distance), 0))\n",
    "    return 0.5 * tf.reduce_mean(dissimilarity + similarity)"
   ]
  },
  {
   "cell_type": "code",
   "execution_count": 289,
   "metadata": {},
   "outputs": [
    {
     "data": {
      "text/plain": [
       "array([[1.93000000e+01, 2.77393887e+00, 7.97450000e+02, 1.18998892e+03,\n",
       "        7.50000000e-01, 1.86024899e+00, 5.00000000e-01, 1.23544154e+00,\n",
       "        3.95618664e+04, 4.77422453e+04]])"
      ]
     },
     "execution_count": 289,
     "metadata": {},
     "output_type": "execute_result"
    }
   ],
   "source": [
    "user_pairs_small[:,0][0].reshape(1,-1)"
   ]
  },
  {
   "cell_type": "code",
   "execution_count": 304,
   "metadata": {},
   "outputs": [
    {
     "data": {
      "text/plain": [
       "<tf.Tensor: shape=(1, 1), dtype=float32, numpy=array([[0.99701273]], dtype=float32)>"
      ]
     },
     "execution_count": 304,
     "metadata": {},
     "output_type": "execute_result"
    }
   ],
   "source": [
    "model(user_pairs_small[:,0][1].reshape(1,-1), \n",
    "                                      user_pairs_small[:,1][1].reshape(1,-1))"
   ]
  },
  {
   "cell_type": "code",
   "execution_count": 305,
   "metadata": {},
   "outputs": [
    {
     "data": {
      "text/plain": [
       "<tf.Tensor: shape=(), dtype=float32, numpy=0.0>"
      ]
     },
     "execution_count": 305,
     "metadata": {},
     "output_type": "execute_result"
    }
   ],
   "source": [
    "contrastive_loss(model(user_pairs_small[:,0][0].reshape(1,-1), \n",
    "                                      user_pairs_small[:,1][0].reshape(1,-1)), \n",
    "                                labels_small[0], margin=1.0)"
   ]
  },
  {
   "cell_type": "code",
   "execution_count": 310,
   "metadata": {
    "scrolled": true
   },
   "outputs": [
    {
     "name": "stdout",
     "output_type": "stream",
     "text": [
      "tf.Tensor(nan, shape=(), dtype=float32)\n",
      "tf.Tensor(nan, shape=(), dtype=float32)\n",
      "tf.Tensor(nan, shape=(), dtype=float32)\n",
      "tf.Tensor(nan, shape=(), dtype=float32)\n",
      "tf.Tensor(nan, shape=(), dtype=float32)\n",
      "tf.Tensor(nan, shape=(), dtype=float32)\n",
      "tf.Tensor(nan, shape=(), dtype=float32)\n",
      "tf.Tensor(nan, shape=(), dtype=float32)\n",
      "tf.Tensor(nan, shape=(), dtype=float32)\n",
      "tf.Tensor(nan, shape=(), dtype=float32)\n",
      "tf.Tensor(nan, shape=(), dtype=float32)\n",
      "tf.Tensor(nan, shape=(), dtype=float32)\n",
      "tf.Tensor(nan, shape=(), dtype=float32)\n",
      "tf.Tensor(nan, shape=(), dtype=float32)\n",
      "tf.Tensor(nan, shape=(), dtype=float32)\n",
      "tf.Tensor(nan, shape=(), dtype=float32)\n",
      "tf.Tensor(nan, shape=(), dtype=float32)\n",
      "tf.Tensor(nan, shape=(), dtype=float32)\n",
      "tf.Tensor(nan, shape=(), dtype=float32)\n",
      "tf.Tensor(nan, shape=(), dtype=float32)\n",
      "tf.Tensor(nan, shape=(), dtype=float32)\n",
      "tf.Tensor(nan, shape=(), dtype=float32)\n",
      "tf.Tensor(nan, shape=(), dtype=float32)\n",
      "tf.Tensor(nan, shape=(), dtype=float32)\n",
      "tf.Tensor(nan, shape=(), dtype=float32)\n"
     ]
    }
   ],
   "source": [
    "for j in range(len(labels_small)):\n",
    "               print(contrastive_loss(model(user_pairs_small[:,0][j].reshape(1,-1), \n",
    "                                      user_pairs_small[:,1][j].reshape(1,-1)), \n",
    "                                labels_small[j], margin=1.0))"
   ]
  },
  {
   "cell_type": "code",
   "execution_count": 309,
   "metadata": {},
   "outputs": [
    {
     "name": "stdout",
     "output_type": "stream",
     "text": [
      "Epoch 000: Loss: nan Accuraccy: 0.200\n",
      "Epoch 001: Loss: nan Accuraccy: 1.000\n",
      "Epoch 002: Loss: nan Accuraccy: 1.000\n",
      "Epoch 003: Loss: nan Accuraccy: 1.000\n",
      "Epoch 004: Loss: nan Accuraccy: 1.000\n",
      "Epoch 005: Loss: nan Accuraccy: 1.000\n",
      "Epoch 006: Loss: nan Accuraccy: 1.000\n",
      "Epoch 007: Loss: nan Accuraccy: 1.000\n",
      "Epoch 008: Loss: nan Accuraccy: 1.000\n",
      "Epoch 009: Loss: nan Accuraccy: 1.000\n"
     ]
    }
   ],
   "source": [
    "epochs = 10\n",
    "optimizer = tf.keras.optimizers.Adam(learning_rate=1e-3)\n",
    "for epoch in range(epochs):\n",
    "    accuracy = tf.keras.metrics.BinaryAccuracy()\n",
    "    epoch_loss = tf.keras.metrics.Mean()\n",
    "    for j in range(len(labels_small)):\n",
    "        with tf.GradientTape() as tape:\n",
    "            user_similarity = model(user_pairs_small[:,0][j].reshape(1,-1), user_pairs_small[:,0][j].reshape(1,-1))\n",
    "            loss = contrastive_loss(user_similarity, labels_small[j], margin=1.0)\n",
    "            grad = tape.gradient(loss, model.trainable_variables)\n",
    "        optimizer.apply_gradients(zip(grad, model.trainable_variables))\n",
    "        epoch_loss.update_state(loss)\n",
    "        accuracy.update_state(tf.reshape(label, (1,-1)), user_similarity)\n",
    "        \n",
    "    print(\n",
    "        \"Epoch {:03d}: Loss: {:.3f} Accuraccy: {:.3f}\".format(\n",
    "            epoch,\n",
    "            epoch_loss.result(),\n",
    "            accuracy.result()\n",
    "        )    \n",
    "    )"
   ]
  },
  {
   "cell_type": "code",
   "execution_count": null,
   "metadata": {},
   "outputs": [],
   "source": []
  },
  {
   "cell_type": "code",
   "execution_count": null,
   "metadata": {},
   "outputs": [],
   "source": []
  },
  {
   "cell_type": "code",
   "execution_count": null,
   "metadata": {},
   "outputs": [],
   "source": []
  },
  {
   "cell_type": "markdown",
   "metadata": {},
   "source": [
    "First we create a session_item table. It is our assumption that the most useful recommendations stem from looking at products purchased together in the same session, rather than simply by the same user. We will do user_item later."
   ]
  },
  {
   "cell_type": "code",
   "execution_count": 6,
   "metadata": {
    "scrolled": true
   },
   "outputs": [
    {
     "name": "stdout",
     "output_type": "stream",
     "text": [
      "(8401, 1)\n"
     ]
    }
   ],
   "source": [
    "withProduct = train[~train['Product'].isnull()]\n",
    "session_item = pd.DataFrame(withProduct.groupby('SessionId')['Product'].apply(set))\n",
    "print(session_item.shape)"
   ]
  },
  {
   "cell_type": "code",
   "execution_count": 7,
   "metadata": {},
   "outputs": [],
   "source": [
    "def non_overlap_pair(kind, s1, s2, included=None):\n",
    "    if not included:\n",
    "        return (\n",
    "            (kind, key[0], key[1], 1) \n",
    "            for key in itertools.product(s1, s2)  \n",
    "            if key[0]!=key[1]\n",
    "        )\n",
    "    else:\n",
    "        return (\n",
    "            (kind, key[0], key[1], 1) \n",
    "            for key in itertools.product(s1, s2)  \n",
    "            if (key[0]!=key[1]) and (key in included)\n",
    "        )"
   ]
  },
  {
   "cell_type": "code",
   "execution_count": 8,
   "metadata": {},
   "outputs": [
    {
     "name": "stdout",
     "output_type": "stream",
     "text": [
      "33.04260587692261\n"
     ]
    },
    {
     "data": {
      "text/html": [
       "<div>\n",
       "<style scoped>\n",
       "    .dataframe tbody tr th:only-of-type {\n",
       "        vertical-align: middle;\n",
       "    }\n",
       "\n",
       "    .dataframe tbody tr th {\n",
       "        vertical-align: top;\n",
       "    }\n",
       "\n",
       "    .dataframe thead tr th {\n",
       "        text-align: left;\n",
       "    }\n",
       "\n",
       "    .dataframe thead tr:last-of-type th {\n",
       "        text-align: right;\n",
       "    }\n",
       "</style>\n",
       "<table border=\"1\" class=\"dataframe\">\n",
       "  <thead>\n",
       "    <tr>\n",
       "      <th></th>\n",
       "      <th></th>\n",
       "      <th colspan=\"3\" halign=\"left\">freq</th>\n",
       "    </tr>\n",
       "    <tr>\n",
       "      <th></th>\n",
       "      <th>kind</th>\n",
       "      <th>0</th>\n",
       "      <th>1</th>\n",
       "      <th>2</th>\n",
       "    </tr>\n",
       "    <tr>\n",
       "      <th>item1</th>\n",
       "      <th>item2</th>\n",
       "      <th></th>\n",
       "      <th></th>\n",
       "      <th></th>\n",
       "    </tr>\n",
       "  </thead>\n",
       "  <tbody>\n",
       "    <tr>\n",
       "      <th rowspan=\"5\" valign=\"top\">c-21</th>\n",
       "      <th>c-24_205</th>\n",
       "      <td>1.0</td>\n",
       "      <td>53.0</td>\n",
       "      <td>10.0</td>\n",
       "    </tr>\n",
       "    <tr>\n",
       "      <th>c-24_209</th>\n",
       "      <td>1.0</td>\n",
       "      <td>53.0</td>\n",
       "      <td>14.0</td>\n",
       "    </tr>\n",
       "    <tr>\n",
       "      <th>c-24_211</th>\n",
       "      <td>1.0</td>\n",
       "      <td>53.0</td>\n",
       "      <td>1.0</td>\n",
       "    </tr>\n",
       "    <tr>\n",
       "      <th>c-261</th>\n",
       "      <td>2.0</td>\n",
       "      <td>52.0</td>\n",
       "      <td>21.0</td>\n",
       "    </tr>\n",
       "    <tr>\n",
       "      <th>c-272_312</th>\n",
       "      <td>2.0</td>\n",
       "      <td>52.0</td>\n",
       "      <td>54.0</td>\n",
       "    </tr>\n",
       "  </tbody>\n",
       "</table>\n",
       "</div>"
      ],
      "text/plain": [
       "                freq            \n",
       "kind               0     1     2\n",
       "item1 item2                     \n",
       "c-21  c-24_205   1.0  53.0  10.0\n",
       "      c-24_209   1.0  53.0  14.0\n",
       "      c-24_211   1.0  53.0   1.0\n",
       "      c-261      2.0  52.0  21.0\n",
       "      c-272_312  2.0  52.0  54.0"
      ]
     },
     "execution_count": 8,
     "metadata": {},
     "output_type": "execute_result"
    }
   ],
   "source": [
    "start = time.time()\n",
    "lst = session_item[\"Product\"].to_list()\n",
    "num_sessions = session_item.shape[0]\n",
    "all_item = set(items)\n",
    "\n",
    "both = itertools.chain(\n",
    "    *(\n",
    "        non_overlap_pair(0, u_item, u_item) \n",
    "        for u_item in lst\n",
    "    ))\n",
    "\n",
    "\n",
    "included = set(itertools.chain(\n",
    "    *(\n",
    "        (key for key in itertools.product(u_item, u_item) if key[0]!=key[1])\n",
    "        for u_item in lst \n",
    "    )))\n",
    "\n",
    "\n",
    "first = itertools.chain(\n",
    "    *(\n",
    "        non_overlap_pair(1, u_item, all_item-u_item, included) \n",
    "        for u_item in lst\n",
    "    ))\n",
    "\n",
    "\n",
    "second = itertools.chain(\n",
    "    *(\n",
    "        non_overlap_pair(2, all_item-u_item, u_item, included) \n",
    "        for u_item in lst\n",
    "    ))\n",
    "\n",
    "itemCooc = pd.DataFrame(\n",
    "    itertools.chain(first, second, both), columns=[\"kind\", \"item1\", \"item2\", \"freq\"])\n",
    "itemCooc = itemCooc.groupby([\"kind\", \"item1\", \"item2\"]).sum()\n",
    "itemCooc = itemCooc.unstack(0)\n",
    "print( time.time() - start)\n",
    "itemCooc.head()"
   ]
  },
  {
   "cell_type": "code",
   "execution_count": 9,
   "metadata": {},
   "outputs": [
    {
     "data": {
      "text/html": [
       "<div>\n",
       "<style scoped>\n",
       "    .dataframe tbody tr th:only-of-type {\n",
       "        vertical-align: middle;\n",
       "    }\n",
       "\n",
       "    .dataframe tbody tr th {\n",
       "        vertical-align: top;\n",
       "    }\n",
       "\n",
       "    .dataframe thead tr th {\n",
       "        text-align: left;\n",
       "    }\n",
       "\n",
       "    .dataframe thead tr:last-of-type th {\n",
       "        text-align: right;\n",
       "    }\n",
       "</style>\n",
       "<table border=\"1\" class=\"dataframe\">\n",
       "  <thead>\n",
       "    <tr>\n",
       "      <th></th>\n",
       "      <th></th>\n",
       "      <th colspan=\"4\" halign=\"left\">freq</th>\n",
       "    </tr>\n",
       "    <tr>\n",
       "      <th></th>\n",
       "      <th>kind</th>\n",
       "      <th>0</th>\n",
       "      <th>1</th>\n",
       "      <th>2</th>\n",
       "      <th>3</th>\n",
       "    </tr>\n",
       "    <tr>\n",
       "      <th>item1</th>\n",
       "      <th>item2</th>\n",
       "      <th></th>\n",
       "      <th></th>\n",
       "      <th></th>\n",
       "      <th></th>\n",
       "    </tr>\n",
       "  </thead>\n",
       "  <tbody>\n",
       "    <tr>\n",
       "      <th rowspan=\"5\" valign=\"top\">c-21</th>\n",
       "      <th>c-24_205</th>\n",
       "      <td>1.0</td>\n",
       "      <td>53.0</td>\n",
       "      <td>10.0</td>\n",
       "      <td>8337.0</td>\n",
       "    </tr>\n",
       "    <tr>\n",
       "      <th>c-24_209</th>\n",
       "      <td>1.0</td>\n",
       "      <td>53.0</td>\n",
       "      <td>14.0</td>\n",
       "      <td>8333.0</td>\n",
       "    </tr>\n",
       "    <tr>\n",
       "      <th>c-24_211</th>\n",
       "      <td>1.0</td>\n",
       "      <td>53.0</td>\n",
       "      <td>1.0</td>\n",
       "      <td>8346.0</td>\n",
       "    </tr>\n",
       "    <tr>\n",
       "      <th>c-261</th>\n",
       "      <td>2.0</td>\n",
       "      <td>52.0</td>\n",
       "      <td>21.0</td>\n",
       "      <td>8326.0</td>\n",
       "    </tr>\n",
       "    <tr>\n",
       "      <th>c-272_312</th>\n",
       "      <td>2.0</td>\n",
       "      <td>52.0</td>\n",
       "      <td>54.0</td>\n",
       "      <td>8293.0</td>\n",
       "    </tr>\n",
       "  </tbody>\n",
       "</table>\n",
       "</div>"
      ],
      "text/plain": [
       "                freq                    \n",
       "kind               0     1     2       3\n",
       "item1 item2                             \n",
       "c-21  c-24_205   1.0  53.0  10.0  8337.0\n",
       "      c-24_209   1.0  53.0  14.0  8333.0\n",
       "      c-24_211   1.0  53.0   1.0  8346.0\n",
       "      c-261      2.0  52.0  21.0  8326.0\n",
       "      c-272_312  2.0  52.0  54.0  8293.0"
      ]
     },
     "execution_count": 9,
     "metadata": {},
     "output_type": "execute_result"
    }
   ],
   "source": [
    "itemCooc[('freq', 3)] = num_sessions - itemCooc[('freq', 0)] - itemCooc[('freq', 1)] - itemCooc[('freq', 2)]\n",
    "itemCooc.head()"
   ]
  },
  {
   "cell_type": "code",
   "execution_count": 10,
   "metadata": {
    "scrolled": true
   },
   "outputs": [],
   "source": [
    "# itemCooc[('freq',0)].value_counts()"
   ]
  },
  {
   "cell_type": "code",
   "execution_count": 11,
   "metadata": {},
   "outputs": [],
   "source": [
    "def shannon(v):\n",
    "    S = np.sum(v)\n",
    "    return np.dot(v/S,np.log(np.add(v/S,v==0)))"
   ]
  },
  {
   "cell_type": "code",
   "execution_count": 12,
   "metadata": {},
   "outputs": [],
   "source": [
    "def llr(x):\n",
    "    v = np.array([x[('freq', 0)], x[('freq', 1)], x[('freq', 2)], x[('freq', 3)]])\n",
    "    return 2*np.sum(v)*(shannon(v) - \\\n",
    "                        shannon([v[0]+v[1], v[2]+v[3]]) - \\\n",
    "                        shannon([v[0]+v[2], v[1]+v[3]])\n",
    "                       )"
   ]
  },
  {
   "cell_type": "code",
   "execution_count": 13,
   "metadata": {},
   "outputs": [
    {
     "data": {
      "text/plain": [
       "item1  item2    \n",
       "c-21   c-24_205     3.537431\n",
       "       c-24_209     2.942233\n",
       "       c-24_211     7.352830\n",
       "       c-261        6.933982\n",
       "       c-272_312    3.679396\n",
       "dtype: float64"
      ]
     },
     "execution_count": 13,
     "metadata": {},
     "output_type": "execute_result"
    }
   ],
   "source": [
    "itemCooc_llr = itemCooc.apply(lambda x: llr(x), axis=1)\n",
    "itemCooc_llr.head()"
   ]
  },
  {
   "cell_type": "code",
   "execution_count": 43,
   "metadata": {
    "scrolled": true
   },
   "outputs": [],
   "source": [
    "llrDf = pd.DataFrame(itemCooc_llr).rename(columns={0:'Llr'}).dropna().reset_index()"
   ]
  },
  {
   "cell_type": "code",
   "execution_count": 51,
   "metadata": {},
   "outputs": [
    {
     "data": {
      "text/plain": [
       "21      c-61\n",
       "51    p-3631\n",
       "Name: item2, dtype: object"
      ]
     },
     "execution_count": 51,
     "metadata": {},
     "output_type": "execute_result"
    }
   ],
   "source": [
    "llrDf[llrDf['item1']=='c-21'].sort_values('Llr', ascending=False).head(2)['item2']"
   ]
  }
 ],
 "metadata": {
  "kernelspec": {
   "display_name": "Python 3",
   "language": "python",
   "name": "python3"
  },
  "language_info": {
   "codemirror_mode": {
    "name": "ipython",
    "version": 3
   },
   "file_extension": ".py",
   "mimetype": "text/x-python",
   "name": "python",
   "nbconvert_exporter": "python",
   "pygments_lexer": "ipython3",
   "version": "3.8.5"
  }
 },
 "nbformat": 4,
 "nbformat_minor": 4
}
